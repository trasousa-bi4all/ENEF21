{
 "cells": [
  {
   "cell_type": "markdown",
   "metadata": {},
   "source": [
    "<center>\n",
    "<h1>Introduction to Deep Learning with Keras</h1>\n",
    "<h3>Tiago Vale</h3>\n",
    "<h4>Adapted from a tutorial by Michela Paganini</h4>\n",
    "</center>\n"
   ]
  },
  {
   "cell_type": "markdown",
   "metadata": {},
   "source": [
    "This is the first of two notebooks for today's tutorial. You will find the second one <a href=\"deeplearning_intro.ipynb\">here</a>."
   ]
  },
  {
   "cell_type": "markdown",
   "metadata": {},
   "source": [
    "## What is Deep Learning?"
   ]
  },
  {
   "cell_type": "markdown",
   "metadata": {},
   "source": [
    "> <i>Deep learning is a particular kind of machine learning that achieves great power and ﬂexibility by learning to represent the world as a nested hierarchy of concepts, with each concept deﬁned in relation to simpler concepts, and more abstract representations computed in terms of less abstract ones.</i>\n",
    "\n",
    "<div align=\"right\">\n",
    "  I. Goodfellow, Y. Bengio, and A. Courville, \"Deep Learning\", MIT Press, 2016. <br>\n",
    "  http://www.deeplearningbook.org/\n",
    "</div>"
   ]
  },
  {
   "cell_type": "markdown",
   "metadata": {},
   "source": [
    "#### Representation Learning"
   ]
  },
  {
   "cell_type": "markdown",
   "metadata": {},
   "source": [
    "> <i>Use machine learning to discover not only the mapping from representation to output but also the representation itself. </i>\n",
    "\n",
    "<div align=\"right\">\n",
    "  I. Goodfellow, Y. Bengio, and A. Courville, \"Deep Learning\", MIT Press, 2016. <br>\n",
    "  http://www.deeplearningbook.org/\n",
    "</div>"
   ]
  },
  {
   "cell_type": "markdown",
   "metadata": {},
   "source": [
    "*e.g.*:\n",
    "* What’s 1753 + 131?\n",
    "* What’s MMXVII - MCMXCI?"
   ]
  },
  {
   "cell_type": "markdown",
   "metadata": {},
   "source": [
    "Our goal: \n",
    "> Learn a function that maps a set of raw electrical signals from the detector all the way to particle identification\n",
    "\n",
    "From D. Whiteson:\n",
    "<img src=\"./images/dwhiteson.jpg\">\n",
    "Deep learning tackles this by breaking down the task into a series of nested and simpler mappings, which can be described by each different layer of the model.\n",
    "Deeper nets give us the flexibility to sequentially learn more and more abstract features from iterative non-linear transformations of the input data.\n",
    "Higher layers of representation amplify aspects of the input that are important for the given task and suppress irrelevant variations."
   ]
  },
  {
   "cell_type": "markdown",
   "metadata": {},
   "source": [
    "## Learning Recipe"
   ]
  },
  {
   "cell_type": "markdown",
   "metadata": {},
   "source": [
    "In parametric, supervised learning:\n",
    "- **Objective**: in the form of a differentiable loss function, to calculate how far your current prediction is from the target\n",
    "- **Model**: parametrized by learnable parameters\n",
    "- **Training strategy**: how to update the parameters\n",
    "- **Data**: enough to learn from & test your performance"
   ]
  },
  {
   "cell_type": "markdown",
   "metadata": {},
   "source": [
    "---"
   ]
  },
  {
   "cell_type": "markdown",
   "metadata": {},
   "source": [
    "## Practical Example"
   ]
  },
  {
   "cell_type": "markdown",
   "metadata": {},
   "source": [
    "From <a href='http://ippog.web.cern.ch/resources/2012/cms-hep-tutorial'> CMS Software Tutorial</a>, developed by Christian Sander and Alexander Schmidt, and available on <a href='http://opendata.cern.ch/'><img src='./images/opendata.jpg' style=\"height:70px; display:inline;\"></a>.\n",
    "\n",
    "<img src='./images/ttbar.jpg' style=\"height:200px;\"></a>\n",
    "The samples come from a $t\\bar{t}$ analysis and they are described in a very clear and accessible way in the <a href='http://ippog.web.cern.ch/sites/ippog.web.cern.ch/files/TutorialDocu_3.pdf'>documentation</a>. This was chosen to provide you with a full demo of my typical workflow, going from a `ROOT` file to a fully trained Keras model.\n",
    "\n",
    "**<i>Disclaimer</i>: my applications won't make 100% physical sense -- please focus on the tools!** \n",
    "\n",
    "Before diving into the Deep Learning world, I want to spend a few minutes discussing some **data handling techniques** I use whenever I get started prototyping my applications. "
   ]
  },
  {
   "cell_type": "markdown",
   "metadata": {},
   "source": [
    "### NumPy"
   ]
  },
  {
   "cell_type": "markdown",
   "metadata": {},
   "source": [
    "<a href=\"http://www.numpy.org/\"><img src=\"images/numpy.jpg\"></a>"
   ]
  },
  {
   "cell_type": "code",
   "execution_count": 1,
   "metadata": {},
   "outputs": [],
   "source": [
    "import numpy as np"
   ]
  },
  {
   "cell_type": "code",
   "execution_count": 2,
   "metadata": {},
   "outputs": [
    {
     "data": {
      "text/plain": [
       "array([[ 0,  1,  2],\n",
       "       [ 0,  0,  0],\n",
       "       [ 1,  2, -1]])"
      ]
     },
     "execution_count": 2,
     "metadata": {},
     "output_type": "execute_result"
    }
   ],
   "source": [
    "np.array([[0,1,2], [0,0,0], [1,2,-1]])  #+1 /2 **2 .ravel() etc."
   ]
  },
  {
   "cell_type": "markdown",
   "metadata": {},
   "source": [
    "For a nice `numpy` intro, check out the CERN tutorial <a href='https://indico.cern.ch/event/487416/contributions/2174910/attachments/1280846/1902714/LYLWN_present_2016_may_slides.pdf'>Loose your Loops with NumPy</a> (and tons of online material)."
   ]
  },
  {
   "cell_type": "markdown",
   "metadata": {},
   "source": [
    "<i>Idea:</i> What if those columns represented various branches and every line represented an event/physics object?"
   ]
  },
  {
   "cell_type": "markdown",
   "metadata": {},
   "source": [
    "### From ROOT to numpy: `root_numpy`"
   ]
  },
  {
   "cell_type": "markdown",
   "metadata": {},
   "source": [
    "Very easy to turn your `.root` files into Machine Learning compliant inputs using `numpy` and <a href=\"https://github.com/scikit-hep/root_numpy/tree/4.7.3\">`root_numpy`</a>."
   ]
  },
  {
   "cell_type": "markdown",
   "metadata": {},
   "source": [
    "Let's take a look at the MC signal sample from our CMS open dataset:"
   ]
  },
  {
   "cell_type": "code",
   "execution_count": 1,
   "metadata": {},
   "outputs": [],
   "source": [
    "import uproot3\n",
    "ttbar = uproot3.open('files/ttbar.root')"
   ]
  },
  {
   "cell_type": "code",
   "execution_count": 2,
   "metadata": {
    "scrolled": true
   },
   "outputs": [
    {
     "data": {
      "text/plain": [
       "[b'NJet',\n",
       " b'Jet_Px',\n",
       " b'Jet_Py',\n",
       " b'Jet_Pz',\n",
       " b'Jet_E',\n",
       " b'Jet_btag',\n",
       " b'Jet_ID',\n",
       " b'NMuon',\n",
       " b'Muon_Px',\n",
       " b'Muon_Py',\n",
       " b'Muon_Pz',\n",
       " b'Muon_E',\n",
       " b'Muon_Charge',\n",
       " b'Muon_Iso',\n",
       " b'NElectron',\n",
       " b'Electron_Px',\n",
       " b'Electron_Py',\n",
       " b'Electron_Pz',\n",
       " b'Electron_E',\n",
       " b'Electron_Charge',\n",
       " b'Electron_Iso',\n",
       " b'NPhoton',\n",
       " b'Photon_Px',\n",
       " b'Photon_Py',\n",
       " b'Photon_Pz',\n",
       " b'Photon_E',\n",
       " b'Photon_Iso',\n",
       " b'MET_px',\n",
       " b'MET_py',\n",
       " b'MChadronicBottom_px',\n",
       " b'MChadronicBottom_py',\n",
       " b'MChadronicBottom_pz',\n",
       " b'MCleptonicBottom_px',\n",
       " b'MCleptonicBottom_py',\n",
       " b'MCleptonicBottom_pz',\n",
       " b'MChadronicWDecayQuark_px',\n",
       " b'MChadronicWDecayQuark_py',\n",
       " b'MChadronicWDecayQuark_pz',\n",
       " b'MChadronicWDecayQuarkBar_px',\n",
       " b'MChadronicWDecayQuarkBar_py',\n",
       " b'MChadronicWDecayQuarkBar_pz',\n",
       " b'MClepton_px',\n",
       " b'MClepton_py',\n",
       " b'MClepton_pz',\n",
       " b'MCleptonPDGid',\n",
       " b'MCneutrino_px',\n",
       " b'MCneutrino_py',\n",
       " b'MCneutrino_pz',\n",
       " b'NPrimaryVertices',\n",
       " b'triggerIsoMu24',\n",
       " b'EventWeight']"
      ]
     },
     "execution_count": 2,
     "metadata": {},
     "output_type": "execute_result"
    }
   ],
   "source": [
    "# -- display your newly created object\n",
    "ttbar['events'].keys()"
   ]
  },
  {
   "cell_type": "code",
   "execution_count": 6,
   "metadata": {},
   "outputs": [
    {
     "data": {
      "text/plain": [
       "uproot.rootio.ROOTDirectory"
      ]
     },
     "execution_count": 6,
     "metadata": {},
     "output_type": "execute_result"
    }
   ],
   "source": [
    "# -- what data type is it?\n",
    "type(ttbar) "
   ]
  },
  {
   "cell_type": "code",
   "execution_count": 7,
   "metadata": {},
   "outputs": [
    {
     "name": "stdout",
     "output_type": "stream",
     "text": [
      "NJet                       (no streamer)              asdtype('>i4')\n",
      "Jet_Px                     (no streamer)              asjagged(asdtype('>f4'))\n",
      "Jet_Py                     (no streamer)              asjagged(asdtype('>f4'))\n",
      "Jet_Pz                     (no streamer)              asjagged(asdtype('>f4'))\n",
      "Jet_E                      (no streamer)              asjagged(asdtype('>f4'))\n",
      "Jet_btag                   (no streamer)              asjagged(asdtype('>f4'))\n",
      "Jet_ID                     (no streamer)              asjagged(asdtype('bool'))\n",
      "NMuon                      (no streamer)              asdtype('>i4')\n",
      "Muon_Px                    (no streamer)              asjagged(asdtype('>f4'))\n",
      "Muon_Py                    (no streamer)              asjagged(asdtype('>f4'))\n",
      "Muon_Pz                    (no streamer)              asjagged(asdtype('>f4'))\n",
      "Muon_E                     (no streamer)              asjagged(asdtype('>f4'))\n",
      "Muon_Charge                (no streamer)              asjagged(asdtype('>i4'))\n",
      "Muon_Iso                   (no streamer)              asjagged(asdtype('>f4'))\n",
      "NElectron                  (no streamer)              asdtype('>i4')\n",
      "Electron_Px                (no streamer)              asjagged(asdtype('>f4'))\n",
      "Electron_Py                (no streamer)              asjagged(asdtype('>f4'))\n",
      "Electron_Pz                (no streamer)              asjagged(asdtype('>f4'))\n",
      "Electron_E                 (no streamer)              asjagged(asdtype('>f4'))\n",
      "Electron_Charge            (no streamer)              asjagged(asdtype('>i4'))\n",
      "Electron_Iso               (no streamer)              asjagged(asdtype('>f4'))\n",
      "NPhoton                    (no streamer)              asdtype('>i4')\n",
      "Photon_Px                  (no streamer)              asjagged(asdtype('>f4'))\n",
      "Photon_Py                  (no streamer)              asjagged(asdtype('>f4'))\n",
      "Photon_Pz                  (no streamer)              asjagged(asdtype('>f4'))\n",
      "Photon_E                   (no streamer)              asjagged(asdtype('>f4'))\n",
      "Photon_Iso                 (no streamer)              asjagged(asdtype('>f4'))\n",
      "MET_px                     (no streamer)              asdtype('>f4')\n",
      "MET_py                     (no streamer)              asdtype('>f4')\n",
      "MChadronicBottom_px        (no streamer)              asdtype('>f4')\n",
      "MChadronicBottom_py        (no streamer)              asdtype('>f4')\n",
      "MChadronicBottom_pz        (no streamer)              asdtype('>f4')\n",
      "MCleptonicBottom_px        (no streamer)              asdtype('>f4')\n",
      "MCleptonicBottom_py        (no streamer)              asdtype('>f4')\n",
      "MCleptonicBottom_pz        (no streamer)              asdtype('>f4')\n",
      "MChadronicWDecayQuark_px   (no streamer)              asdtype('>f4')\n",
      "MChadronicWDecayQuark_py   (no streamer)              asdtype('>f4')\n",
      "MChadronicWDecayQuark_pz   (no streamer)              asdtype('>f4')\n",
      "MChadronicWDecayQuarkBar_px\n",
      "                           (no streamer)              asdtype('>f4')\n",
      "MChadronicWDecayQuarkBar_py\n",
      "                           (no streamer)              asdtype('>f4')\n",
      "MChadronicWDecayQuarkBar_pz\n",
      "                           (no streamer)              asdtype('>f4')\n",
      "MClepton_px                (no streamer)              asdtype('>f4')\n",
      "MClepton_py                (no streamer)              asdtype('>f4')\n",
      "MClepton_pz                (no streamer)              asdtype('>f4')\n",
      "MCleptonPDGid              (no streamer)              asdtype('>i4')\n",
      "MCneutrino_px              (no streamer)              asdtype('>f4')\n",
      "MCneutrino_py              (no streamer)              asdtype('>f4')\n",
      "MCneutrino_pz              (no streamer)              asdtype('>f4')\n",
      "NPrimaryVertices           (no streamer)              asdtype('>i4')\n",
      "triggerIsoMu24             (no streamer)              asdtype('bool')\n",
      "EventWeight                (no streamer)              asdtype('>f4')\n"
     ]
    }
   ],
   "source": [
    "# -- how many events are present?\n",
    "ttbar['events'].show()"
   ]
  },
  {
   "cell_type": "code",
   "execution_count": 8,
   "metadata": {},
   "outputs": [
    {
     "data": {
      "text/plain": [
       "<JaggedArray [[14.536326 -22.598843 47.94462] [28.441772 -56.915596 33.166145 -56.35862 44.684635 -7.482028] [-16.001389 -41.807266 29.194143 38.470554] ... [9.455873] [34.382618 -40.78351 38.387394] [1.2887529 54.249912 -54.32023]] at 0x00011442ed50>"
      ]
     },
     "execution_count": 8,
     "metadata": {},
     "output_type": "execute_result"
    }
   ],
   "source": [
    "ttbar['events'].array('Jet_Px')"
   ]
  },
  {
   "cell_type": "markdown",
   "metadata": {},
   "source": [
    "## Pandas Dataframes"
   ]
  },
  {
   "cell_type": "code",
   "execution_count": 9,
   "metadata": {},
   "outputs": [],
   "source": [
    "import pandas as pd"
   ]
  },
  {
   "cell_type": "markdown",
   "metadata": {},
   "source": [
    "One way of manipulating your data (slicing, filtering, removing variables, creating new features, taking operations of branches) in a simple, visually appealing way is to use <a href=\"http://pandas.pydata.org/\">`pandas`</a> dataframes, a beatiful and efficient Python data structure library. \n",
    "Recommended for exploratory data analysis, probably not for high performance applications."
   ]
  },
  {
   "cell_type": "code",
   "execution_count": 10,
   "metadata": {},
   "outputs": [],
   "source": [
    "# -- how to turn an ndarray into a pandas dataframe\n",
    "df = ttbar['events'].pandas.df([\"Jet*\",\"Electron*\",\"Muon*\",\"Photon*\"],flatten=False)"
   ]
  },
  {
   "cell_type": "code",
   "execution_count": 11,
   "metadata": {
    "scrolled": false
   },
   "outputs": [
    {
     "data": {
      "text/html": [
       "<div>\n",
       "<style scoped>\n",
       "    .dataframe tbody tr th:only-of-type {\n",
       "        vertical-align: middle;\n",
       "    }\n",
       "\n",
       "    .dataframe tbody tr th {\n",
       "        vertical-align: top;\n",
       "    }\n",
       "\n",
       "    .dataframe thead th {\n",
       "        text-align: right;\n",
       "    }\n",
       "</style>\n",
       "<table border=\"1\" class=\"dataframe\">\n",
       "  <thead>\n",
       "    <tr style=\"text-align: right;\">\n",
       "      <th></th>\n",
       "      <th>Jet_Px</th>\n",
       "      <th>Jet_Py</th>\n",
       "      <th>Jet_Pz</th>\n",
       "      <th>Jet_E</th>\n",
       "      <th>Jet_btag</th>\n",
       "      <th>Jet_ID</th>\n",
       "      <th>Electron_Px</th>\n",
       "      <th>Electron_Py</th>\n",
       "      <th>Electron_Pz</th>\n",
       "      <th>Electron_E</th>\n",
       "      <th>...</th>\n",
       "      <th>Muon_Py</th>\n",
       "      <th>Muon_Pz</th>\n",
       "      <th>Muon_E</th>\n",
       "      <th>Muon_Charge</th>\n",
       "      <th>Muon_Iso</th>\n",
       "      <th>Photon_Px</th>\n",
       "      <th>Photon_Py</th>\n",
       "      <th>Photon_Pz</th>\n",
       "      <th>Photon_E</th>\n",
       "      <th>Photon_Iso</th>\n",
       "    </tr>\n",
       "    <tr>\n",
       "      <th>entry</th>\n",
       "      <th></th>\n",
       "      <th></th>\n",
       "      <th></th>\n",
       "      <th></th>\n",
       "      <th></th>\n",
       "      <th></th>\n",
       "      <th></th>\n",
       "      <th></th>\n",
       "      <th></th>\n",
       "      <th></th>\n",
       "      <th></th>\n",
       "      <th></th>\n",
       "      <th></th>\n",
       "      <th></th>\n",
       "      <th></th>\n",
       "      <th></th>\n",
       "      <th></th>\n",
       "      <th></th>\n",
       "      <th></th>\n",
       "      <th></th>\n",
       "      <th></th>\n",
       "    </tr>\n",
       "  </thead>\n",
       "  <tbody>\n",
       "    <tr>\n",
       "      <th>0</th>\n",
       "      <td>[14.536326, -22.598843, 47.94462]</td>\n",
       "      <td>[81.21743, -57.128605, -11.354554]</td>\n",
       "      <td>[69.88933, 214.73964, 103.36489]</td>\n",
       "      <td>[109.21035, 223.63397, 114.65055]</td>\n",
       "      <td>[2.046098, 2.287386, -1.0]</td>\n",
       "      <td>[True, True, True]</td>\n",
       "      <td>[]</td>\n",
       "      <td>[]</td>\n",
       "      <td>[]</td>\n",
       "      <td>[]</td>\n",
       "      <td>...</td>\n",
       "      <td>[]</td>\n",
       "      <td>[]</td>\n",
       "      <td>[]</td>\n",
       "      <td>[]</td>\n",
       "      <td>[]</td>\n",
       "      <td>[]</td>\n",
       "      <td>[]</td>\n",
       "      <td>[]</td>\n",
       "      <td>[]</td>\n",
       "      <td>[]</td>\n",
       "    </tr>\n",
       "    <tr>\n",
       "      <th>1</th>\n",
       "      <td>[28.441772, -56.915596, 33.166145, -56.35862, ...</td>\n",
       "      <td>[-77.406265, 27.35497, 53.657883, 26.635517, -...</td>\n",
       "      <td>[-249.80095, -83.384865, -35.811634, 32.795723...</td>\n",
       "      <td>[263.24673, 105.52607, 72.99872, 71.04415, 51....</td>\n",
       "      <td>[-1.0, -1.0, -1.0, -1.0, -1.0, -1.0]</td>\n",
       "      <td>[True, True, True, True, True, True]</td>\n",
       "      <td>[]</td>\n",
       "      <td>[]</td>\n",
       "      <td>[]</td>\n",
       "      <td>[]</td>\n",
       "      <td>...</td>\n",
       "      <td>[]</td>\n",
       "      <td>[]</td>\n",
       "      <td>[]</td>\n",
       "      <td>[]</td>\n",
       "      <td>[]</td>\n",
       "      <td>[]</td>\n",
       "      <td>[]</td>\n",
       "      <td>[]</td>\n",
       "      <td>[]</td>\n",
       "      <td>[]</td>\n",
       "    </tr>\n",
       "    <tr>\n",
       "      <th>2</th>\n",
       "      <td>[-16.001389, -41.807266, 29.194143, 38.470554]</td>\n",
       "      <td>[-59.66587, 21.09322, -28.674322, 7.8084707]</td>\n",
       "      <td>[-49.965702, -29.628342, 38.021736, -14.963932]</td>\n",
       "      <td>[79.995316, 56.04854, 56.246387, 42.510105]</td>\n",
       "      <td>[-1.0, -1.0, 1.7072395, -1.0]</td>\n",
       "      <td>[True, True, True, True]</td>\n",
       "      <td>[]</td>\n",
       "      <td>[]</td>\n",
       "      <td>[]</td>\n",
       "      <td>[]</td>\n",
       "      <td>...</td>\n",
       "      <td>[]</td>\n",
       "      <td>[]</td>\n",
       "      <td>[]</td>\n",
       "      <td>[]</td>\n",
       "      <td>[]</td>\n",
       "      <td>[]</td>\n",
       "      <td>[]</td>\n",
       "      <td>[]</td>\n",
       "      <td>[]</td>\n",
       "      <td>[]</td>\n",
       "    </tr>\n",
       "    <tr>\n",
       "      <th>3</th>\n",
       "      <td>[-40.803673, 37.520752]</td>\n",
       "      <td>[34.422157, -35.30761]</td>\n",
       "      <td>[-47.573055, -67.08217]</td>\n",
       "      <td>[72.2569, 85.326126]</td>\n",
       "      <td>[3.6308918, 3.0245562]</td>\n",
       "      <td>[True, True]</td>\n",
       "      <td>[2.1134608]</td>\n",
       "      <td>[-51.637726]</td>\n",
       "      <td>[-113.057175]</td>\n",
       "      <td>[124.30947]</td>\n",
       "      <td>...</td>\n",
       "      <td>[12.214735]</td>\n",
       "      <td>[-1.1780784]</td>\n",
       "      <td>[57.104206]</td>\n",
       "      <td>[-1]</td>\n",
       "      <td>[5.8823595]</td>\n",
       "      <td>[1.3187407]</td>\n",
       "      <td>[-44.992695]</td>\n",
       "      <td>[-98.81549]</td>\n",
       "      <td>[108.58445]</td>\n",
       "      <td>[6.15593]</td>\n",
       "    </tr>\n",
       "    <tr>\n",
       "      <th>4</th>\n",
       "      <td>[-67.60135, 70.14259, 27.341812]</td>\n",
       "      <td>[83.323586, -71.90123, 50.182686]</td>\n",
       "      <td>[78.599915, -8.071459, 22.995554]</td>\n",
       "      <td>[135.26254, 101.79264, 62.296364]</td>\n",
       "      <td>[-1.0, -1.0, 3.749933]</td>\n",
       "      <td>[True, True, True]</td>\n",
       "      <td>[-48.963432]</td>\n",
       "      <td>[-29.941063]</td>\n",
       "      <td>[55.919136]</td>\n",
       "      <td>[80.13011]</td>\n",
       "      <td>...</td>\n",
       "      <td>[]</td>\n",
       "      <td>[]</td>\n",
       "      <td>[]</td>\n",
       "      <td>[]</td>\n",
       "      <td>[]</td>\n",
       "      <td>[]</td>\n",
       "      <td>[]</td>\n",
       "      <td>[]</td>\n",
       "      <td>[]</td>\n",
       "      <td>[]</td>\n",
       "    </tr>\n",
       "  </tbody>\n",
       "</table>\n",
       "<p>5 rows × 23 columns</p>\n",
       "</div>"
      ],
      "text/plain": [
       "                                                  Jet_Px  \\\n",
       "entry                                                      \n",
       "0                      [14.536326, -22.598843, 47.94462]   \n",
       "1      [28.441772, -56.915596, 33.166145, -56.35862, ...   \n",
       "2         [-16.001389, -41.807266, 29.194143, 38.470554]   \n",
       "3                                [-40.803673, 37.520752]   \n",
       "4                       [-67.60135, 70.14259, 27.341812]   \n",
       "\n",
       "                                                  Jet_Py  \\\n",
       "entry                                                      \n",
       "0                     [81.21743, -57.128605, -11.354554]   \n",
       "1      [-77.406265, 27.35497, 53.657883, 26.635517, -...   \n",
       "2           [-59.66587, 21.09322, -28.674322, 7.8084707]   \n",
       "3                                 [34.422157, -35.30761]   \n",
       "4                      [83.323586, -71.90123, 50.182686]   \n",
       "\n",
       "                                                  Jet_Pz  \\\n",
       "entry                                                      \n",
       "0                       [69.88933, 214.73964, 103.36489]   \n",
       "1      [-249.80095, -83.384865, -35.811634, 32.795723...   \n",
       "2        [-49.965702, -29.628342, 38.021736, -14.963932]   \n",
       "3                                [-47.573055, -67.08217]   \n",
       "4                      [78.599915, -8.071459, 22.995554]   \n",
       "\n",
       "                                                   Jet_E  \\\n",
       "entry                                                      \n",
       "0                      [109.21035, 223.63397, 114.65055]   \n",
       "1      [263.24673, 105.52607, 72.99872, 71.04415, 51....   \n",
       "2            [79.995316, 56.04854, 56.246387, 42.510105]   \n",
       "3                                   [72.2569, 85.326126]   \n",
       "4                      [135.26254, 101.79264, 62.296364]   \n",
       "\n",
       "                                   Jet_btag  \\\n",
       "entry                                         \n",
       "0                [2.046098, 2.287386, -1.0]   \n",
       "1      [-1.0, -1.0, -1.0, -1.0, -1.0, -1.0]   \n",
       "2             [-1.0, -1.0, 1.7072395, -1.0]   \n",
       "3                    [3.6308918, 3.0245562]   \n",
       "4                    [-1.0, -1.0, 3.749933]   \n",
       "\n",
       "                                     Jet_ID   Electron_Px   Electron_Py  \\\n",
       "entry                                                                     \n",
       "0                        [True, True, True]            []            []   \n",
       "1      [True, True, True, True, True, True]            []            []   \n",
       "2                  [True, True, True, True]            []            []   \n",
       "3                              [True, True]   [2.1134608]  [-51.637726]   \n",
       "4                        [True, True, True]  [-48.963432]  [-29.941063]   \n",
       "\n",
       "         Electron_Pz   Electron_E  ...      Muon_Py       Muon_Pz  \\\n",
       "entry                              ...                              \n",
       "0                 []           []  ...           []            []   \n",
       "1                 []           []  ...           []            []   \n",
       "2                 []           []  ...           []            []   \n",
       "3      [-113.057175]  [124.30947]  ...  [12.214735]  [-1.1780784]   \n",
       "4        [55.919136]   [80.13011]  ...           []            []   \n",
       "\n",
       "            Muon_E Muon_Charge     Muon_Iso    Photon_Px     Photon_Py  \\\n",
       "entry                                                                    \n",
       "0               []          []           []           []            []   \n",
       "1               []          []           []           []            []   \n",
       "2               []          []           []           []            []   \n",
       "3      [57.104206]        [-1]  [5.8823595]  [1.3187407]  [-44.992695]   \n",
       "4               []          []           []           []            []   \n",
       "\n",
       "         Photon_Pz     Photon_E Photon_Iso  \n",
       "entry                                       \n",
       "0               []           []         []  \n",
       "1               []           []         []  \n",
       "2               []           []         []  \n",
       "3      [-98.81549]  [108.58445]  [6.15593]  \n",
       "4               []           []         []  \n",
       "\n",
       "[5 rows x 23 columns]"
      ]
     },
     "execution_count": 11,
     "metadata": {},
     "output_type": "execute_result"
    }
   ],
   "source": [
    "# -- better way of displaying your data\n",
    "df.head() # print the first few entries"
   ]
  },
  {
   "cell_type": "code",
   "execution_count": 12,
   "metadata": {},
   "outputs": [
    {
     "data": {
      "text/html": [
       "<div>\n",
       "<style scoped>\n",
       "    .dataframe tbody tr th:only-of-type {\n",
       "        vertical-align: middle;\n",
       "    }\n",
       "\n",
       "    .dataframe tbody tr th {\n",
       "        vertical-align: top;\n",
       "    }\n",
       "\n",
       "    .dataframe thead th {\n",
       "        text-align: right;\n",
       "    }\n",
       "</style>\n",
       "<table border=\"1\" class=\"dataframe\">\n",
       "  <thead>\n",
       "    <tr style=\"text-align: right;\">\n",
       "      <th></th>\n",
       "      <th>Jet_Px</th>\n",
       "      <th>Jet_Py</th>\n",
       "      <th>Jet_Pz</th>\n",
       "      <th>Jet_E</th>\n",
       "      <th>Jet_btag</th>\n",
       "      <th>Jet_ID</th>\n",
       "      <th>Electron_Px</th>\n",
       "      <th>Electron_Py</th>\n",
       "      <th>Electron_Pz</th>\n",
       "      <th>Electron_E</th>\n",
       "      <th>...</th>\n",
       "      <th>Muon_Py</th>\n",
       "      <th>Muon_Pz</th>\n",
       "      <th>Muon_E</th>\n",
       "      <th>Muon_Charge</th>\n",
       "      <th>Muon_Iso</th>\n",
       "      <th>Photon_Px</th>\n",
       "      <th>Photon_Py</th>\n",
       "      <th>Photon_Pz</th>\n",
       "      <th>Photon_E</th>\n",
       "      <th>Photon_Iso</th>\n",
       "    </tr>\n",
       "    <tr>\n",
       "      <th>entry</th>\n",
       "      <th></th>\n",
       "      <th></th>\n",
       "      <th></th>\n",
       "      <th></th>\n",
       "      <th></th>\n",
       "      <th></th>\n",
       "      <th></th>\n",
       "      <th></th>\n",
       "      <th></th>\n",
       "      <th></th>\n",
       "      <th></th>\n",
       "      <th></th>\n",
       "      <th></th>\n",
       "      <th></th>\n",
       "      <th></th>\n",
       "      <th></th>\n",
       "      <th></th>\n",
       "      <th></th>\n",
       "      <th></th>\n",
       "      <th></th>\n",
       "      <th></th>\n",
       "    </tr>\n",
       "  </thead>\n",
       "  <tbody>\n",
       "    <tr>\n",
       "      <th>36936</th>\n",
       "      <td>[130.75238, -88.656555, 52.055542, -38.653694]</td>\n",
       "      <td>[-25.403269, 73.82507, -74.26514, -30.641748]</td>\n",
       "      <td>[-120.234634, -287.9017, -124.87855, -128.15019]</td>\n",
       "      <td>[180.0984, 310.71533, 154.60388, 137.42473]</td>\n",
       "      <td>[-1.0, 2.1719244, -1.0, -1.0]</td>\n",
       "      <td>[True, True, True, True]</td>\n",
       "      <td>[]</td>\n",
       "      <td>[]</td>\n",
       "      <td>[]</td>\n",
       "      <td>[]</td>\n",
       "      <td>...</td>\n",
       "      <td>[42.071377]</td>\n",
       "      <td>[-82.185844]</td>\n",
       "      <td>[102.66227]</td>\n",
       "      <td>[1]</td>\n",
       "      <td>[1.4977853]</td>\n",
       "      <td>[]</td>\n",
       "      <td>[]</td>\n",
       "      <td>[]</td>\n",
       "      <td>[]</td>\n",
       "      <td>[]</td>\n",
       "    </tr>\n",
       "    <tr>\n",
       "      <th>36937</th>\n",
       "      <td>[103.32671, -76.96731, -1.7732855, -36.428585,...</td>\n",
       "      <td>[28.364288, 19.04971, -52.67511, -36.79929, -3...</td>\n",
       "      <td>[147.43181, 428.39618, 70.97088, 98.63225, 31....</td>\n",
       "      <td>[183.93591, 435.73602, 88.66596, 111.89624, 59...</td>\n",
       "      <td>[1.6103351, -1.0, -1.0, -1.0, -1.0, -1.0, -1.0]</td>\n",
       "      <td>[True, True, True, True, True, True, True]</td>\n",
       "      <td>[]</td>\n",
       "      <td>[]</td>\n",
       "      <td>[]</td>\n",
       "      <td>[]</td>\n",
       "      <td>...</td>\n",
       "      <td>[]</td>\n",
       "      <td>[]</td>\n",
       "      <td>[]</td>\n",
       "      <td>[]</td>\n",
       "      <td>[]</td>\n",
       "      <td>[]</td>\n",
       "      <td>[]</td>\n",
       "      <td>[]</td>\n",
       "      <td>[]</td>\n",
       "      <td>[]</td>\n",
       "    </tr>\n",
       "    <tr>\n",
       "      <th>36938</th>\n",
       "      <td>[9.455873]</td>\n",
       "      <td>[56.329876]</td>\n",
       "      <td>[58.52116]</td>\n",
       "      <td>[83.46845]</td>\n",
       "      <td>[-1.0]</td>\n",
       "      <td>[True]</td>\n",
       "      <td>[123.97549, -41.905777]</td>\n",
       "      <td>[-20.590023, -41.989445]</td>\n",
       "      <td>[25.771751, -1.0412514]</td>\n",
       "      <td>[128.28894, 59.332047]</td>\n",
       "      <td>...</td>\n",
       "      <td>[]</td>\n",
       "      <td>[]</td>\n",
       "      <td>[]</td>\n",
       "      <td>[]</td>\n",
       "      <td>[]</td>\n",
       "      <td>[122.578766]</td>\n",
       "      <td>[-21.208433]</td>\n",
       "      <td>[25.54431]</td>\n",
       "      <td>[126.99552]</td>\n",
       "      <td>[3.7591028]</td>\n",
       "    </tr>\n",
       "    <tr>\n",
       "      <th>36939</th>\n",
       "      <td>[34.382618, -40.78351, 38.387394]</td>\n",
       "      <td>[-36.502987, -6.540353, -3.9363384]</td>\n",
       "      <td>[-39.891785, -50.609142, -69.53584]</td>\n",
       "      <td>[65.95164, 65.821724, 79.77873]</td>\n",
       "      <td>[-1.0, -1.0, -1.0]</td>\n",
       "      <td>[True, True, True]</td>\n",
       "      <td>[]</td>\n",
       "      <td>[]</td>\n",
       "      <td>[]</td>\n",
       "      <td>[]</td>\n",
       "      <td>...</td>\n",
       "      <td>[]</td>\n",
       "      <td>[]</td>\n",
       "      <td>[]</td>\n",
       "      <td>[]</td>\n",
       "      <td>[]</td>\n",
       "      <td>[]</td>\n",
       "      <td>[]</td>\n",
       "      <td>[]</td>\n",
       "      <td>[]</td>\n",
       "      <td>[]</td>\n",
       "    </tr>\n",
       "    <tr>\n",
       "      <th>36940</th>\n",
       "      <td>[1.2887529, 54.249912, -54.32023]</td>\n",
       "      <td>[-84.01945, -25.615551, -8.034079]</td>\n",
       "      <td>[21.792679, 59.17029, 48.22095]</td>\n",
       "      <td>[87.867546, 84.76728, 73.523155]</td>\n",
       "      <td>[-1.0, -1.0, 3.4573402]</td>\n",
       "      <td>[True, True, True]</td>\n",
       "      <td>[10.356835]</td>\n",
       "      <td>[152.02658]</td>\n",
       "      <td>[-128.61996]</td>\n",
       "      <td>[199.40521]</td>\n",
       "      <td>...</td>\n",
       "      <td>[]</td>\n",
       "      <td>[]</td>\n",
       "      <td>[]</td>\n",
       "      <td>[]</td>\n",
       "      <td>[]</td>\n",
       "      <td>[12.243832]</td>\n",
       "      <td>[155.64832]</td>\n",
       "      <td>[-131.7291]</td>\n",
       "      <td>[204.27644]</td>\n",
       "      <td>[3.8334322]</td>\n",
       "    </tr>\n",
       "  </tbody>\n",
       "</table>\n",
       "<p>5 rows × 23 columns</p>\n",
       "</div>"
      ],
      "text/plain": [
       "                                                  Jet_Px  \\\n",
       "entry                                                      \n",
       "36936     [130.75238, -88.656555, 52.055542, -38.653694]   \n",
       "36937  [103.32671, -76.96731, -1.7732855, -36.428585,...   \n",
       "36938                                         [9.455873]   \n",
       "36939                  [34.382618, -40.78351, 38.387394]   \n",
       "36940                  [1.2887529, 54.249912, -54.32023]   \n",
       "\n",
       "                                                  Jet_Py  \\\n",
       "entry                                                      \n",
       "36936      [-25.403269, 73.82507, -74.26514, -30.641748]   \n",
       "36937  [28.364288, 19.04971, -52.67511, -36.79929, -3...   \n",
       "36938                                        [56.329876]   \n",
       "36939                [-36.502987, -6.540353, -3.9363384]   \n",
       "36940                 [-84.01945, -25.615551, -8.034079]   \n",
       "\n",
       "                                                  Jet_Pz  \\\n",
       "entry                                                      \n",
       "36936   [-120.234634, -287.9017, -124.87855, -128.15019]   \n",
       "36937  [147.43181, 428.39618, 70.97088, 98.63225, 31....   \n",
       "36938                                         [58.52116]   \n",
       "36939                [-39.891785, -50.609142, -69.53584]   \n",
       "36940                    [21.792679, 59.17029, 48.22095]   \n",
       "\n",
       "                                                   Jet_E  \\\n",
       "entry                                                      \n",
       "36936        [180.0984, 310.71533, 154.60388, 137.42473]   \n",
       "36937  [183.93591, 435.73602, 88.66596, 111.89624, 59...   \n",
       "36938                                         [83.46845]   \n",
       "36939                    [65.95164, 65.821724, 79.77873]   \n",
       "36940                   [87.867546, 84.76728, 73.523155]   \n",
       "\n",
       "                                              Jet_btag  \\\n",
       "entry                                                    \n",
       "36936                    [-1.0, 2.1719244, -1.0, -1.0]   \n",
       "36937  [1.6103351, -1.0, -1.0, -1.0, -1.0, -1.0, -1.0]   \n",
       "36938                                           [-1.0]   \n",
       "36939                               [-1.0, -1.0, -1.0]   \n",
       "36940                          [-1.0, -1.0, 3.4573402]   \n",
       "\n",
       "                                           Jet_ID              Electron_Px  \\\n",
       "entry                                                                        \n",
       "36936                    [True, True, True, True]                       []   \n",
       "36937  [True, True, True, True, True, True, True]                       []   \n",
       "36938                                      [True]  [123.97549, -41.905777]   \n",
       "36939                          [True, True, True]                       []   \n",
       "36940                          [True, True, True]              [10.356835]   \n",
       "\n",
       "                    Electron_Py              Electron_Pz  \\\n",
       "entry                                                      \n",
       "36936                        []                       []   \n",
       "36937                        []                       []   \n",
       "36938  [-20.590023, -41.989445]  [25.771751, -1.0412514]   \n",
       "36939                        []                       []   \n",
       "36940               [152.02658]             [-128.61996]   \n",
       "\n",
       "                   Electron_E  ...      Muon_Py       Muon_Pz       Muon_E  \\\n",
       "entry                          ...                                           \n",
       "36936                      []  ...  [42.071377]  [-82.185844]  [102.66227]   \n",
       "36937                      []  ...           []            []           []   \n",
       "36938  [128.28894, 59.332047]  ...           []            []           []   \n",
       "36939                      []  ...           []            []           []   \n",
       "36940             [199.40521]  ...           []            []           []   \n",
       "\n",
       "      Muon_Charge     Muon_Iso     Photon_Px     Photon_Py    Photon_Pz  \\\n",
       "entry                                                                     \n",
       "36936         [1]  [1.4977853]            []            []           []   \n",
       "36937          []           []            []            []           []   \n",
       "36938          []           []  [122.578766]  [-21.208433]   [25.54431]   \n",
       "36939          []           []            []            []           []   \n",
       "36940          []           []   [12.243832]   [155.64832]  [-131.7291]   \n",
       "\n",
       "          Photon_E   Photon_Iso  \n",
       "entry                            \n",
       "36936           []           []  \n",
       "36937           []           []  \n",
       "36938  [126.99552]  [3.7591028]  \n",
       "36939           []           []  \n",
       "36940  [204.27644]  [3.8334322]  \n",
       "\n",
       "[5 rows x 23 columns]"
      ]
     },
     "execution_count": 12,
     "metadata": {},
     "output_type": "execute_result"
    }
   ],
   "source": [
    "# -- ... or the last few\n",
    "df.tail()"
   ]
  },
  {
   "cell_type": "code",
   "execution_count": 13,
   "metadata": {},
   "outputs": [
    {
     "data": {
      "text/plain": [
       "(36941, 23)"
      ]
     },
     "execution_count": 13,
     "metadata": {},
     "output_type": "execute_result"
    }
   ],
   "source": [
    "# -- check the shape: it should be [nb_events, nb_variables]\n",
    "df.shape"
   ]
  },
  {
   "cell_type": "code",
   "execution_count": 14,
   "metadata": {},
   "outputs": [
    {
     "name": "stdout",
     "output_type": "stream",
     "text": [
      "<class 'pandas.core.frame.DataFrame'>\n",
      "RangeIndex: 36941 entries, 0 to 36940\n",
      "Data columns (total 23 columns):\n",
      "Jet_Px             36941 non-null object\n",
      "Jet_Py             36941 non-null object\n",
      "Jet_Pz             36941 non-null object\n",
      "Jet_E              36941 non-null object\n",
      "Jet_btag           36941 non-null object\n",
      "Jet_ID             36941 non-null object\n",
      "Electron_Px        36941 non-null object\n",
      "Electron_Py        36941 non-null object\n",
      "Electron_Pz        36941 non-null object\n",
      "Electron_E         36941 non-null object\n",
      "Electron_Charge    36941 non-null object\n",
      "Electron_Iso       36941 non-null object\n",
      "Muon_Px            36941 non-null object\n",
      "Muon_Py            36941 non-null object\n",
      "Muon_Pz            36941 non-null object\n",
      "Muon_E             36941 non-null object\n",
      "Muon_Charge        36941 non-null object\n",
      "Muon_Iso           36941 non-null object\n",
      "Photon_Px          36941 non-null object\n",
      "Photon_Py          36941 non-null object\n",
      "Photon_Pz          36941 non-null object\n",
      "Photon_E           36941 non-null object\n",
      "Photon_Iso         36941 non-null object\n",
      "dtypes: object(23)\n",
      "memory usage: 6.5+ MB\n"
     ]
    }
   ],
   "source": [
    "df.info()"
   ]
  },
  {
   "cell_type": "code",
   "execution_count": 15,
   "metadata": {},
   "outputs": [
    {
     "data": {
      "text/plain": [
       "Index(['Jet_Px', 'Jet_Py', 'Jet_Pz', 'Jet_E', 'Jet_btag', 'Jet_ID',\n",
       "       'Electron_Px', 'Electron_Py', 'Electron_Pz', 'Electron_E',\n",
       "       'Electron_Charge', 'Electron_Iso', 'Muon_Px', 'Muon_Py', 'Muon_Pz',\n",
       "       'Muon_E', 'Muon_Charge', 'Muon_Iso', 'Photon_Px', 'Photon_Py',\n",
       "       'Photon_Pz', 'Photon_E', 'Photon_Iso'],\n",
       "      dtype='object')"
      ]
     },
     "execution_count": 15,
     "metadata": {},
     "output_type": "execute_result"
    }
   ],
   "source": [
    "df.keys() #df.columns"
   ]
  },
  {
   "cell_type": "markdown",
   "metadata": {},
   "source": [
    "Now, let's create a new dataframe that contains only jet-related branches by slicing our pre-existing ttbar dataframe"
   ]
  },
  {
   "cell_type": "code",
   "execution_count": 16,
   "metadata": {},
   "outputs": [
    {
     "data": {
      "text/html": [
       "<div>\n",
       "<style scoped>\n",
       "    .dataframe tbody tr th:only-of-type {\n",
       "        vertical-align: middle;\n",
       "    }\n",
       "\n",
       "    .dataframe tbody tr th {\n",
       "        vertical-align: top;\n",
       "    }\n",
       "\n",
       "    .dataframe thead th {\n",
       "        text-align: right;\n",
       "    }\n",
       "</style>\n",
       "<table border=\"1\" class=\"dataframe\">\n",
       "  <thead>\n",
       "    <tr style=\"text-align: right;\">\n",
       "      <th></th>\n",
       "      <th>Jet_Px</th>\n",
       "      <th>Jet_Py</th>\n",
       "      <th>Jet_Pz</th>\n",
       "      <th>Jet_E</th>\n",
       "      <th>Jet_btag</th>\n",
       "      <th>Jet_ID</th>\n",
       "    </tr>\n",
       "    <tr>\n",
       "      <th>entry</th>\n",
       "      <th></th>\n",
       "      <th></th>\n",
       "      <th></th>\n",
       "      <th></th>\n",
       "      <th></th>\n",
       "      <th></th>\n",
       "    </tr>\n",
       "  </thead>\n",
       "  <tbody>\n",
       "    <tr>\n",
       "      <th>0</th>\n",
       "      <td>[14.536326, -22.598843, 47.94462]</td>\n",
       "      <td>[81.21743, -57.128605, -11.354554]</td>\n",
       "      <td>[69.88933, 214.73964, 103.36489]</td>\n",
       "      <td>[109.21035, 223.63397, 114.65055]</td>\n",
       "      <td>[2.046098, 2.287386, -1.0]</td>\n",
       "      <td>[True, True, True]</td>\n",
       "    </tr>\n",
       "    <tr>\n",
       "      <th>1</th>\n",
       "      <td>[28.441772, -56.915596, 33.166145, -56.35862, ...</td>\n",
       "      <td>[-77.406265, 27.35497, 53.657883, 26.635517, -...</td>\n",
       "      <td>[-249.80095, -83.384865, -35.811634, 32.795723...</td>\n",
       "      <td>[263.24673, 105.52607, 72.99872, 71.04415, 51....</td>\n",
       "      <td>[-1.0, -1.0, -1.0, -1.0, -1.0, -1.0]</td>\n",
       "      <td>[True, True, True, True, True, True]</td>\n",
       "    </tr>\n",
       "    <tr>\n",
       "      <th>2</th>\n",
       "      <td>[-16.001389, -41.807266, 29.194143, 38.470554]</td>\n",
       "      <td>[-59.66587, 21.09322, -28.674322, 7.8084707]</td>\n",
       "      <td>[-49.965702, -29.628342, 38.021736, -14.963932]</td>\n",
       "      <td>[79.995316, 56.04854, 56.246387, 42.510105]</td>\n",
       "      <td>[-1.0, -1.0, 1.7072395, -1.0]</td>\n",
       "      <td>[True, True, True, True]</td>\n",
       "    </tr>\n",
       "    <tr>\n",
       "      <th>3</th>\n",
       "      <td>[-40.803673, 37.520752]</td>\n",
       "      <td>[34.422157, -35.30761]</td>\n",
       "      <td>[-47.573055, -67.08217]</td>\n",
       "      <td>[72.2569, 85.326126]</td>\n",
       "      <td>[3.6308918, 3.0245562]</td>\n",
       "      <td>[True, True]</td>\n",
       "    </tr>\n",
       "    <tr>\n",
       "      <th>4</th>\n",
       "      <td>[-67.60135, 70.14259, 27.341812]</td>\n",
       "      <td>[83.323586, -71.90123, 50.182686]</td>\n",
       "      <td>[78.599915, -8.071459, 22.995554]</td>\n",
       "      <td>[135.26254, 101.79264, 62.296364]</td>\n",
       "      <td>[-1.0, -1.0, 3.749933]</td>\n",
       "      <td>[True, True, True]</td>\n",
       "    </tr>\n",
       "  </tbody>\n",
       "</table>\n",
       "</div>"
      ],
      "text/plain": [
       "                                                  Jet_Px  \\\n",
       "entry                                                      \n",
       "0                      [14.536326, -22.598843, 47.94462]   \n",
       "1      [28.441772, -56.915596, 33.166145, -56.35862, ...   \n",
       "2         [-16.001389, -41.807266, 29.194143, 38.470554]   \n",
       "3                                [-40.803673, 37.520752]   \n",
       "4                       [-67.60135, 70.14259, 27.341812]   \n",
       "\n",
       "                                                  Jet_Py  \\\n",
       "entry                                                      \n",
       "0                     [81.21743, -57.128605, -11.354554]   \n",
       "1      [-77.406265, 27.35497, 53.657883, 26.635517, -...   \n",
       "2           [-59.66587, 21.09322, -28.674322, 7.8084707]   \n",
       "3                                 [34.422157, -35.30761]   \n",
       "4                      [83.323586, -71.90123, 50.182686]   \n",
       "\n",
       "                                                  Jet_Pz  \\\n",
       "entry                                                      \n",
       "0                       [69.88933, 214.73964, 103.36489]   \n",
       "1      [-249.80095, -83.384865, -35.811634, 32.795723...   \n",
       "2        [-49.965702, -29.628342, 38.021736, -14.963932]   \n",
       "3                                [-47.573055, -67.08217]   \n",
       "4                      [78.599915, -8.071459, 22.995554]   \n",
       "\n",
       "                                                   Jet_E  \\\n",
       "entry                                                      \n",
       "0                      [109.21035, 223.63397, 114.65055]   \n",
       "1      [263.24673, 105.52607, 72.99872, 71.04415, 51....   \n",
       "2            [79.995316, 56.04854, 56.246387, 42.510105]   \n",
       "3                                   [72.2569, 85.326126]   \n",
       "4                      [135.26254, 101.79264, 62.296364]   \n",
       "\n",
       "                                   Jet_btag  \\\n",
       "entry                                         \n",
       "0                [2.046098, 2.287386, -1.0]   \n",
       "1      [-1.0, -1.0, -1.0, -1.0, -1.0, -1.0]   \n",
       "2             [-1.0, -1.0, 1.7072395, -1.0]   \n",
       "3                    [3.6308918, 3.0245562]   \n",
       "4                    [-1.0, -1.0, 3.749933]   \n",
       "\n",
       "                                     Jet_ID  \n",
       "entry                                        \n",
       "0                        [True, True, True]  \n",
       "1      [True, True, True, True, True, True]  \n",
       "2                  [True, True, True, True]  \n",
       "3                              [True, True]  \n",
       "4                        [True, True, True]  "
      ]
     },
     "execution_count": 16,
     "metadata": {},
     "output_type": "execute_result"
    }
   ],
   "source": [
    "# slice the dataframe\n",
    "jet_df = df[[key for key in df.keys() if key.startswith('Jet')]]\n",
    "jet_df.head()"
   ]
  },
  {
   "cell_type": "markdown",
   "metadata": {},
   "source": [
    "This would be useful if you wanted to classify your events only by using the properties of jets in each event. \n",
    "\n",
    "What if your application involved classifying jets, instead of events? In this case, you might want to turn your dataset from event-flat to jet-flat, i.e. a dataframe in which every row represents a jet and every column is a property of this jet. This is extremely easy to do using `pandas` and `numpy`:"
   ]
  },
  {
   "cell_type": "code",
   "execution_count": 17,
   "metadata": {},
   "outputs": [],
   "source": [
    "def flatten(column):\n",
    "    '''\n",
    "    Args:\n",
    "    -----\n",
    "        column: a column of a pandas df whose entries are lists (or regular entries -- in which case nothing is done)\n",
    "                e.g.: my_df['some_variable'] \n",
    "\n",
    "    Returns:\n",
    "    --------    \n",
    "        flattened out version of the column. \n",
    "\n",
    "        For example, it will turn:\n",
    "        [1791, 2719, 1891]\n",
    "        [1717, 1, 0, 171, 9181, 537, 12]\n",
    "        [82, 11]\n",
    "        ...\n",
    "        into:\n",
    "        1791, 2719, 1891, 1717, 1, 0, 171, 9181, 537, 12, 82, 11, ...\n",
    "    '''\n",
    "    try:\n",
    "        return np.array([v for e in column for v in e])\n",
    "    except (TypeError, ValueError):\n",
    "        return column"
   ]
  },
  {
   "cell_type": "code",
   "execution_count": 18,
   "metadata": {},
   "outputs": [
    {
     "data": {
      "text/html": [
       "<div>\n",
       "<style scoped>\n",
       "    .dataframe tbody tr th:only-of-type {\n",
       "        vertical-align: middle;\n",
       "    }\n",
       "\n",
       "    .dataframe tbody tr th {\n",
       "        vertical-align: top;\n",
       "    }\n",
       "\n",
       "    .dataframe thead th {\n",
       "        text-align: right;\n",
       "    }\n",
       "</style>\n",
       "<table border=\"1\" class=\"dataframe\">\n",
       "  <thead>\n",
       "    <tr style=\"text-align: right;\">\n",
       "      <th></th>\n",
       "      <th>Jet_Px</th>\n",
       "      <th>Jet_Py</th>\n",
       "      <th>Jet_Pz</th>\n",
       "      <th>Jet_E</th>\n",
       "      <th>Jet_btag</th>\n",
       "      <th>Jet_ID</th>\n",
       "    </tr>\n",
       "  </thead>\n",
       "  <tbody>\n",
       "    <tr>\n",
       "      <th>0</th>\n",
       "      <td>14.536326</td>\n",
       "      <td>81.217430</td>\n",
       "      <td>69.889328</td>\n",
       "      <td>109.210350</td>\n",
       "      <td>2.046098</td>\n",
       "      <td>True</td>\n",
       "    </tr>\n",
       "    <tr>\n",
       "      <th>1</th>\n",
       "      <td>-22.598843</td>\n",
       "      <td>-57.128605</td>\n",
       "      <td>214.739639</td>\n",
       "      <td>223.633972</td>\n",
       "      <td>2.287386</td>\n",
       "      <td>True</td>\n",
       "    </tr>\n",
       "    <tr>\n",
       "      <th>2</th>\n",
       "      <td>47.944618</td>\n",
       "      <td>-11.354554</td>\n",
       "      <td>103.364891</td>\n",
       "      <td>114.650551</td>\n",
       "      <td>-1.000000</td>\n",
       "      <td>True</td>\n",
       "    </tr>\n",
       "    <tr>\n",
       "      <th>3</th>\n",
       "      <td>28.441772</td>\n",
       "      <td>-77.406265</td>\n",
       "      <td>-249.800949</td>\n",
       "      <td>263.246735</td>\n",
       "      <td>-1.000000</td>\n",
       "      <td>True</td>\n",
       "    </tr>\n",
       "    <tr>\n",
       "      <th>4</th>\n",
       "      <td>-56.915596</td>\n",
       "      <td>27.354971</td>\n",
       "      <td>-83.384865</td>\n",
       "      <td>105.526070</td>\n",
       "      <td>-1.000000</td>\n",
       "      <td>True</td>\n",
       "    </tr>\n",
       "  </tbody>\n",
       "</table>\n",
       "</div>"
      ],
      "text/plain": [
       "      Jet_Px     Jet_Py      Jet_Pz       Jet_E  Jet_btag  Jet_ID\n",
       "0  14.536326  81.217430   69.889328  109.210350  2.046098    True\n",
       "1 -22.598843 -57.128605  214.739639  223.633972  2.287386    True\n",
       "2  47.944618 -11.354554  103.364891  114.650551 -1.000000    True\n",
       "3  28.441772 -77.406265 -249.800949  263.246735 -1.000000    True\n",
       "4 -56.915596  27.354971  -83.384865  105.526070 -1.000000    True"
      ]
     },
     "execution_count": 18,
     "metadata": {},
     "output_type": "execute_result"
    }
   ],
   "source": [
    "# -- ok, let's try it out!\n",
    "df_flat = pd.DataFrame({k: flatten(c) for k, c in jet_df.iteritems()})\n",
    "df_flat.head()"
   ]
  },
  {
   "cell_type": "markdown",
   "metadata": {},
   "source": [
    "### Plot your data using Matplotlib"
   ]
  },
  {
   "cell_type": "markdown",
   "metadata": {},
   "source": [
    "Using `pandas` in conjunction with `matplotlib`, you can also inspect your variables super quickly. Check out the following cells for a quick example."
   ]
  },
  {
   "cell_type": "code",
   "execution_count": 19,
   "metadata": {},
   "outputs": [],
   "source": [
    "import matplotlib\n",
    "import matplotlib.pyplot as plt\n",
    "%matplotlib inline"
   ]
  },
  {
   "cell_type": "code",
   "execution_count": 20,
   "metadata": {
    "scrolled": false
   },
   "outputs": [
    {
     "name": "stderr",
     "output_type": "stream",
     "text": [
      "<string>:6: RuntimeWarning: Converting input from bool to <class 'numpy.uint8'> for compatibility.\n"
     ]
    },
    {
     "data": {
      "image/png": "[encoded data removed]",
      "text/plain": [
       "<Figure size 500x500 with 1 Axes>"
      ]
     },
     "metadata": {
      "needs_background": "light"
     },
     "output_type": "display_data"
    },
    {
     "data": {
      "image/png": "[encoded data removed]",
      "text/plain": [
       "<Figure size 500x500 with 1 Axes>"
      ]
     },
     "metadata": {
      "needs_background": "light"
     },
     "output_type": "display_data"
    },
    {
     "data": {
      "image/png": "[encoded data removed]",
      "text/plain": [
       "<Figure size 500x500 with 1 Axes>"
      ]
     },
     "metadata": {
      "needs_background": "light"
     },
     "output_type": "display_data"
    },
    {
     "data": {
      "image/png": "[encoded data removed]",
      "text/plain": [
       "<Figure size 500x500 with 1 Axes>"
      ]
     },
     "metadata": {
      "needs_background": "light"
     },
     "output_type": "display_data"
    },
    {
     "data": {
      "image/png": "[encoded data removed]",
      "text/plain": [
       "<Figure size 500x500 with 1 Axes>"
      ]
     },
     "metadata": {
      "needs_background": "light"
     },
     "output_type": "display_data"
    },
    {
     "data": {
      "image/png": "[encoded data removed]",
      "text/plain": [
       "<Figure size 500x500 with 1 Axes>"
      ]
     },
     "metadata": {
      "needs_background": "light"
     },
     "output_type": "display_data"
    }
   ],
   "source": [
    "# iterate through the columns\n",
    "for key in df_flat.keys():\n",
    "    # plotting settings\n",
    "    matplotlib.rcParams.update({'font.size': 16})\n",
    "    fig = plt.figure(figsize=(5, 5), dpi=100)\n",
    "    bins = np.linspace(min(df_flat[key]), max(df_flat[key]), 30)\n",
    "    # plot!\n",
    "    _ = plt.hist(df_flat[key], bins=bins, histtype='step', label=r'$t\\overline{t}$')\n",
    "    # decorate\n",
    "    plt.xlabel(key)\n",
    "    plt.ylabel('Number of Jets')\n",
    "    plt.legend()\n",
    "    plt.plot()"
   ]
  },
  {
   "cell_type": "markdown",
   "metadata": {},
   "source": [
    "It's really easy and intuitive to add new columns to a dataframe. You can also define them as functions of other columns. This is great if you need to build your own hand-crafted variables."
   ]
  },
  {
   "cell_type": "code",
   "execution_count": 21,
   "metadata": {},
   "outputs": [],
   "source": [
    "df['Jet_P'] = (df['Jet_Px']**2 + df['Jet_Py']**2 + df['Jet_Pz']**2)**(0.5)"
   ]
  },
  {
   "cell_type": "code",
   "execution_count": 22,
   "metadata": {},
   "outputs": [
    {
     "data": {
      "text/html": [
       "<div>\n",
       "<style scoped>\n",
       "    .dataframe tbody tr th:only-of-type {\n",
       "        vertical-align: middle;\n",
       "    }\n",
       "\n",
       "    .dataframe tbody tr th {\n",
       "        vertical-align: top;\n",
       "    }\n",
       "\n",
       "    .dataframe thead th {\n",
       "        text-align: right;\n",
       "    }\n",
       "</style>\n",
       "<table border=\"1\" class=\"dataframe\">\n",
       "  <thead>\n",
       "    <tr style=\"text-align: right;\">\n",
       "      <th></th>\n",
       "      <th>Jet_P</th>\n",
       "      <th>Jet_Px</th>\n",
       "      <th>Jet_Py</th>\n",
       "      <th>Jet_Pz</th>\n",
       "      <th>Jet_E</th>\n",
       "    </tr>\n",
       "    <tr>\n",
       "      <th>entry</th>\n",
       "      <th></th>\n",
       "      <th></th>\n",
       "      <th></th>\n",
       "      <th></th>\n",
       "      <th></th>\n",
       "    </tr>\n",
       "  </thead>\n",
       "  <tbody>\n",
       "    <tr>\n",
       "      <th>0</th>\n",
       "      <td>[108.12998, 223.3551, 114.50726]</td>\n",
       "      <td>[14.536326, -22.598843, 47.94462]</td>\n",
       "      <td>[81.21743, -57.128605, -11.354554]</td>\n",
       "      <td>[69.88933, 214.73964, 103.36489]</td>\n",
       "      <td>[109.21035, 223.63397, 114.65055]</td>\n",
       "    </tr>\n",
       "    <tr>\n",
       "      <th>1</th>\n",
       "      <td>[263.06116, 104.59787, 72.537125, 70.43652, 50...</td>\n",
       "      <td>[28.441772, -56.915596, 33.166145, -56.35862, ...</td>\n",
       "      <td>[-77.406265, 27.35497, 53.657883, 26.635517, -...</td>\n",
       "      <td>[-249.80095, -83.384865, -35.811634, 32.795723...</td>\n",
       "      <td>[263.24673, 105.52607, 72.99872, 71.04415, 51....</td>\n",
       "    </tr>\n",
       "    <tr>\n",
       "      <th>2</th>\n",
       "      <td>[79.45207, 55.413086, 55.858456, 42.010414]</td>\n",
       "      <td>[-16.001389, -41.807266, 29.194143, 38.470554]</td>\n",
       "      <td>[-59.66587, 21.09322, -28.674322, 7.8084707]</td>\n",
       "      <td>[-49.965702, -29.628342, 38.021736, -14.963932]</td>\n",
       "      <td>[79.995316, 56.04854, 56.246387, 42.510105]</td>\n",
       "    </tr>\n",
       "    <tr>\n",
       "      <th>3</th>\n",
       "      <td>[71.50539, 84.58399]</td>\n",
       "      <td>[-40.803673, 37.520752]</td>\n",
       "      <td>[34.422157, -35.30761]</td>\n",
       "      <td>[-47.573055, -67.08217]</td>\n",
       "      <td>[72.2569, 85.326126]</td>\n",
       "    </tr>\n",
       "    <tr>\n",
       "      <th>4</th>\n",
       "      <td>[133.00642, 100.771614, 61.60091]</td>\n",
       "      <td>[-67.60135, 70.14259, 27.341812]</td>\n",
       "      <td>[83.323586, -71.90123, 50.182686]</td>\n",
       "      <td>[78.599915, -8.071459, 22.995554]</td>\n",
       "      <td>[135.26254, 101.79264, 62.296364]</td>\n",
       "    </tr>\n",
       "  </tbody>\n",
       "</table>\n",
       "</div>"
      ],
      "text/plain": [
       "                                                   Jet_P  \\\n",
       "entry                                                      \n",
       "0                       [108.12998, 223.3551, 114.50726]   \n",
       "1      [263.06116, 104.59787, 72.537125, 70.43652, 50...   \n",
       "2            [79.45207, 55.413086, 55.858456, 42.010414]   \n",
       "3                                   [71.50539, 84.58399]   \n",
       "4                      [133.00642, 100.771614, 61.60091]   \n",
       "\n",
       "                                                  Jet_Px  \\\n",
       "entry                                                      \n",
       "0                      [14.536326, -22.598843, 47.94462]   \n",
       "1      [28.441772, -56.915596, 33.166145, -56.35862, ...   \n",
       "2         [-16.001389, -41.807266, 29.194143, 38.470554]   \n",
       "3                                [-40.803673, 37.520752]   \n",
       "4                       [-67.60135, 70.14259, 27.341812]   \n",
       "\n",
       "                                                  Jet_Py  \\\n",
       "entry                                                      \n",
       "0                     [81.21743, -57.128605, -11.354554]   \n",
       "1      [-77.406265, 27.35497, 53.657883, 26.635517, -...   \n",
       "2           [-59.66587, 21.09322, -28.674322, 7.8084707]   \n",
       "3                                 [34.422157, -35.30761]   \n",
       "4                      [83.323586, -71.90123, 50.182686]   \n",
       "\n",
       "                                                  Jet_Pz  \\\n",
       "entry                                                      \n",
       "0                       [69.88933, 214.73964, 103.36489]   \n",
       "1      [-249.80095, -83.384865, -35.811634, 32.795723...   \n",
       "2        [-49.965702, -29.628342, 38.021736, -14.963932]   \n",
       "3                                [-47.573055, -67.08217]   \n",
       "4                      [78.599915, -8.071459, 22.995554]   \n",
       "\n",
       "                                                   Jet_E  \n",
       "entry                                                     \n",
       "0                      [109.21035, 223.63397, 114.65055]  \n",
       "1      [263.24673, 105.52607, 72.99872, 71.04415, 51....  \n",
       "2            [79.995316, 56.04854, 56.246387, 42.510105]  \n",
       "3                                   [72.2569, 85.326126]  \n",
       "4                      [135.26254, 101.79264, 62.296364]  "
      ]
     },
     "execution_count": 22,
     "metadata": {},
     "output_type": "execute_result"
    }
   ],
   "source": [
    "# -- again, you can easily slice dataframes by specifying the names of the branches you would like to select \n",
    "df[['Jet_P', 'Jet_Px', 'Jet_Py', 'Jet_Pz', 'Jet_E']].head()"
   ]
  },
  {
   "cell_type": "code",
   "execution_count": 23,
   "metadata": {},
   "outputs": [],
   "source": [
    "import uproot_methods"
   ]
  },
  {
   "cell_type": "code",
   "execution_count": 24,
   "metadata": {},
   "outputs": [],
   "source": [
    "# -- you can also build four vectors and store them in a new column in 1 line of code \n",
    "from uproot_methods import TLorentzVector\n",
    "df['Jet_4V'] = [map(lambda args: TLorentzVector(*args), zip(px, py, pz, e)) for \n",
    "                (_, (px, py, pz, e)) in df[['Jet_Px', 'Jet_Py', 'Jet_Pz', 'Jet_E']].iterrows()]"
   ]
  },
  {
   "cell_type": "code",
   "execution_count": 25,
   "metadata": {},
   "outputs": [
    {
     "data": {
      "text/plain": [
       "[<map at 0x126180dd0>,\n",
       " <map at 0x126180f90>,\n",
       " <map at 0x12617e150>,\n",
       " <map at 0x12617e2d0>,\n",
       " <map at 0x12617e450>]"
      ]
     },
     "execution_count": 25,
     "metadata": {},
     "output_type": "execute_result"
    }
   ],
   "source": [
    "# -- look at the 4-vectors of the jets in the first 5 events\n",
    "[_ for _ in df['Jet_4V'].head()]"
   ]
  },
  {
   "cell_type": "code",
   "execution_count": 26,
   "metadata": {},
   "outputs": [
    {
     "data": {
      "text/plain": [
       "[15.323401924031147, 11.164929207443834, 5.730252080241989]"
      ]
     },
     "execution_count": 26,
     "metadata": {},
     "output_type": "execute_result"
    }
   ],
   "source": [
    "# -- calculate the mass (or any other property) of all the jets in the first event\n",
    "[jet.mass for jet in df['Jet_4V'][0]]"
   ]
  },
  {
   "cell_type": "markdown",
   "metadata": {
    "collapsed": true
   },
   "source": [
    "There is obviously lots you can do with your data once you turn it into a standard Python object and move away from `ROOT`-specific classes. You can now take advantage of state-of-the-art Data Science and Machine Learning libraries to transform your data, while still recovering the functionalities you're used to."
   ]
  },
  {
   "cell_type": "markdown",
   "metadata": {
    "collapsed": true
   },
   "source": [
    "You can now move on to the <a href=\"deeplearning_intro.ipynb\">second notebook</a>."
   ]
  },
  {
   "cell_type": "code",
   "execution_count": null,
   "metadata": {},
   "outputs": [],
   "source": []
  }
 ],
 "metadata": {
  "kernelspec": {
   "display_name": "Python 3",
   "language": "python",
   "name": "python3"
  },
  "language_info": {
   "codemirror_mode": {
    "name": "ipython",
    "version": 3
   },
   "file_extension": ".py",
   "mimetype": "text/x-python",
   "name": "python",
   "nbconvert_exporter": "python",
   "pygments_lexer": "ipython3",
   "version": "3.7.6"
  },
  "latex_envs": {
   "bibliofile": "biblio.bib",
   "cite_by": "apalike",
   "current_citInitial": 1,
   "eqLabelWithNumbers": true,
   "eqNumInitial": 0
  }
 },
 "nbformat": 4,
 "nbformat_minor": 1
}
