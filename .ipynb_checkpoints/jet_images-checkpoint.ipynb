{
 "cells": [
  {
   "cell_type": "markdown",
   "metadata": {},
   "source": [
    "<center>\n",
    "<h1>Introduction to Jet Images and Computer Vision</h1>\n",
    "<h3>Tiago Vale - LIP</h3>\n",
    "<h4>Adapted from a tutorial by Michela Paganini</h4>\n",
    "</center>\n"
   ]
  },
  {
   "cell_type": "markdown",
   "metadata": {},
   "source": [
    "Material:\n",
    " 1. Ben Nachman's plenary talk at ACAT 2017 (<a href=\"https://indico.cern.ch/event/567550/contributions/2656471/attachments/1510207/2354761/Nachman_ACAT.pdf\">slides</a>)\n",
    " 1. My talk on Generative Adversarial Networks for jet images at the 2017 IML Workshop (<a href=\"http://cds.cern.ch/record/2256878?ln=en\">video</a>)\n",
    " 1. Jannicke Pearkes's talk on boosted top tagging with jet images at the 2017 IML Workshop (<a href=\"http://cds.cern.ch/record/2256876?ln=en\">video</a>)\n",
    " 1. Michael Kagan's overview talk at LHCP 2017 (<a href=\"https://cds.cern.ch/record/2267879?ln=en\">slides</a>)\n",
    " 1. ATLAS PUB Note on quark vs gluon tagging with jet images(<a href=\"https://cds.cern.ch/record/2275641/files/ATL-PHYS-PUB-2017-017.pdf\">note</a>)\n",
    " 1. Lynn Huynh's summer report on jet image pre-processing (<a href=\"https://cds.cern.ch/record/2209127/files/Lynn_Huynh_Report.pdf\">write-up</a>)\n",
    " 1. Ben Nachman's talk at DataScience@LHC 2015 (<a href=\"http://cds.cern.ch/record/2069153\">video</a>)"
   ]
  },
  {
   "cell_type": "markdown",
   "metadata": {},
   "source": [
    "# Dataset"
   ]
  },
  {
   "cell_type": "markdown",
   "metadata": {},
   "source": [
    "[![DOI](https://zenodo.org/badge/DOI/10.17632/4r4v785rgx.1.svg)](https://doi.org/10.17632/4r4v785rgx.1)"
   ]
  },
  {
   "cell_type": "markdown",
   "metadata": {},
   "source": [
    "<a href=\"https://zenodo.org/record/269622#.WgZFPRNSyRs\"><img src=\"images/zenodo.jpg\"></a>"
   ]
  },
  {
   "cell_type": "markdown",
   "metadata": {},
   "source": [
    "Although the dataset was released in conjunction with the arXiv publication of our [work on Generative Adversarial Networks for jet images](https://arxiv.org/pdf/1701.05927.pdf), it was previously used in the original \"[Jet Images -- Deep Learning Edition](https://link.springer.com/article/10.1007%2FJHEP07%282016%29069)\" work on jet image classification. Feel free to explore the dataset and use it for any project you have in mind (please cite the dataset and relevant publications explaining its generation!)"
   ]
  },
  {
   "cell_type": "markdown",
   "metadata": {},
   "source": [
    "### Download dataset from Zenodo"
   ]
  },
  {
   "cell_type": "code",
   "execution_count": null,
   "metadata": {},
   "outputs": [],
   "source": [
    "import os\n",
    "from keras.utils.data_utils import get_file\n",
    "\n",
    "# Info for downloading the dataset from Zenodo\n",
    "MD5_HASH = 'f9b11c46b6a0ff928bec2eccf865ecf0'\n",
    "DATAFILE = 'jet-images_Mass60-100_pT250-300_R1.25_Pix25.hdf5'\n",
    "URL_TEMPLATE = 'https://zenodo.org/record/{record}/files/{filename}'\n",
    "\n",
    "print('[INFO] MD5 verification: {}'.format(MD5_HASH))\n",
    "\n",
    "datafile = get_file(\n",
    "    fname=DATAFILE,\n",
    "    origin=URL_TEMPLATE.format(record=269622, filename=DATAFILE),\n",
    "    md5_hash=MD5_HASH\n",
    ")"
   ]
  },
  {
   "cell_type": "markdown",
   "metadata": {},
   "source": [
    "# Jets at the LHC"
   ]
  },
  {
   "cell_type": "markdown",
   "metadata": {},
   "source": [
    "<img src=\"http://cms.web.cern.ch/sites/cms.web.cern.ch/files/styles/large/public/field/image/jets_v1.png?itok=ULcYw1lS\">"
   ]
  },
  {
   "cell_type": "markdown",
   "metadata": {},
   "source": [
    "Jets are the observable result of quarks and gluons scattering at high energy. A collimated stream of\n",
    "protons and other hadrons forms in the direction of the initiating quark or gluon. Clusters of such\n",
    "particles are called jets."
   ]
  },
  {
   "cell_type": "markdown",
   "metadata": {},
   "source": [
    "# Jet Images"
   ]
  },
  {
   "cell_type": "markdown",
   "metadata": {},
   "source": [
    "Mature field of research! (image courtesy of B.P.Nachman) \n",
    "<img src=\"./images/graph.jpg\" width=\"800\">\n",
    "<a href=\"https://arxiv.org/abs/1709.04464\"><img src=\"./images/jet.jpg\" width=\"600\" align=\"right\" style=\"border:5px solid black\"></a>\n"
   ]
  },
  {
   "cell_type": "markdown",
   "metadata": {},
   "source": [
    "### What is a jet image?"
   ]
  },
  {
   "cell_type": "markdown",
   "metadata": {},
   "source": [
    "<img src=\"./images/jet_image.jpg\" width=\"300\">"
   ]
  },
  {
   "cell_type": "markdown",
   "metadata": {},
   "source": [
    "> A jet image is a two-dimensional representation of the radiation pattern within a jet: the distribution of the locations and energies of the jet’s constituent particles. The jet image consists of a regular grid of pixels in η×φ. \n",
    "\n",
    "Advantages of this data format include: easy visual inspection, fixed-length representation, suitable for application of computer vision techniques."
   ]
  },
  {
   "cell_type": "markdown",
   "metadata": {},
   "source": [
    "### Pre-processing"
   ]
  },
  {
   "cell_type": "markdown",
   "metadata": {},
   "source": [
    "In the dataset we will be using today:\n",
    "\n",
    "> The finite granularity of a calorimeter is simulated with a regular 0.1×0.1 grid in η and φ. The energy of each calorimeter cell is given by the sum of the energies of all particles incident on the cell. Cells with positive energy are assigned to jets using the anti-kt clustering algorithm with a radius parameter of R = 1.0 via the software package FastJet 3.2.1.\n",
    "\n",
    "> To mitigate the contribution from the underlying event, jets are are trimmed by re-clustering the constituents into R = 0.3 kt subjets and dropping those which have less than 5% of the transverse momentum of the parent jet. Trimming also reduces the impact of pileup: multiple proton-proton collisions occurring in the same event as the hard-scatter process. Jet images are formed by translating the η and φ of all constituents of a given jet so that its highest pT subjet is centered at the origin.\n",
    "\n",
    "> A rectangular grid of η × φ ∈ [−1.25, 1.25] × [−1.25, 1.25] with 0.1 × 0.1 pixels centered at the origin\n",
    "forms the basis of the jet image. The intensity of each pixel is the pT corresponding to the energy\n",
    "and pseudorapditiy of the constituent calorimeter cell, pT = E_cell/ cosh(η_cell). The radiation pattern\n",
    "is symmetric about the origin of the jet image and so the images are rotated. The subjet with the\n",
    "second highest pT (or, in its absence, the direction of the first principle component) is placed at an\n",
    "angle of −π/2 with respect to the η − φ axes. Finally, a parity transform about the vertical axis is\n",
    "applied if the left side of the image has more energy than the right side.\n",
    "\n",
    "<div align=\"right\">\n",
    "  <i>Learning Particle Physics by Example: Location-Aware Generative Adversarial Networks for Physics Synthesis</i> <br>\n",
    "  [arXiv:1701.05927](https://arxiv.org/pdf/1701.05927.pdf)\n",
    "</div>"
   ]
  },
  {
   "cell_type": "markdown",
   "metadata": {},
   "source": [
    "References: \n",
    "* Section 3 of [arXiv:1511.05190](https://link.springer.com/content/pdf/10.1007%2FJHEP07%282016%29069.pdf)\n",
    "* <a href=\"https://link.springer.com/article/10.1007/s41781-017-0004-6#Sec16\">Appendix B</a> of [arXiv:1701.05927](https://arxiv.org/pdf/1701.05927.pdf)"
   ]
  },
  {
   "cell_type": "markdown",
   "metadata": {},
   "source": [
    "### Uniqueness with respect to natural images in ML literature"
   ]
  },
  {
   "cell_type": "markdown",
   "metadata": {},
   "source": [
    "* Sparse (low occupancy)\n",
    "* High dynamic range (pixel intensity represents pT of particles and spans several orders of magnitude)\n",
    "* Pixel activations and positions are physically meaningful\n",
    "* Small variations can drastically modify physical properties of a jet"
   ]
  },
  {
   "cell_type": "markdown",
   "metadata": {},
   "source": [
    "# Hands-on tutorial"
   ]
  },
  {
   "cell_type": "code",
   "execution_count": 2,
   "metadata": {},
   "outputs": [],
   "source": [
    "import h5py\n",
    "import numpy as np\n",
    "import os\n",
    "import numpy as np\n",
    "import matplotlib\n",
    "import matplotlib.pyplot as plt\n",
    "import matplotlib.cm as cm\n",
    "from matplotlib.colors import LogNorm, Normalize\n",
    "%matplotlib inline"
   ]
  },
  {
   "cell_type": "code",
   "execution_count": 3,
   "metadata": {},
   "outputs": [],
   "source": [
    "# number of images to load\n",
    "nb_points = 800000"
   ]
  },
  {
   "cell_type": "code",
   "execution_count": 4,
   "metadata": {},
   "outputs": [],
   "source": [
    "# open hdf5 data file\n",
    "d = h5py.File(datafile, 'r')"
   ]
  },
  {
   "cell_type": "code",
   "execution_count": 5,
   "metadata": {},
   "outputs": [
    {
     "data": {
      "text/plain": [
       "ItemsViewHDF5(<HDF5 file \"jet-images_Mass60-100_pT250-300_R1.25_Pix25.hdf5\" (mode r)>)"
      ]
     },
     "execution_count": 5,
     "metadata": {},
     "output_type": "execute_result"
    }
   ],
   "source": [
    "# content of the dataset\n",
    "d.items()"
   ]
  },
  {
   "cell_type": "code",
   "execution_count": 6,
   "metadata": {},
   "outputs": [],
   "source": [
    "# extract a random subset of samples\n",
    "ix = list(range(d['image'].shape[0])) # get indices\n",
    "np.random.shuffle(ix) # shuffle them\n",
    "ix = ix[:nb_points] # select out nb_points\n",
    "\n",
    "# extract data from dataset\n",
    "images, labels = d['image'][:][ix], d['signal'][:][ix]\n",
    "mass = d['jet_mass'][:][ix]\n",
    "delta_R = d['jet_delta_R'][:][ix]\n",
    "tau_21 = d['tau_21'][:][ix]"
   ]
  },
  {
   "cell_type": "markdown",
   "metadata": {},
   "source": [
    "You can compute the quantities above directly from the images:"
   ]
  },
  {
   "cell_type": "markdown",
   "metadata": {},
   "source": [
    "\\begin{align}\n",
    "&p_\\text{T}^2(I) =\\left(\\sum_{i=0}^{N} I_i\\cos(\\phi_i)\\right)^2+\\left(\\sum_{i=0}^{N} I_i\\sin(\\phi_i)\\right)^2\n",
    "\\label{eq:pt}\n",
    "\\\\\n",
    "&m^2(I) = \\left(\\sum_{i=0}^{N} I_i\\right)^2-p_\\text{T}^2(I)-\\left(\\sum_{i=0}^{N} I_i\\sinh(\\eta_i)\\right)^2\n",
    "\\label{eq:m}\n",
    "\\\\\n",
    "&\\tau_{21}(I)=\\frac{\\tau_2(I)}{\\tau_1(I)},\n",
    "\\label{eq:tau21}\n",
    "\\end{align}\n",
    "where:\n",
    "\\begin{equation*}\n",
    "\\tau_{n}(I)\\propto\\sum_{i=0}^{N} I_i \\min_{1\\leq a\\leq n}\\left\\{\\sqrt{\\left(\\eta_i-\\eta_a\\right)^2+\\left(\\phi_i-\\phi_a\\right)^2}\\right\\}\n",
    "\\end{equation*}"
   ]
  },
  {
   "cell_type": "code",
   "execution_count": 7,
   "metadata": {},
   "outputs": [],
   "source": [
    "def plot_jet_image(content, output_fname=None, vmin=1e-6, vmax=300, title=''):\n",
    "    '''\n",
    "    Function to help you visualize a jet image on a log scale\n",
    "    Args:\n",
    "    -----\n",
    "        content : numpy array of dimensions 25x25, first arg to imshow, \n",
    "            content of the image\n",
    "            e.g.: images.mean(axis=0) --> the average image\n",
    "\n",
    "        output_fname : string, name of the output file where the plot will be \n",
    "            saved. \n",
    "\n",
    "        vmin : (default = 1e-6) float, lower bound of the pixel intensity \n",
    "            scale before saturation\n",
    "\n",
    "        vmax : (default = 300) float, upper bound of the pixel intensity \n",
    "            scale before saturation\n",
    "\n",
    "        title : (default = '') string, title of the plot, to be displayed \n",
    "            on top of the image\n",
    "    '''\n",
    "    fig, ax = plt.subplots(figsize=(7, 6))\n",
    "    extent = [-1.25, 1.25, -1.25, 1.25]\n",
    "\n",
    "    im = ax.imshow(content, interpolation='nearest',\n",
    "                   norm=LogNorm(vmin=vmin, vmax=vmax), extent=extent)\n",
    "\n",
    "    cbar = plt.colorbar(im, fraction=0.05, pad=0.05)\n",
    "    cbar.set_label(r'Pixel $p_T$ (GeV)', y=0.85)\n",
    "    plt.xlabel(r'[Transformed] Pseudorapidity $(\\eta)$')\n",
    "    plt.ylabel(r'[Transformed] Azimuthal Angle $(\\phi)$')\n",
    "    plt.title(title)\n",
    "\n",
    "    if output_fname is None:\n",
    "        plt.savefig('output_fname')"
   ]
  },
  {
   "cell_type": "code",
   "execution_count": 8,
   "metadata": {
    "scrolled": true
   },
   "outputs": [],
   "source": [
    "def plot_diff_jet_image(content, output_fname=None, extr=None, title='',\n",
    "                        cmap=matplotlib.cm.seismic):\n",
    "    '''\n",
    "    Function to help you visualize the difference between two sets of jet \n",
    "        images on a linear scale\n",
    "    Args:\n",
    "    -----\n",
    "        content : numpy array of dimensions 25x25, first arg to imshow, \n",
    "            content of the image\n",
    "            e.g.: sig_images.mean(axis=0) - bkg_images.mean(axis=0)\n",
    "        output_fname : string, name of the output file where the plot will be \n",
    "            saved.\n",
    "        extr : (default = None) float, magnitude of the upper and lower \n",
    "            bounds of the pixel intensity scale before saturation (symmetric \n",
    "            around 0)\n",
    "        title : (default = '') string, title of the plot, to be displayed on \n",
    "            top of the image\n",
    "        cmap : (default = matplotlib.cm.PRGn_r) matplotlib colormap, ideally \n",
    "            white in the middle\n",
    "    '''\n",
    "    fig, ax = plt.subplots(figsize=(6, 6))\n",
    "    extent = [-1.25, 1.25, -1.25, 1.25]\n",
    "    if extr == None:\n",
    "        extr = max(abs(content.min()), abs(content.max()))\n",
    "    im = ax.imshow(\n",
    "        content,\n",
    "        interpolation='nearest',\n",
    "        norm=Normalize(vmin=-extr, vmax=+extr), extent=extent,\n",
    "        cmap=cmap\n",
    "    )\n",
    "\n",
    "    plt.colorbar(im, fraction=0.05, pad=0.05)\n",
    "    plt.xlabel(r'[Transformed] Pseudorapidity $(\\eta)$')\n",
    "    plt.ylabel(r'[Transformed] Azimuthal Angle $(\\phi)$')\n",
    "    plt.title(title)\n",
    "\n",
    "    if output_fname:\n",
    "        plt.savefig(output_fname)\n"
   ]
  },
  {
   "cell_type": "code",
   "execution_count": 9,
   "metadata": {},
   "outputs": [
    {
     "data": {
      "image/png": "[encoded data removed]",
      "text/plain": [
       "<Figure size 504x432 with 2 Axes>"
      ]
     },
     "metadata": {
      "needs_background": "light"
     },
     "output_type": "display_data"
    }
   ],
   "source": [
    "# visualize a jet image\n",
    "plot_jet_image(images[0])"
   ]
  },
  {
   "cell_type": "code",
   "execution_count": 10,
   "metadata": {
    "scrolled": false
   },
   "outputs": [
    {
     "data": {
      "image/png": "[encoded data removed]",
      "text/plain": [
       "<Figure size 504x432 with 2 Axes>"
      ]
     },
     "metadata": {
      "needs_background": "light"
     },
     "output_type": "display_data"
    }
   ],
   "source": [
    "# visualize the average jet image\n",
    "plot_jet_image(images.mean(axis=0))"
   ]
  },
  {
   "cell_type": "code",
   "execution_count": 11,
   "metadata": {},
   "outputs": [
    {
     "data": {
      "image/png": "[encoded data removed]",
      "text/plain": [
       "<Figure size 432x432 with 2 Axes>"
      ]
     },
     "metadata": {
      "needs_background": "light"
     },
     "output_type": "display_data"
    }
   ],
   "source": [
    "# visualize the difference between the average signal and the average background image\n",
    "plot_diff_jet_image(\n",
    "    images[labels == 1].mean(axis=0) - images[labels == 0].mean(axis=0)\n",
    ")"
   ]
  },
  {
   "cell_type": "markdown",
   "metadata": {},
   "source": [
    "## Looking at Physics features"
   ]
  },
  {
   "cell_type": "code",
   "execution_count": 14,
   "metadata": {},
   "outputs": [],
   "source": [
    "def plot_physics_feature(feature_name, feature, labels, bins=None, output_fname=None):\n",
    "\n",
    "    # if bins are not defined when function is called, define them here\n",
    "    if not bins:\n",
    "        bins = np.linspace(feature.min(), feature.max(), 50)\n",
    "\n",
    "    fig, ax = plt.subplots(figsize=(6, 6))\n",
    "\n",
    "    _ = plt.hist(feature[labels == 1], bins=bins, histtype='step',\n",
    "                 label=r\"Signal ($W' \\rightarrow WZ$)\",\n",
    "                 color='red')\n",
    "\n",
    "    _ = plt.hist(feature[labels == 0], bins=bins, histtype='step',\n",
    "                 label=r'Background (QCD dijets)', color='blue')\n",
    "\n",
    "    plt.xlabel(r'Discretized {} of Jet Image'.format(feature_name))\n",
    "    plt.ylabel(r'Units normalized to unit area')\n",
    "    plt.legend()\n",
    "\n",
    "    if output_fname:\n",
    "        plt.savefig(output_fname)\n"
   ]
  },
  {
   "cell_type": "code",
   "execution_count": 15,
   "metadata": {},
   "outputs": [
    {
     "data": {
      "image/png": "[encoded data removed]",
      "text/plain": [
       "<Figure size 432x432 with 1 Axes>"
      ]
     },
     "metadata": {
      "needs_background": "light"
     },
     "output_type": "display_data"
    }
   ],
   "source": [
    "plot_physics_feature(r'$m$', mass, labels)"
   ]
  },
  {
   "cell_type": "code",
   "execution_count": 16,
   "metadata": {},
   "outputs": [
    {
     "data": {
      "image/png": "[encoded data removed]",
      "text/plain": [
       "<Figure size 432x432 with 1 Axes>"
      ]
     },
     "metadata": {
      "needs_background": "light"
     },
     "output_type": "display_data"
    }
   ],
   "source": [
    "plot_physics_feature(r'$\\Delta R$', delta_R, labels)"
   ]
  },
  {
   "cell_type": "code",
   "execution_count": 17,
   "metadata": {},
   "outputs": [
    {
     "data": {
      "image/png": "[encoded data removed]",
      "text/plain": [
       "<Figure size 432x432 with 1 Axes>"
      ]
     },
     "metadata": {
      "needs_background": "light"
     },
     "output_type": "display_data"
    }
   ],
   "source": [
    "plot_physics_feature(r'$\\tau_{2,1}$', tau_21, labels)"
   ]
  },
  {
   "cell_type": "markdown",
   "metadata": {},
   "source": [
    "# Jet Image Classification"
   ]
  },
  {
   "cell_type": "markdown",
   "metadata": {},
   "source": [
    "We can now try to use various techniques to classify the jet images into signal (i.e. originating from boosted W bosons) and background (QCD).\n",
    "\n",
    "We will start with a classic feature-based classifier, which will use properties of the jet such as mass, tau_21, and delta_R (known to have good discriminative power) to separate the two classes.\n",
    "\n",
    "Then, we will construct different networks that operate directly at the pixel level and compare them all."
   ]
  },
  {
   "cell_type": "markdown",
   "metadata": {},
   "source": [
    "## Simple feature-based classifier"
   ]
  },
  {
   "cell_type": "markdown",
   "metadata": {},
   "source": [
    "#### Data processing"
   ]
  },
  {
   "cell_type": "markdown",
   "metadata": {},
   "source": [
    "Follow the procedure from yesterday to create your matrix of features X. Shuffle its entries, split them into train, test, and validation set, and scale them to zero mean and unit standard deviation."
   ]
  },
  {
   "cell_type": "code",
   "execution_count": 18,
   "metadata": {},
   "outputs": [],
   "source": [
    "features = np.stack((mass, tau_21, delta_R)).T # What we called X yesterday"
   ]
  },
  {
   "cell_type": "code",
   "execution_count": 19,
   "metadata": {},
   "outputs": [
    {
     "data": {
      "text/plain": [
       "array([[7.4899811e+01, 1.3971861e-01, 5.7381898e-01],\n",
       "       [9.6999718e+01, 3.8425145e-01, 7.0187241e-01],\n",
       "       [8.1882729e+01, 3.6674374e-01, 5.5160850e-01],\n",
       "       ...,\n",
       "       [8.1609734e+01, 3.1000379e-01, 6.3720000e-01],\n",
       "       [7.3569969e+01, 8.4428534e-02, 4.9061748e-01],\n",
       "       [7.7200653e+01, 1.0726629e-01, 5.4942137e-01]], dtype=float32)"
      ]
     },
     "execution_count": 19,
     "metadata": {},
     "output_type": "execute_result"
    }
   ],
   "source": [
    "features"
   ]
  },
  {
   "cell_type": "code",
   "execution_count": 20,
   "metadata": {},
   "outputs": [],
   "source": [
    "from sklearn.model_selection import train_test_split"
   ]
  },
  {
   "cell_type": "code",
   "execution_count": 21,
   "metadata": {},
   "outputs": [],
   "source": [
    "# 80% train+validate, 20% test\n",
    "images_train, images_test, \\\n",
    "    labels_train, labels_test, \\\n",
    "    features_train, features_test \\\n",
    "    = train_test_split(images, labels, features,\n",
    "                       test_size=0.2)\n",
    "\n",
    "# 64% train, 16% validate\n",
    "images_train, images_val, \\\n",
    "    labels_train, labels_val, \\\n",
    "    features_train, features_val \\\n",
    "    = train_test_split(images_train, labels_train, features_train,\n",
    "                       test_size=0.2)"
   ]
  },
  {
   "cell_type": "code",
   "execution_count": 22,
   "metadata": {},
   "outputs": [
    {
     "name": "stdout",
     "output_type": "stream",
     "text": [
      "512000 training samples\n",
      "128000 validation samples\n",
      "160000 testing samples\n"
     ]
    }
   ],
   "source": [
    "print ('{} training samples\\n{} validation samples\\n{} testing samples'\n",
    "       .format(images_train.shape[0], images_val.shape[0], images_test.shape[0]))"
   ]
  },
  {
   "cell_type": "code",
   "execution_count": 23,
   "metadata": {},
   "outputs": [],
   "source": [
    "from sklearn.preprocessing import StandardScaler"
   ]
  },
  {
   "cell_type": "code",
   "execution_count": 24,
   "metadata": {},
   "outputs": [],
   "source": [
    "scaler = StandardScaler()\n",
    "features_train = scaler.fit_transform(features_train)\n",
    "features_val = scaler.transform(features_val)\n",
    "features_test = scaler.transform(features_test)"
   ]
  },
  {
   "cell_type": "markdown",
   "metadata": {},
   "source": [
    "#### Model"
   ]
  },
  {
   "cell_type": "markdown",
   "metadata": {},
   "source": [
    "Build a simple keras model made of fully-connected (Dense) layers. Remember the steps:\n",
    "1. Define the symbolic graph by connecting layers\n",
    "1. Define an optimizer and a loss function to minimize\n",
    "1. Train ('fit') the model to the training dataset, monitoring whether the validation loss continues to decrease\n",
    "1. Stop the training automatically when the validation loss stops going down\n",
    "1. Evaluate performance on test set"
   ]
  },
  {
   "cell_type": "markdown",
   "metadata": {},
   "source": [
    "Recall activation functions: Rectified Linear Unit (relu) vs. Leaky Rectified Linear Unit\n",
    "<img src=\"https://cdn-images-1.medium.com/max/1600/1*A_Bzn0CjUgOXtPCJKnKLqA.jpeg\">"
   ]
  },
  {
   "cell_type": "code",
   "execution_count": 25,
   "metadata": {},
   "outputs": [],
   "source": [
    "from keras.layers import Input, Dense, Dropout\n",
    "from keras.models import Model\n",
    "from keras.callbacks import EarlyStopping, ModelCheckpoint"
   ]
  },
  {
   "cell_type": "code",
   "execution_count": 26,
   "metadata": {},
   "outputs": [],
   "source": [
    "x = Input(shape=(features_train.shape[1], ))\n",
    "h = Dense(64, activation='relu')(x)\n",
    "h = Dense(64, activation='relu')(h)\n",
    "h = Dense(64, activation='relu')(h)\n",
    "y = Dense(1, activation='sigmoid')(h)"
   ]
  },
  {
   "cell_type": "code",
   "execution_count": 30,
   "metadata": {},
   "outputs": [],
   "source": [
    "baseline_model = Model(x, y)\n",
    "baseline_model.compile('adam', 'binary_crossentropy', metrics=['acc'])"
   ]
  },
  {
   "cell_type": "markdown",
   "metadata": {},
   "source": [
    "The command below trains the model. However, in the interest of time, I will not train the network on the spot. I will instead load in pre-trained weights from a training I performed last night."
   ]
  },
  {
   "cell_type": "code",
   "execution_count": 35,
   "metadata": {
    "scrolled": true
   },
   "outputs": [
    {
     "name": "stdout",
     "output_type": "stream",
     "text": [
      "Epoch 1/200\n",
      "4000/4000 [==============================] - 4s 936us/step - loss: 0.4614 - acc: 0.7879 - val_loss: 0.4503 - val_acc: 0.7918\n",
      "\n",
      "Epoch 00001: val_loss improved from inf to 0.45032, saving model to ./models/baseline-model.h5\n",
      "Epoch 2/200\n",
      "4000/4000 [==============================] - 4s 908us/step - loss: 0.4514 - acc: 0.7925 - val_loss: 0.4509 - val_acc: 0.7923\n",
      "\n",
      "Epoch 00002: val_loss did not improve from 0.45032\n",
      "Epoch 3/200\n",
      "4000/4000 [==============================] - 4s 883us/step - loss: 0.4508 - acc: 0.7924 - val_loss: 0.4493 - val_acc: 0.7931\n",
      "\n",
      "Epoch 00003: val_loss improved from 0.45032 to 0.44934, saving model to ./models/baseline-model.h5\n",
      "Epoch 4/200\n",
      "4000/4000 [==============================] - 4s 881us/step - loss: 0.4511 - acc: 0.7931 - val_loss: 0.4498 - val_acc: 0.7926\n",
      "\n",
      "Epoch 00004: val_loss did not improve from 0.44934\n",
      "Epoch 5/200\n",
      "4000/4000 [==============================] - 4s 915us/step - loss: 0.4508 - acc: 0.7926 - val_loss: 0.4494 - val_acc: 0.7931\n",
      "\n",
      "Epoch 00005: val_loss did not improve from 0.44934\n",
      "Epoch 6/200\n",
      "4000/4000 [==============================] - 4s 919us/step - loss: 0.4498 - acc: 0.7934 - val_loss: 0.4489 - val_acc: 0.7933\n",
      "\n",
      "Epoch 00006: val_loss improved from 0.44934 to 0.44887, saving model to ./models/baseline-model.h5\n",
      "Epoch 7/200\n",
      "4000/4000 [==============================] - 4s 1ms/step - loss: 0.4509 - acc: 0.7934 - val_loss: 0.4490 - val_acc: 0.7927\n",
      "\n",
      "Epoch 00007: val_loss did not improve from 0.44887\n",
      "Epoch 8/200\n",
      "4000/4000 [==============================] - 4s 955us/step - loss: 0.4494 - acc: 0.7937 - val_loss: 0.4493 - val_acc: 0.7925\n",
      "\n",
      "Epoch 00008: val_loss did not improve from 0.44887\n",
      "Epoch 9/200\n",
      "4000/4000 [==============================] - 4s 937us/step - loss: 0.4496 - acc: 0.7934 - val_loss: 0.4491 - val_acc: 0.7932\n",
      "\n",
      "Epoch 00009: val_loss did not improve from 0.44887\n",
      "Epoch 10/200\n",
      "4000/4000 [==============================] - 4s 993us/step - loss: 0.4508 - acc: 0.7926 - val_loss: 0.4495 - val_acc: 0.7929\n",
      "\n",
      "Epoch 00010: val_loss did not improve from 0.44887\n",
      "Epoch 11/200\n",
      "4000/4000 [==============================] - 4s 949us/step - loss: 0.4490 - acc: 0.7935 - val_loss: 0.4500 - val_acc: 0.7928\n",
      "\n",
      "Epoch 00011: val_loss did not improve from 0.44887\n",
      "Epoch 12/200\n",
      "4000/4000 [==============================] - 4s 952us/step - loss: 0.4501 - acc: 0.7929 - val_loss: 0.4487 - val_acc: 0.7932\n",
      "\n",
      "Epoch 00012: val_loss improved from 0.44887 to 0.44868, saving model to ./models/baseline-model.h5\n",
      "Epoch 13/200\n",
      "4000/4000 [==============================] - 4s 970us/step - loss: 0.4500 - acc: 0.7931 - val_loss: 0.4493 - val_acc: 0.7927\n",
      "\n",
      "Epoch 00013: val_loss did not improve from 0.44868\n",
      "Epoch 14/200\n",
      "4000/4000 [==============================] - 4s 940us/step - loss: 0.4496 - acc: 0.7936 - val_loss: 0.4493 - val_acc: 0.7926\n",
      "\n",
      "Epoch 00014: val_loss did not improve from 0.44868\n",
      "Epoch 15/200\n",
      "4000/4000 [==============================] - 4s 941us/step - loss: 0.4499 - acc: 0.7932 - val_loss: 0.4489 - val_acc: 0.7930\n",
      "\n",
      "Epoch 00015: val_loss did not improve from 0.44868\n",
      "Epoch 16/200\n",
      "4000/4000 [==============================] - 4s 941us/step - loss: 0.4504 - acc: 0.7930 - val_loss: 0.4496 - val_acc: 0.7925\n",
      "\n",
      "Epoch 00016: val_loss did not improve from 0.44868\n",
      "Epoch 17/200\n",
      "4000/4000 [==============================] - 4s 939us/step - loss: 0.4502 - acc: 0.7923 - val_loss: 0.4490 - val_acc: 0.7930\n",
      "\n",
      "Epoch 00017: val_loss did not improve from 0.44868\n",
      "Epoch 18/200\n",
      "4000/4000 [==============================] - 5s 1ms/step - loss: 0.4501 - acc: 0.7928 - val_loss: 0.4485 - val_acc: 0.7930\n",
      "\n",
      "Epoch 00018: val_loss improved from 0.44868 to 0.44849, saving model to ./models/baseline-model.h5\n",
      "Epoch 19/200\n",
      "4000/4000 [==============================] - 4s 1ms/step - loss: 0.4495 - acc: 0.7935 - val_loss: 0.4491 - val_acc: 0.7927\n",
      "\n",
      "Epoch 00019: val_loss did not improve from 0.44849\n",
      "Epoch 20/200\n",
      "4000/4000 [==============================] - 4s 1ms/step - loss: 0.4490 - acc: 0.7938 - val_loss: 0.4487 - val_acc: 0.7934\n",
      "\n",
      "Epoch 00020: val_loss did not improve from 0.44849\n",
      "Epoch 21/200\n",
      "4000/4000 [==============================] - 4s 1ms/step - loss: 0.4501 - acc: 0.7928 - val_loss: 0.4488 - val_acc: 0.7930\n",
      "\n",
      "Epoch 00021: val_loss did not improve from 0.44849\n",
      "Epoch 22/200\n",
      "4000/4000 [==============================] - 4s 1ms/step - loss: 0.4509 - acc: 0.7925 - val_loss: 0.4486 - val_acc: 0.7927\n",
      "\n",
      "Epoch 00022: val_loss did not improve from 0.44849\n",
      "Epoch 23/200\n",
      "4000/4000 [==============================] - 4s 949us/step - loss: 0.4503 - acc: 0.7930 - val_loss: 0.4486 - val_acc: 0.7930\n",
      "\n",
      "Epoch 00023: val_loss did not improve from 0.44849\n",
      "Epoch 24/200\n",
      "4000/4000 [==============================] - 4s 932us/step - loss: 0.4501 - acc: 0.7927 - val_loss: 0.4488 - val_acc: 0.7928\n",
      "\n",
      "Epoch 00024: val_loss did not improve from 0.44849\n",
      "Epoch 25/200\n",
      "4000/4000 [==============================] - 4s 909us/step - loss: 0.4495 - acc: 0.7931 - val_loss: 0.4486 - val_acc: 0.7929\n",
      "\n",
      "Epoch 00025: val_loss did not improve from 0.44849\n",
      "Epoch 26/200\n",
      "4000/4000 [==============================] - 4s 915us/step - loss: 0.4488 - acc: 0.7944 - val_loss: 0.4485 - val_acc: 0.7934\n",
      "\n",
      "Epoch 00026: val_loss did not improve from 0.44849\n",
      "Epoch 27/200\n",
      "4000/4000 [==============================] - 4s 921us/step - loss: 0.4501 - acc: 0.7929 - val_loss: 0.4485 - val_acc: 0.7933\n",
      "\n",
      "Epoch 00027: val_loss improved from 0.44849 to 0.44846, saving model to ./models/baseline-model.h5\n",
      "Epoch 28/200\n",
      "4000/4000 [==============================] - 4s 916us/step - loss: 0.4500 - acc: 0.7933 - val_loss: 0.4488 - val_acc: 0.7932\n",
      "\n",
      "Epoch 00028: val_loss did not improve from 0.44846\n",
      "Epoch 29/200\n",
      "4000/4000 [==============================] - 4s 921us/step - loss: 0.4491 - acc: 0.7935 - val_loss: 0.4486 - val_acc: 0.7932\n",
      "\n",
      "Epoch 00029: val_loss did not improve from 0.44846\n",
      "Epoch 30/200\n",
      "4000/4000 [==============================] - 4s 922us/step - loss: 0.4503 - acc: 0.7932 - val_loss: 0.4487 - val_acc: 0.7934\n",
      "\n",
      "Epoch 00030: val_loss did not improve from 0.44846\n",
      "Epoch 31/200\n",
      "4000/4000 [==============================] - 4s 1ms/step - loss: 0.4488 - acc: 0.7935 - val_loss: 0.4495 - val_acc: 0.7932\n",
      "\n",
      "Epoch 00031: val_loss did not improve from 0.44846\n",
      "Epoch 32/200\n",
      "4000/4000 [==============================] - 4s 1ms/step - loss: 0.4510 - acc: 0.7918 - val_loss: 0.4484 - val_acc: 0.7934\n",
      "\n",
      "Epoch 00032: val_loss improved from 0.44846 to 0.44842, saving model to ./models/baseline-model.h5\n",
      "Epoch 33/200\n",
      "4000/4000 [==============================] - 4s 934us/step - loss: 0.4496 - acc: 0.7938 - val_loss: 0.4486 - val_acc: 0.7932\n",
      "\n",
      "Epoch 00033: val_loss did not improve from 0.44842\n",
      "Epoch 34/200\n",
      "4000/4000 [==============================] - 4s 915us/step - loss: 0.4492 - acc: 0.7936 - val_loss: 0.4484 - val_acc: 0.7932\n",
      "\n",
      "Epoch 00034: val_loss did not improve from 0.44842\n",
      "Epoch 35/200\n",
      "4000/4000 [==============================] - 4s 917us/step - loss: 0.4507 - acc: 0.7925 - val_loss: 0.4493 - val_acc: 0.7926\n",
      "\n",
      "Epoch 00035: val_loss did not improve from 0.44842\n",
      "Epoch 36/200\n",
      "4000/4000 [==============================] - 5s 1ms/step - loss: 0.4488 - acc: 0.7942 - val_loss: 0.4492 - val_acc: 0.7931\n",
      "\n",
      "Epoch 00036: val_loss did not improve from 0.44842\n",
      "Epoch 37/200\n",
      "4000/4000 [==============================] - 5s 1ms/step - loss: 0.4484 - acc: 0.7941 - val_loss: 0.4487 - val_acc: 0.7932\n",
      "\n",
      "Epoch 00037: val_loss did not improve from 0.44842\n",
      "Epoch 38/200\n",
      "4000/4000 [==============================] - 5s 1ms/step - loss: 0.4487 - acc: 0.7936 - val_loss: 0.4484 - val_acc: 0.7933\n",
      "\n",
      "Epoch 00038: val_loss did not improve from 0.44842\n",
      "Epoch 39/200\n",
      "4000/4000 [==============================] - 5s 1ms/step - loss: 0.4489 - acc: 0.7933 - val_loss: 0.4487 - val_acc: 0.7928\n",
      "\n",
      "Epoch 00039: val_loss did not improve from 0.44842\n",
      "Epoch 40/200\n",
      "4000/4000 [==============================] - 4s 1ms/step - loss: 0.4499 - acc: 0.7932 - val_loss: 0.4484 - val_acc: 0.7932\n",
      "\n",
      "Epoch 00040: val_loss improved from 0.44842 to 0.44842, saving model to ./models/baseline-model.h5\n",
      "Epoch 41/200\n",
      "4000/4000 [==============================] - 4s 1ms/step - loss: 0.4502 - acc: 0.7933 - val_loss: 0.4489 - val_acc: 0.7931\n",
      "\n",
      "Epoch 00041: val_loss did not improve from 0.44842\n",
      "Epoch 42/200\n",
      "4000/4000 [==============================] - 4s 877us/step - loss: 0.4486 - acc: 0.7938 - val_loss: 0.4485 - val_acc: 0.7930\n",
      "\n",
      "Epoch 00042: val_loss did not improve from 0.44842\n",
      "Epoch 43/200\n",
      "4000/4000 [==============================] - 4s 979us/step - loss: 0.4481 - acc: 0.7946 - val_loss: 0.4484 - val_acc: 0.7933\n",
      "\n",
      "Epoch 00043: val_loss improved from 0.44842 to 0.44839, saving model to ./models/baseline-model.h5\n",
      "Epoch 44/200\n",
      "4000/4000 [==============================] - 4s 974us/step - loss: 0.4493 - acc: 0.7937 - val_loss: 0.4492 - val_acc: 0.7930\n",
      "\n",
      "Epoch 00044: val_loss did not improve from 0.44839\n",
      "Epoch 45/200\n",
      "4000/4000 [==============================] - 3s 872us/step - loss: 0.4489 - acc: 0.7939 - val_loss: 0.4485 - val_acc: 0.7933\n",
      "\n",
      "Epoch 00045: val_loss did not improve from 0.44839\n",
      "Epoch 46/200\n",
      "4000/4000 [==============================] - 4s 914us/step - loss: 0.4499 - acc: 0.7931 - val_loss: 0.4484 - val_acc: 0.7933\n",
      "\n",
      "Epoch 00046: val_loss did not improve from 0.44839\n",
      "Epoch 47/200\n",
      "4000/4000 [==============================] - 4s 908us/step - loss: 0.4495 - acc: 0.7941 - val_loss: 0.4489 - val_acc: 0.7929\n",
      "\n",
      "Epoch 00047: val_loss did not improve from 0.44839\n",
      "Epoch 48/200\n",
      "4000/4000 [==============================] - 3s 862us/step - loss: 0.4491 - acc: 0.7940 - val_loss: 0.4488 - val_acc: 0.7931\n",
      "\n",
      "Epoch 00048: val_loss did not improve from 0.44839\n",
      "Epoch 49/200\n",
      "4000/4000 [==============================] - 4s 946us/step - loss: 0.4501 - acc: 0.7930 - val_loss: 0.4489 - val_acc: 0.7927\n",
      "\n",
      "Epoch 00049: val_loss did not improve from 0.44839\n",
      "Epoch 50/200\n",
      "4000/4000 [==============================] - 4s 903us/step - loss: 0.4491 - acc: 0.7934 - val_loss: 0.4488 - val_acc: 0.7937\n",
      "\n",
      "Epoch 00050: val_loss did not improve from 0.44839\n",
      "Epoch 51/200\n",
      "4000/4000 [==============================] - 4s 896us/step - loss: 0.4494 - acc: 0.7936 - val_loss: 0.4486 - val_acc: 0.7930\n",
      "\n",
      "Epoch 00051: val_loss did not improve from 0.44839\n",
      "Epoch 52/200\n",
      "4000/4000 [==============================] - 4s 886us/step - loss: 0.4495 - acc: 0.7934 - val_loss: 0.4484 - val_acc: 0.7934\n",
      "\n",
      "Epoch 00052: val_loss did not improve from 0.44839\n",
      "Epoch 53/200\n",
      "4000/4000 [==============================] - 3s 856us/step - loss: 0.4501 - acc: 0.7930 - val_loss: 0.4485 - val_acc: 0.7929\n",
      "\n",
      "Epoch 00053: val_loss did not improve from 0.44839\n",
      "Epoch 54/200\n",
      "4000/4000 [==============================] - 3s 870us/step - loss: 0.4498 - acc: 0.7935 - val_loss: 0.4488 - val_acc: 0.7931\n",
      "\n",
      "Epoch 00054: val_loss did not improve from 0.44839\n",
      "Epoch 55/200\n",
      "4000/4000 [==============================] - 3s 873us/step - loss: 0.4478 - acc: 0.7945 - val_loss: 0.4485 - val_acc: 0.7929\n",
      "\n",
      "Epoch 00055: val_loss did not improve from 0.44839\n",
      "Epoch 56/200\n",
      "4000/4000 [==============================] - 4s 971us/step - loss: 0.4484 - acc: 0.7941 - val_loss: 0.4489 - val_acc: 0.7932\n",
      "\n",
      "Epoch 00056: val_loss did not improve from 0.44839\n",
      "Epoch 57/200\n",
      "4000/4000 [==============================] - 4s 998us/step - loss: 0.4497 - acc: 0.7930 - val_loss: 0.4485 - val_acc: 0.7931\n",
      "\n",
      "Epoch 00057: val_loss did not improve from 0.44839\n",
      "Epoch 58/200\n",
      "4000/4000 [==============================] - 3s 873us/step - loss: 0.4487 - acc: 0.7938 - val_loss: 0.4487 - val_acc: 0.7935\n",
      "\n",
      "Epoch 00058: val_loss did not improve from 0.44839\n",
      "Epoch 00058: early stopping\n"
     ]
    },
    {
     "data": {
      "text/plain": [
       "<tensorflow.python.keras.callbacks.History at 0x163ad2110>"
      ]
     },
     "execution_count": 35,
     "metadata": {},
     "output_type": "execute_result"
    }
   ],
   "source": [
    "baseline_model.fit(\n",
    "    features_train, labels_train, # X and y\n",
    "    epochs=200,\n",
    "    batch_size=128,\n",
    "    validation_data=(features_val, labels_val), # validation X and y\n",
    "    callbacks=[\n",
    "        EarlyStopping(verbose=True, patience=15, monitor='val_loss'),\n",
    "        ModelCheckpoint('./models/baseline-model.h5', monitor='val_loss',\n",
    "                        verbose=True, save_best_only=True)\n",
    "    ]\n",
    ")"
   ]
  },
  {
   "cell_type": "markdown",
   "metadata": {},
   "source": [
    "If you were to actually run the training, you would be able to visualize its history. Keras saves the entire training history, keeping track of whatever metric you specify (here accuracy and loss)."
   ]
  },
  {
   "cell_type": "code",
   "execution_count": 36,
   "metadata": {},
   "outputs": [
    {
     "data": {
      "text/plain": [
       "<tensorflow.python.keras.engine.functional.Functional at 0x16063eed0>"
      ]
     },
     "execution_count": 36,
     "metadata": {},
     "output_type": "execute_result"
    }
   ],
   "source": [
    "baseline_model"
   ]
  },
  {
   "cell_type": "code",
   "execution_count": 37,
   "metadata": {},
   "outputs": [
    {
     "data": {
      "text/plain": [
       "dict_keys(['loss', 'acc', 'val_loss', 'val_acc'])"
      ]
     },
     "execution_count": 37,
     "metadata": {},
     "output_type": "execute_result"
    }
   ],
   "source": [
    "history = baseline_model.history.history\n",
    "history.keys()"
   ]
  },
  {
   "cell_type": "code",
   "execution_count": 38,
   "metadata": {},
   "outputs": [
    {
     "data": {
      "image/png": "[encoded data removed]",
      "text/plain": [
       "<Figure size 432x288 with 1 Axes>"
      ]
     },
     "metadata": {
      "needs_background": "light"
     },
     "output_type": "display_data"
    }
   ],
   "source": [
    "# accuracy plot\n",
    "plt.plot(100 * np.array(history['acc']), label='training')\n",
    "plt.plot(100 * np.array(history['val_acc']), label='validation')\n",
    "plt.xlim(0)\n",
    "plt.xlabel('epoch')\n",
    "plt.ylabel('accuracy %')\n",
    "plt.legend(loc='lower right', fontsize=20)\n",
    "plt.show()"
   ]
  },
  {
   "cell_type": "code",
   "execution_count": 39,
   "metadata": {},
   "outputs": [
    {
     "data": {
      "image/png": "[encoded data removed]",
      "text/plain": [
       "<Figure size 432x288 with 1 Axes>"
      ]
     },
     "metadata": {
      "needs_background": "light"
     },
     "output_type": "display_data"
    }
   ],
   "source": [
    "# loss plot\n",
    "plt.plot(100 * np.array(history['loss']), label='training')\n",
    "plt.plot(100 * np.array(history['val_loss']), label='validation')\n",
    "plt.xlim(0)\n",
    "plt.xlabel('epoch')\n",
    "plt.ylabel('loss')\n",
    "plt.legend(loc='upper right', fontsize=20)\n",
    "# the line indicate the epoch corresponding to the best performance on the validation set\n",
    "# plt.vlines(np.argmin(history['val_loss']), 45, 56, linestyle='dashed', linewidth=0.5)\n",
    "plt.show()"
   ]
  },
  {
   "cell_type": "code",
   "execution_count": 53,
   "metadata": {},
   "outputs": [
    {
     "name": "stdout",
     "output_type": "stream",
     "text": [
      "Loss estimate on unseen examples (from validation set) = 0.448\n"
     ]
    }
   ],
   "source": [
    "print('Loss estimate on unseen examples (from validation set) = {0:.3f}'.format(np.min(history['val_loss'])))"
   ]
  },
  {
   "cell_type": "markdown",
   "metadata": {},
   "source": [
    "#### Evaluate on test set"
   ]
  },
  {
   "cell_type": "code",
   "execution_count": 41,
   "metadata": {},
   "outputs": [],
   "source": [
    "baseline_model.load_weights('./models/baseline-model.h5')"
   ]
  },
  {
   "cell_type": "code",
   "execution_count": 42,
   "metadata": {},
   "outputs": [],
   "source": [
    "yhat_baseline = baseline_model.predict(features_test, batch_size=512)"
   ]
  },
  {
   "cell_type": "code",
   "execution_count": 43,
   "metadata": {},
   "outputs": [
    {
     "data": {
      "text/plain": [
       "Text(0.5, 0, 'P(signal) assigned by the baseline model')"
      ]
     },
     "execution_count": 43,
     "metadata": {},
     "output_type": "execute_result"
    },
    {
     "data": {
      "image/png": "[encoded data removed]",
      "text/plain": [
       "<Figure size 432x288 with 1 Axes>"
      ]
     },
     "metadata": {
      "needs_background": "light"
     },
     "output_type": "display_data"
    }
   ],
   "source": [
    "bins = np.linspace(0, 1, 20)\n",
    "_ = plt.hist(yhat_baseline[labels_test==1],\n",
    "         histtype='stepfilled', alpha=0.5, color='red', label=r\"Signal ($W' \\rightarrow WZ$)\", bins=bins)\n",
    "_ = plt.hist(yhat_baseline[labels_test==0],\n",
    "         histtype='stepfilled', alpha=0.5, color='blue', label=r'Background (QCD dijets)', bins=bins)\n",
    "plt.legend(loc='upper center')\n",
    "plt.xlabel('P(signal) assigned by the baseline model')"
   ]
  },
  {
   "cell_type": "markdown",
   "metadata": {},
   "source": [
    "## Convolutional Neural Network"
   ]
  },
  {
   "cell_type": "markdown",
   "metadata": {},
   "source": [
    "We can now instead try to learn a model directly on the pixel space, instead of summarizing the information into engineered features such as mass, tau_21 and delta_R."
   ]
  },
  {
   "cell_type": "code",
   "execution_count": 44,
   "metadata": {},
   "outputs": [],
   "source": [
    "from keras.layers import Conv2D, Flatten, LeakyReLU"
   ]
  },
  {
   "cell_type": "code",
   "execution_count": 45,
   "metadata": {},
   "outputs": [],
   "source": [
    "# add channel dimension (1 for grayscale)\n",
    "images_train = np.expand_dims(images_train, -1)\n",
    "images_test = np.expand_dims(images_test, -1)\n",
    "images_val = np.expand_dims(images_val, -1)"
   ]
  },
  {
   "cell_type": "code",
   "execution_count": 46,
   "metadata": {
    "scrolled": false
   },
   "outputs": [],
   "source": [
    "x = Input(shape=(images_train.shape[1:]))\n",
    "h = Conv2D(32, kernel_size=7, strides=1)(x)\n",
    "h = LeakyReLU()(h)\n",
    "h = Dropout(0.2)(h)\n",
    "\n",
    "h = Conv2D(64, kernel_size=7, strides=1)(h)\n",
    "h = LeakyReLU()(h)\n",
    "h = Dropout(0.2)(h)\n",
    "\n",
    "h = Conv2D(128, kernel_size=5, strides=1)(h)\n",
    "h = LeakyReLU()(h)\n",
    "h = Dropout(0.2)(h)\n",
    "\n",
    "h = Conv2D(256, kernel_size=5, strides=1)(h)\n",
    "h = LeakyReLU()(h)\n",
    "h = Flatten()(h)\n",
    "h = Dropout(0.2)(h)\n",
    "y = Dense(1, activation='sigmoid')(h)"
   ]
  },
  {
   "cell_type": "code",
   "execution_count": 47,
   "metadata": {},
   "outputs": [],
   "source": [
    "cnn_model = Model(x, y)\n",
    "cnn_model.compile('adam', 'binary_crossentropy', metrics=['acc'])"
   ]
  },
  {
   "cell_type": "code",
   "execution_count": 48,
   "metadata": {},
   "outputs": [
    {
     "name": "stdout",
     "output_type": "stream",
     "text": [
      "Model: \"model_2\"\n",
      "_________________________________________________________________\n",
      "Layer (type)                 Output Shape              Param #   \n",
      "=================================================================\n",
      "input_2 (InputLayer)         [(None, 25, 25, 1)]       0         \n",
      "_________________________________________________________________\n",
      "conv2d (Conv2D)              (None, 19, 19, 32)        1600      \n",
      "_________________________________________________________________\n",
      "leaky_re_lu (LeakyReLU)      (None, 19, 19, 32)        0         \n",
      "_________________________________________________________________\n",
      "dropout (Dropout)            (None, 19, 19, 32)        0         \n",
      "_________________________________________________________________\n",
      "conv2d_1 (Conv2D)            (None, 13, 13, 64)        100416    \n",
      "_________________________________________________________________\n",
      "leaky_re_lu_1 (LeakyReLU)    (None, 13, 13, 64)        0         \n",
      "_________________________________________________________________\n",
      "dropout_1 (Dropout)          (None, 13, 13, 64)        0         \n",
      "_________________________________________________________________\n",
      "conv2d_2 (Conv2D)            (None, 9, 9, 128)         204928    \n",
      "_________________________________________________________________\n",
      "leaky_re_lu_2 (LeakyReLU)    (None, 9, 9, 128)         0         \n",
      "_________________________________________________________________\n",
      "dropout_2 (Dropout)          (None, 9, 9, 128)         0         \n",
      "_________________________________________________________________\n",
      "conv2d_3 (Conv2D)            (None, 5, 5, 256)         819456    \n",
      "_________________________________________________________________\n",
      "leaky_re_lu_3 (LeakyReLU)    (None, 5, 5, 256)         0         \n",
      "_________________________________________________________________\n",
      "flatten (Flatten)            (None, 6400)              0         \n",
      "_________________________________________________________________\n",
      "dropout_3 (Dropout)          (None, 6400)              0         \n",
      "_________________________________________________________________\n",
      "dense_4 (Dense)              (None, 1)                 6401      \n",
      "=================================================================\n",
      "Total params: 1,132,801\n",
      "Trainable params: 1,132,801\n",
      "Non-trainable params: 0\n",
      "_________________________________________________________________\n"
     ]
    }
   ],
   "source": [
    "cnn_model.summary()"
   ]
  },
  {
   "cell_type": "markdown",
   "metadata": {},
   "source": [
    "Feel free to try to train it at home! For this tutorial, we will just load in pre-trained weights."
   ]
  },
  {
   "cell_type": "code",
   "execution_count": 52,
   "metadata": {
    "scrolled": true
   },
   "outputs": [
    {
     "name": "stdout",
     "output_type": "stream",
     "text": [
      "Epoch 1/100\n",
      " 346/1000 [=========>....................] - ETA: 12:24 - loss: 0.9124 - acc: 0.6848"
     ]
    },
    {
     "ename": "KeyboardInterrupt",
     "evalue": "",
     "output_type": "error",
     "traceback": [
      "\u001b[0;31m---------------------------------------------------------------------------\u001b[0m",
      "\u001b[0;31mKeyboardInterrupt\u001b[0m                         Traceback (most recent call last)",
      "\u001b[0;32m<ipython-input-52-c7fbf1996fad>\u001b[0m in \u001b[0;36m<module>\u001b[0;34m\u001b[0m\n\u001b[1;32m      7\u001b[0m         \u001b[0mEarlyStopping\u001b[0m\u001b[0;34m(\u001b[0m\u001b[0mverbose\u001b[0m\u001b[0;34m=\u001b[0m\u001b[0;32mTrue\u001b[0m\u001b[0;34m,\u001b[0m \u001b[0mpatience\u001b[0m\u001b[0;34m=\u001b[0m\u001b[0;36m30\u001b[0m\u001b[0;34m,\u001b[0m \u001b[0mmonitor\u001b[0m\u001b[0;34m=\u001b[0m\u001b[0;34m'val_loss'\u001b[0m\u001b[0;34m)\u001b[0m\u001b[0;34m,\u001b[0m\u001b[0;34m\u001b[0m\u001b[0;34m\u001b[0m\u001b[0m\n\u001b[1;32m      8\u001b[0m         ModelCheckpoint('./models/cnn-model.h5', monitor='val_loss',\n\u001b[0;32m----> 9\u001b[0;31m                         verbose=True, save_best_only=True)\n\u001b[0m\u001b[1;32m     10\u001b[0m     ]\n\u001b[1;32m     11\u001b[0m )\n",
      "\u001b[0;32m/usr/local/lib/python3.7/site-packages/tensorflow/python/keras/engine/training.py\u001b[0m in \u001b[0;36mfit\u001b[0;34m(self, x, y, batch_size, epochs, verbose, callbacks, validation_split, validation_data, shuffle, class_weight, sample_weight, initial_epoch, steps_per_epoch, validation_steps, validation_batch_size, validation_freq, max_queue_size, workers, use_multiprocessing)\u001b[0m\n\u001b[1;32m   1098\u001b[0m                 _r=1):\n\u001b[1;32m   1099\u001b[0m               \u001b[0mcallbacks\u001b[0m\u001b[0;34m.\u001b[0m\u001b[0mon_train_batch_begin\u001b[0m\u001b[0;34m(\u001b[0m\u001b[0mstep\u001b[0m\u001b[0;34m)\u001b[0m\u001b[0;34m\u001b[0m\u001b[0;34m\u001b[0m\u001b[0m\n\u001b[0;32m-> 1100\u001b[0;31m               \u001b[0mtmp_logs\u001b[0m \u001b[0;34m=\u001b[0m \u001b[0mself\u001b[0m\u001b[0;34m.\u001b[0m\u001b[0mtrain_function\u001b[0m\u001b[0;34m(\u001b[0m\u001b[0miterator\u001b[0m\u001b[0;34m)\u001b[0m\u001b[0;34m\u001b[0m\u001b[0;34m\u001b[0m\u001b[0m\n\u001b[0m\u001b[1;32m   1101\u001b[0m               \u001b[0;32mif\u001b[0m \u001b[0mdata_handler\u001b[0m\u001b[0;34m.\u001b[0m\u001b[0mshould_sync\u001b[0m\u001b[0;34m:\u001b[0m\u001b[0;34m\u001b[0m\u001b[0;34m\u001b[0m\u001b[0m\n\u001b[1;32m   1102\u001b[0m                 \u001b[0mcontext\u001b[0m\u001b[0;34m.\u001b[0m\u001b[0masync_wait\u001b[0m\u001b[0;34m(\u001b[0m\u001b[0;34m)\u001b[0m\u001b[0;34m\u001b[0m\u001b[0;34m\u001b[0m\u001b[0m\n",
      "\u001b[0;32m/usr/local/lib/python3.7/site-packages/tensorflow/python/eager/def_function.py\u001b[0m in \u001b[0;36m__call__\u001b[0;34m(self, *args, **kwds)\u001b[0m\n\u001b[1;32m    826\u001b[0m     \u001b[0mtracing_count\u001b[0m \u001b[0;34m=\u001b[0m \u001b[0mself\u001b[0m\u001b[0;34m.\u001b[0m\u001b[0mexperimental_get_tracing_count\u001b[0m\u001b[0;34m(\u001b[0m\u001b[0;34m)\u001b[0m\u001b[0;34m\u001b[0m\u001b[0;34m\u001b[0m\u001b[0m\n\u001b[1;32m    827\u001b[0m     \u001b[0;32mwith\u001b[0m \u001b[0mtrace\u001b[0m\u001b[0;34m.\u001b[0m\u001b[0mTrace\u001b[0m\u001b[0;34m(\u001b[0m\u001b[0mself\u001b[0m\u001b[0;34m.\u001b[0m\u001b[0m_name\u001b[0m\u001b[0;34m)\u001b[0m \u001b[0;32mas\u001b[0m \u001b[0mtm\u001b[0m\u001b[0;34m:\u001b[0m\u001b[0;34m\u001b[0m\u001b[0;34m\u001b[0m\u001b[0m\n\u001b[0;32m--> 828\u001b[0;31m       \u001b[0mresult\u001b[0m \u001b[0;34m=\u001b[0m \u001b[0mself\u001b[0m\u001b[0;34m.\u001b[0m\u001b[0m_call\u001b[0m\u001b[0;34m(\u001b[0m\u001b[0;34m*\u001b[0m\u001b[0margs\u001b[0m\u001b[0;34m,\u001b[0m \u001b[0;34m**\u001b[0m\u001b[0mkwds\u001b[0m\u001b[0;34m)\u001b[0m\u001b[0;34m\u001b[0m\u001b[0;34m\u001b[0m\u001b[0m\n\u001b[0m\u001b[1;32m    829\u001b[0m       \u001b[0mcompiler\u001b[0m \u001b[0;34m=\u001b[0m \u001b[0;34m\"xla\"\u001b[0m \u001b[0;32mif\u001b[0m \u001b[0mself\u001b[0m\u001b[0;34m.\u001b[0m\u001b[0m_experimental_compile\u001b[0m \u001b[0;32melse\u001b[0m \u001b[0;34m\"nonXla\"\u001b[0m\u001b[0;34m\u001b[0m\u001b[0;34m\u001b[0m\u001b[0m\n\u001b[1;32m    830\u001b[0m       \u001b[0mnew_tracing_count\u001b[0m \u001b[0;34m=\u001b[0m \u001b[0mself\u001b[0m\u001b[0;34m.\u001b[0m\u001b[0mexperimental_get_tracing_count\u001b[0m\u001b[0;34m(\u001b[0m\u001b[0;34m)\u001b[0m\u001b[0;34m\u001b[0m\u001b[0;34m\u001b[0m\u001b[0m\n",
      "\u001b[0;32m/usr/local/lib/python3.7/site-packages/tensorflow/python/eager/def_function.py\u001b[0m in \u001b[0;36m_call\u001b[0;34m(self, *args, **kwds)\u001b[0m\n\u001b[1;32m    853\u001b[0m       \u001b[0;31m# In this case we have created variables on the first call, so we run the\u001b[0m\u001b[0;34m\u001b[0m\u001b[0;34m\u001b[0m\u001b[0;34m\u001b[0m\u001b[0m\n\u001b[1;32m    854\u001b[0m       \u001b[0;31m# defunned version which is guaranteed to never create variables.\u001b[0m\u001b[0;34m\u001b[0m\u001b[0;34m\u001b[0m\u001b[0;34m\u001b[0m\u001b[0m\n\u001b[0;32m--> 855\u001b[0;31m       \u001b[0;32mreturn\u001b[0m \u001b[0mself\u001b[0m\u001b[0;34m.\u001b[0m\u001b[0m_stateless_fn\u001b[0m\u001b[0;34m(\u001b[0m\u001b[0;34m*\u001b[0m\u001b[0margs\u001b[0m\u001b[0;34m,\u001b[0m \u001b[0;34m**\u001b[0m\u001b[0mkwds\u001b[0m\u001b[0;34m)\u001b[0m  \u001b[0;31m# pylint: disable=not-callable\u001b[0m\u001b[0;34m\u001b[0m\u001b[0;34m\u001b[0m\u001b[0m\n\u001b[0m\u001b[1;32m    856\u001b[0m     \u001b[0;32melif\u001b[0m \u001b[0mself\u001b[0m\u001b[0;34m.\u001b[0m\u001b[0m_stateful_fn\u001b[0m \u001b[0;32mis\u001b[0m \u001b[0;32mnot\u001b[0m \u001b[0;32mNone\u001b[0m\u001b[0;34m:\u001b[0m\u001b[0;34m\u001b[0m\u001b[0;34m\u001b[0m\u001b[0m\n\u001b[1;32m    857\u001b[0m       \u001b[0;31m# Release the lock early so that multiple threads can perform the call\u001b[0m\u001b[0;34m\u001b[0m\u001b[0;34m\u001b[0m\u001b[0;34m\u001b[0m\u001b[0m\n",
      "\u001b[0;32m/usr/local/lib/python3.7/site-packages/tensorflow/python/eager/function.py\u001b[0m in \u001b[0;36m__call__\u001b[0;34m(self, *args, **kwargs)\u001b[0m\n\u001b[1;32m   2941\u001b[0m        filtered_flat_args) = self._maybe_define_function(args, kwargs)\n\u001b[1;32m   2942\u001b[0m     return graph_function._call_flat(\n\u001b[0;32m-> 2943\u001b[0;31m         filtered_flat_args, captured_inputs=graph_function.captured_inputs)  # pylint: disable=protected-access\n\u001b[0m\u001b[1;32m   2944\u001b[0m \u001b[0;34m\u001b[0m\u001b[0m\n\u001b[1;32m   2945\u001b[0m   \u001b[0;34m@\u001b[0m\u001b[0mproperty\u001b[0m\u001b[0;34m\u001b[0m\u001b[0;34m\u001b[0m\u001b[0m\n",
      "\u001b[0;32m/usr/local/lib/python3.7/site-packages/tensorflow/python/eager/function.py\u001b[0m in \u001b[0;36m_call_flat\u001b[0;34m(self, args, captured_inputs, cancellation_manager)\u001b[0m\n\u001b[1;32m   1917\u001b[0m       \u001b[0;31m# No tape is watching; skip to running the function.\u001b[0m\u001b[0;34m\u001b[0m\u001b[0;34m\u001b[0m\u001b[0;34m\u001b[0m\u001b[0m\n\u001b[1;32m   1918\u001b[0m       return self._build_call_outputs(self._inference_function.call(\n\u001b[0;32m-> 1919\u001b[0;31m           ctx, args, cancellation_manager=cancellation_manager))\n\u001b[0m\u001b[1;32m   1920\u001b[0m     forward_backward = self._select_forward_and_backward_functions(\n\u001b[1;32m   1921\u001b[0m         \u001b[0margs\u001b[0m\u001b[0;34m,\u001b[0m\u001b[0;34m\u001b[0m\u001b[0;34m\u001b[0m\u001b[0m\n",
      "\u001b[0;32m/usr/local/lib/python3.7/site-packages/tensorflow/python/eager/function.py\u001b[0m in \u001b[0;36mcall\u001b[0;34m(self, ctx, args, cancellation_manager)\u001b[0m\n\u001b[1;32m    558\u001b[0m               \u001b[0minputs\u001b[0m\u001b[0;34m=\u001b[0m\u001b[0margs\u001b[0m\u001b[0;34m,\u001b[0m\u001b[0;34m\u001b[0m\u001b[0;34m\u001b[0m\u001b[0m\n\u001b[1;32m    559\u001b[0m               \u001b[0mattrs\u001b[0m\u001b[0;34m=\u001b[0m\u001b[0mattrs\u001b[0m\u001b[0;34m,\u001b[0m\u001b[0;34m\u001b[0m\u001b[0;34m\u001b[0m\u001b[0m\n\u001b[0;32m--> 560\u001b[0;31m               ctx=ctx)\n\u001b[0m\u001b[1;32m    561\u001b[0m         \u001b[0;32melse\u001b[0m\u001b[0;34m:\u001b[0m\u001b[0;34m\u001b[0m\u001b[0;34m\u001b[0m\u001b[0m\n\u001b[1;32m    562\u001b[0m           outputs = execute.execute_with_cancellation(\n",
      "\u001b[0;32m/usr/local/lib/python3.7/site-packages/tensorflow/python/eager/execute.py\u001b[0m in \u001b[0;36mquick_execute\u001b[0;34m(op_name, num_outputs, inputs, attrs, ctx, name)\u001b[0m\n\u001b[1;32m     58\u001b[0m     \u001b[0mctx\u001b[0m\u001b[0;34m.\u001b[0m\u001b[0mensure_initialized\u001b[0m\u001b[0;34m(\u001b[0m\u001b[0;34m)\u001b[0m\u001b[0;34m\u001b[0m\u001b[0;34m\u001b[0m\u001b[0m\n\u001b[1;32m     59\u001b[0m     tensors = pywrap_tfe.TFE_Py_Execute(ctx._handle, device_name, op_name,\n\u001b[0;32m---> 60\u001b[0;31m                                         inputs, attrs, num_outputs)\n\u001b[0m\u001b[1;32m     61\u001b[0m   \u001b[0;32mexcept\u001b[0m \u001b[0mcore\u001b[0m\u001b[0;34m.\u001b[0m\u001b[0m_NotOkStatusException\u001b[0m \u001b[0;32mas\u001b[0m \u001b[0me\u001b[0m\u001b[0;34m:\u001b[0m\u001b[0;34m\u001b[0m\u001b[0;34m\u001b[0m\u001b[0m\n\u001b[1;32m     62\u001b[0m     \u001b[0;32mif\u001b[0m \u001b[0mname\u001b[0m \u001b[0;32mis\u001b[0m \u001b[0;32mnot\u001b[0m \u001b[0;32mNone\u001b[0m\u001b[0;34m:\u001b[0m\u001b[0;34m\u001b[0m\u001b[0;34m\u001b[0m\u001b[0m\n",
      "\u001b[0;31mKeyboardInterrupt\u001b[0m: "
     ]
    }
   ],
   "source": [
    "cnn_model.fit(\n",
    "    images_train, labels_train,\n",
    "    epochs=100,\n",
    "    batch_size=512,\n",
    "    validation_data=(images_val, labels_val),\n",
    "    callbacks=[\n",
    "        EarlyStopping(verbose=True, patience=30, monitor='val_loss'),\n",
    "        ModelCheckpoint('./models/cnn-model.h5', monitor='val_loss',\n",
    "                        verbose=True, save_best_only=True)\n",
    "    ]\n",
    ")"
   ]
  },
  {
   "cell_type": "code",
   "execution_count": null,
   "metadata": {},
   "outputs": [],
   "source": [
    "cnn_history = cnn_model.history.history"
   ]
  },
  {
   "cell_type": "code",
   "execution_count": null,
   "metadata": {},
   "outputs": [],
   "source": [
    "# accuracy plot\n",
    "plt.plot(100 * np.array(cnn_history['acc']), label='training')\n",
    "plt.plot(100 * np.array(cnn_history['val_acc']), label='validation')\n",
    "plt.xlim(0)\n",
    "plt.xlabel('epoch')\n",
    "plt.ylabel('accuracy %')\n",
    "plt.legend(loc='lower right', fontsize=20)\n",
    "plt.show()"
   ]
  },
  {
   "cell_type": "code",
   "execution_count": null,
   "metadata": {},
   "outputs": [],
   "source": [
    "# loss plot\n",
    "plt.plot(100 * np.array(cnn_history['loss']), label='training')\n",
    "plt.plot(100 * np.array(cnn_history['val_loss']), label='validation')\n",
    "plt.xlim(0)\n",
    "plt.xlabel('epoch')\n",
    "plt.ylabel('loss')\n",
    "plt.legend(loc='upper right', fontsize=20)\n",
    "# the line indicate the epoch corresponding to the best performance on the validation set\n",
    "plt.vlines(np.argmin(cnn_history['val_loss']), 43, 56, linestyle='dashed', linewidth=0.5)\n",
    "plt.show()"
   ]
  },
  {
   "cell_type": "code",
   "execution_count": null,
   "metadata": {},
   "outputs": [],
   "source": [
    "print 'Loss estimate on unseen examples (from validation set) = {0:.3f}'.format(np.min(cnn_history['val_loss']))"
   ]
  },
  {
   "cell_type": "code",
   "execution_count": null,
   "metadata": {},
   "outputs": [],
   "source": [
    "cnn_model.load_weights('models/cnn-model.h5')\n",
    "yhat_cnn = cnn_model.predict(images_test, batch_size=512, verbose=True)"
   ]
  },
  {
   "cell_type": "markdown",
   "metadata": {},
   "source": [
    "## Locally-Connected Neural Network"
   ]
  },
  {
   "cell_type": "code",
   "execution_count": null,
   "metadata": {},
   "outputs": [],
   "source": [
    "from keras.layers import LocallyConnected2D , MaxPool2D, Flatten"
   ]
  },
  {
   "cell_type": "code",
   "execution_count": null,
   "metadata": {},
   "outputs": [],
   "source": [
    "x = Input(shape=(images_train.shape[1:]))\n",
    "h = LocallyConnected2D(32, kernel_size=9, strides=2)(x)\n",
    "h = LeakyReLU()(h)\n",
    "\n",
    "h = Dropout(0.2)(h)\n",
    "h = LocallyConnected2D(32, kernel_size=5, strides=1)(h)\n",
    "h = LeakyReLU()(h)\n",
    "\n",
    "h = Dropout(0.2)(h)\n",
    "h = LocallyConnected2D(64, kernel_size=3, strides=1)(h)\n",
    "h = LeakyReLU()(h)\n",
    "\n",
    "h = Dropout(0.2)(h)\n",
    "h = LocallyConnected2D(64, kernel_size=3, strides=1)(h)\n",
    "h = LeakyReLU()(h)\n",
    "\n",
    "h = Flatten()(h)\n",
    "h = Dropout(0.2)(h)\n",
    "y = Dense(1, activation='sigmoid')(h)"
   ]
  },
  {
   "cell_type": "code",
   "execution_count": null,
   "metadata": {},
   "outputs": [],
   "source": [
    "lcn_model = Model(x, y)\n",
    "lcn_model.compile('adam', 'binary_crossentropy', metrics=['acc'])"
   ]
  },
  {
   "cell_type": "code",
   "execution_count": null,
   "metadata": {},
   "outputs": [],
   "source": [
    "lcn_model.summary()"
   ]
  },
  {
   "cell_type": "markdown",
   "metadata": {},
   "source": [
    "Feel free to try to train it at home! For this tutorial, we will just load in pre-trained weights."
   ]
  },
  {
   "cell_type": "code",
   "execution_count": null,
   "metadata": {
    "scrolled": true
   },
   "outputs": [],
   "source": [
    "# lcn_model.fit(\n",
    "#     images_train, labels_train,\n",
    "#     epochs=100,\n",
    "#     batch_size=256,\n",
    "#     validation_data=(images_val, labels_val),\n",
    "#     callbacks=[\n",
    "#         EarlyStopping(verbose=True, patience=30, monitor='val_loss'),\n",
    "#         ModelCheckpoint('./models/lcn-model.h5', monitor='val_loss',\n",
    "#                         verbose=True, save_best_only=True)\n",
    "#     ]\n",
    "# )"
   ]
  },
  {
   "cell_type": "code",
   "execution_count": null,
   "metadata": {},
   "outputs": [],
   "source": [
    "lcn_history = lcn_model.history.history"
   ]
  },
  {
   "cell_type": "code",
   "execution_count": null,
   "metadata": {},
   "outputs": [],
   "source": [
    "# accuracy plot\n",
    "plt.plot(100 * np.array(lcn_history['acc']), label='training')\n",
    "plt.plot(100 * np.array(lcn_history['val_acc']), label='validation')\n",
    "plt.xlim(0)\n",
    "plt.xlabel('epoch')\n",
    "plt.ylabel('accuracy %')\n",
    "plt.legend(loc='lower right', fontsize=20)\n",
    "plt.show()"
   ]
  },
  {
   "cell_type": "code",
   "execution_count": null,
   "metadata": {},
   "outputs": [],
   "source": [
    "# loss plot\n",
    "plt.plot(100 * np.array(lcn_history['loss']), label='training')\n",
    "plt.plot(100 * np.array(lcn_history['val_loss']), label='validation')\n",
    "plt.xlim(0)\n",
    "plt.xlabel('epoch')\n",
    "plt.ylabel('loss')\n",
    "plt.legend(loc='upper right', fontsize=20)\n",
    "# the line indicate the epoch corresponding to the best performance on the validation set\n",
    "plt.vlines(np.argmin(lcn_history['val_loss']), 43, 56, linestyle='dashed', linewidth=0.5)\n",
    "plt.show()"
   ]
  },
  {
   "cell_type": "code",
   "execution_count": null,
   "metadata": {},
   "outputs": [],
   "source": [
    "print 'Loss estimate on unseen examples (from validation set) = {0:.3f}'.format(np.min(lcn_history['val_loss']))"
   ]
  },
  {
   "cell_type": "code",
   "execution_count": null,
   "metadata": {},
   "outputs": [],
   "source": [
    "lcn_model.load_weights('models/lcn-model.h5')\n",
    "yhat_lcn = lcn_model.predict(images_test, batch_size=512)"
   ]
  },
  {
   "cell_type": "markdown",
   "metadata": {},
   "source": [
    "## Fully-Connected network"
   ]
  },
  {
   "cell_type": "code",
   "execution_count": null,
   "metadata": {},
   "outputs": [],
   "source": [
    "x = Input(shape=(images_train.shape[1:]))\n",
    "h = Flatten()(x)\n",
    "h = Dense(25 ** 2, kernel_initializer='he_normal')(h)\n",
    "h = LeakyReLU()(h)\n",
    "\n",
    "h = Dropout(0.2)(h)\n",
    "h = Dense(512, kernel_initializer='he_normal')(h)\n",
    "h = LeakyReLU()(h)\n",
    "\n",
    "h = Dropout(0.2)(h)\n",
    "h = Dense(256, kernel_initializer='he_normal')(h)\n",
    "h = LeakyReLU()(h)\n",
    "\n",
    "h = Dropout(0.2)(h)\n",
    "h = Dense(128, kernel_initializer='he_normal')(h)\n",
    "h = LeakyReLU()(h)\n",
    "\n",
    "h = Dropout(0.2)(h)\n",
    "y = Dense(1, activation='sigmoid')(h)"
   ]
  },
  {
   "cell_type": "code",
   "execution_count": null,
   "metadata": {},
   "outputs": [],
   "source": [
    "dense_model = Model(x, y)\n",
    "dense_model.compile('adam', 'binary_crossentropy', metrics=['acc'])"
   ]
  },
  {
   "cell_type": "code",
   "execution_count": null,
   "metadata": {
    "scrolled": false
   },
   "outputs": [],
   "source": [
    "dense_model.fit(\n",
    "    images_train, labels_train,\n",
    "    epochs=100,\n",
    "    batch_size=256,\n",
    "    validation_data=(images_val, labels_val),\n",
    "    callbacks=[\n",
    "        EarlyStopping(verbose=True, patience=30, monitor='val_loss'),\n",
    "        ModelCheckpoint('./models/dense-model.h5', monitor='val_loss',\n",
    "                        verbose=True, save_best_only=True)\n",
    "    ]\n",
    ")"
   ]
  },
  {
   "cell_type": "code",
   "execution_count": null,
   "metadata": {},
   "outputs": [],
   "source": [
    "dense_history = dense_model.history.history"
   ]
  },
  {
   "cell_type": "code",
   "execution_count": null,
   "metadata": {},
   "outputs": [],
   "source": [
    "# accuracy plot\n",
    "plt.plot(100 * np.array(dense_history['acc']), label='training')\n",
    "plt.plot(100 * np.array(dense_history['val_acc']), label='validation')\n",
    "plt.xlim(0)\n",
    "plt.xlabel('epoch')\n",
    "plt.ylabel('accuracy %')\n",
    "plt.legend(loc='lower right', fontsize=20)\n",
    "plt.show()"
   ]
  },
  {
   "cell_type": "code",
   "execution_count": null,
   "metadata": {},
   "outputs": [],
   "source": [
    "# loss plot\n",
    "plt.plot(100 * np.array(dense_history['loss']), label='training')\n",
    "plt.plot(100 * np.array(dense_history['val_loss']), label='validation')\n",
    "plt.xlim(0)\n",
    "plt.xlabel('epoch')\n",
    "plt.ylabel('loss')\n",
    "plt.legend(loc='upper right', fontsize=20)\n",
    "# the line indicate the epoch corresponding to the best performance on the validation set\n",
    "plt.vlines(np.argmin(dense_history['val_loss']), 43, 56, linestyle='dashed', linewidth=0.5)\n",
    "plt.show()"
   ]
  },
  {
   "cell_type": "code",
   "execution_count": null,
   "metadata": {},
   "outputs": [],
   "source": [
    "print 'Loss estimate on unseen examples (from validation set) = {0:.3f}'.format(np.min(dense_history['val_loss']))"
   ]
  },
  {
   "cell_type": "code",
   "execution_count": null,
   "metadata": {},
   "outputs": [],
   "source": [
    "dense_model.load_weights('models/dense-model.h5')\n",
    "yhat_dense = dense_model.predict(images_test, batch_size=512, verbose=True)"
   ]
  },
  {
   "cell_type": "markdown",
   "metadata": {},
   "source": [
    "## Plot ROC Curves"
   ]
  },
  {
   "cell_type": "markdown",
   "metadata": {},
   "source": [
    "A standard way to visualize the tradeoff between low false positive rate (FPR) and high true positive rate (TPR) is by plotting them on a ROC curve. In Physics, people like to plot the TPR on the x-axis, and 1/FPR on the y-axis."
   ]
  },
  {
   "cell_type": "code",
   "execution_count": null,
   "metadata": {},
   "outputs": [],
   "source": [
    "from sklearn.metrics import roc_curve"
   ]
  },
  {
   "cell_type": "code",
   "execution_count": null,
   "metadata": {},
   "outputs": [],
   "source": [
    "fpr_cnn, tpr_cnn, _ = roc_curve(labels_test, yhat_cnn)\n",
    "fpr_lcn, tpr_lcn, _ = roc_curve(labels_test, yhat_lcn)\n",
    "fpr_dense, tpr_dense, _ = roc_curve(labels_test, yhat_dense)\n",
    "fpr_baseline, tpr_baseline, _ = roc_curve(labels_test, yhat_baseline)"
   ]
  },
  {
   "cell_type": "code",
   "execution_count": null,
   "metadata": {
    "scrolled": false
   },
   "outputs": [],
   "source": [
    "plt.figure(figsize=(10,10))\n",
    "plt.grid(b = True, which = 'minor')\n",
    "plt.grid(b = True, which = 'major')\n",
    "_ = plt.plot(tpr_cnn, 1./fpr_cnn, label='CNN')\n",
    "_ = plt.plot(tpr_lcn, 1./fpr_lcn, label='LCN')\n",
    "_ = plt.plot(tpr_dense, 1./fpr_dense, label='FCN')\n",
    "_ = plt.plot(tpr_baseline, 1./fpr_baseline, label='Baseline')\n",
    "plt.legend()\n",
    "plt.xlim((0.1, 0.9))\n",
    "plt.ylim((1, 1000))\n",
    "plt.yscale('log')"
   ]
  },
  {
   "cell_type": "markdown",
   "metadata": {},
   "source": [
    "## What is the network learning?"
   ]
  },
  {
   "cell_type": "code",
   "execution_count": null,
   "metadata": {},
   "outputs": [],
   "source": [
    "def get_correlations(images, disc_output):\n",
    "    '''\n",
    "    calculate linear correlation between each pixel and the output of the classifier\n",
    "    to see what pixels are more indicative of a specific class.\n",
    "    '''\n",
    "    import pandas as pd\n",
    "    # -- find the total number of pixels per image, here 25 x 25\n",
    "    n_pixels = np.prod(images.shape[1:3])\n",
    "    \n",
    "    # -- add the pixels as columns to a dataframe\n",
    "    df = pd.DataFrame(\n",
    "        {i : np.squeeze(images).reshape(-1, n_pixels)[:, i] for i in range(n_pixels)}\n",
    "    )\n",
    "    # -- add a column to the end of the dataframe for the discriminator's output\n",
    "    df['disc_output'] = disc_output\n",
    "    # -- pandas offers an easy solution to calculate correlations \n",
    "    # (even though it's slow because it also calculates the correlation between each pixel and every other pixel)\n",
    "    correlations = df.corr().values[:-1, -1]\n",
    "    return correlations\n",
    "\n",
    "def plot_correlations(correlations, extent, title='', img_dim=(25, 25), cmap=plt.cm.seismic):\n",
    "    '''\n",
    "    call the function about and then plot the correlations in image format\n",
    "    '''\n",
    "    max_mag = max(\n",
    "        abs(np.min(correlations[np.isfinite(correlations)])),\n",
    "        abs(np.max(correlations[np.isfinite(correlations)])),\n",
    "    ) # highest correlation value (abs value), to make the plot look nice and on a reasonable scale\n",
    "\n",
    "    f, ax = plt.subplots(figsize=(6, 6))\n",
    "    im = ax.imshow(\n",
    "        correlations.reshape(img_dim),\n",
    "        interpolation='nearest',\n",
    "        norm=Normalize(vmin=-max_mag, vmax=max_mag),\n",
    "        extent=extent,\n",
    "        cmap=cmap\n",
    "    )\n",
    "    \n",
    "    plt.colorbar(im, fraction=0.05, pad=0.05)\n",
    "    plt.xlabel(r'[Transformed] Pseudorapidity $(\\eta)$')\n",
    "    plt.ylabel(r'[Transformed] Azimuthal Angle $(\\phi)$')\n",
    "    plt.title(title)\n",
    "#     plt.savefig(os.path.join('..', outdir, outname))"
   ]
  },
  {
   "cell_type": "markdown",
   "metadata": {},
   "source": [
    "You can now visualize what each network picks up on, at least to first order. These correlation plots tells us whether a specific pixel being strongly activated is a good indicator of that jet image belonging to a class or the other. Red represents the signal (boosted W from W'-->WZ), blue represents the background (QCD)."
   ]
  },
  {
   "cell_type": "code",
   "execution_count": null,
   "metadata": {},
   "outputs": [],
   "source": [
    "plot_correlations(\n",
    "    get_correlations(images_test[:10000], yhat_cnn[:10000]),\n",
    "    extent=[-1.25, 1.25, -1.25, 1.25],\n",
    "    title='Correlation between pixels \\n and the CNN prediction'\n",
    ")"
   ]
  },
  {
   "cell_type": "code",
   "execution_count": null,
   "metadata": {},
   "outputs": [],
   "source": [
    "plot_correlations(\n",
    "    get_correlations(images_test[:10000], yhat_lcn[:10000]),\n",
    "    extent=[-1.25, 1.25, -1.25, 1.25],\n",
    "    title='Correlation between pixels \\n and the LCN prediction'\n",
    ")"
   ]
  },
  {
   "cell_type": "code",
   "execution_count": null,
   "metadata": {},
   "outputs": [],
   "source": [
    "plot_correlations(\n",
    "    get_correlations(images_test[:10000], yhat_dense[:10000]),\n",
    "    extent=[-1.25, 1.25, -1.25, 1.25],\n",
    "    title='Correlation between pixels \\n and the FCN prediction'\n",
    ")"
   ]
  },
  {
   "cell_type": "code",
   "execution_count": null,
   "metadata": {},
   "outputs": [],
   "source": [
    "plot_correlations(\n",
    "    get_correlations(images_test[:10000], yhat_baseline[:10000]),\n",
    "    extent=[-1.25, 1.25, -1.25, 1.25],\n",
    "    title='Correlation between pixels \\n and the Baseline prediction'\n",
    ")"
   ]
  },
  {
   "cell_type": "markdown",
   "metadata": {},
   "source": [
    "You can also look at how the output of each classifier is correlated with known quantities that are known to be discriminative, such as the ones used in the baseline classifier above (mass, tau_21, delta_R). This will inform us as to whether the network has 'learned' to internally calculate a representation that is close to these variables, thus eliminating our need to come up with these features ourselves."
   ]
  },
  {
   "cell_type": "code",
   "execution_count": null,
   "metadata": {},
   "outputs": [],
   "source": [
    "def plot_output_vs_kin(kin, output, xlabel, ylabel, nbins=30):\n",
    "    '''\n",
    "    Plot one output of the discriminator network vs. one of the 1D physics variables that describe jets\n",
    "    Args:\n",
    "    -----\n",
    "        kin : numpy array, kinematic property (such as mass or pT) associated with each image. I.e.: discrete_mass(np.squeeze(generated_images))\n",
    "        output : numpy array, one of the 2 outputs of the discriminator, evaluated on the same images that `kin` refers to\n",
    "        xlabel : string, x-axis label that describes the meaning of `kin`\n",
    "        ylabel : string, y-axis label that describes the meaning og `output`\n",
    "        outname : name of the output file, to be placed in ../plots/\n",
    "        nbins : (default = 30) number of bins to use to represent the distributions in a discretized way\n",
    "    \n",
    "    '''\n",
    "    # set the colormap\n",
    "    plt.set_cmap('jet')\n",
    "    # draw a 2d histogram of the discriminator's output versus the kinematic variable of choice (mass, pT, etc.)\n",
    "    h, binx, biny, _ = plt.hist2d(kin, output.reshape(-1,), bins=nbins)\n",
    "    plt.clf() # we don't want to plot this 2D histogram, we want to normalize it per bin first\n",
    "    \n",
    "    # normalize the histogram such that the entries in each column add up to 1, such that the intensity\n",
    "    # of each corresponds to the percentage of the jets in a given mass (or pT) bin that get assigned a p\n",
    "    for i in range(nbins):\n",
    "        h[i, :] = h[i, :] / float(np.sum(h[i, :]))\n",
    "    # plot the normalized histogram as an image\n",
    "    f, ax2 = plt.subplots(figsize=(6, 6))\n",
    "    im = ax2.imshow(\n",
    "        np.flipud(h.T), \n",
    "        interpolation='nearest',\n",
    "        norm=LogNorm(),\n",
    "        extent=[binx.min(), binx.max(), biny.min(), biny.max()],\n",
    "        aspect=\"auto\"\n",
    "    )\n",
    "    plt.xlabel(xlabel)\n",
    "    plt.ylabel(ylabel)\n",
    "    # add a custom colorbar\n",
    "    cax = f.add_axes([0.93, 0.1, 0.03, 0.8])\n",
    "    plt.colorbar(im, cax = cax)\n",
    "    plt.set_cmap('viridis')"
   ]
  },
  {
   "cell_type": "markdown",
   "metadata": {},
   "source": [
    "### Mass"
   ]
  },
  {
   "cell_type": "code",
   "execution_count": null,
   "metadata": {},
   "outputs": [],
   "source": [
    "plot_output_vs_kin(\n",
    "    scaler.inverse_transform(features_test)[:, 0], # mass\n",
    "    yhat_cnn,\n",
    "    xlabel='Discrete jet image mass (GeV)',\n",
    "    ylabel='P(signal)',\n",
    ")"
   ]
  },
  {
   "cell_type": "code",
   "execution_count": null,
   "metadata": {},
   "outputs": [],
   "source": [
    "plot_output_vs_kin(\n",
    "    scaler.inverse_transform(features_test)[:, 0], # mass\n",
    "    yhat_lcn,\n",
    "    xlabel='Discrete jet image mass (GeV)',\n",
    "    ylabel='P(signal)',\n",
    ")"
   ]
  },
  {
   "cell_type": "code",
   "execution_count": null,
   "metadata": {},
   "outputs": [],
   "source": [
    "plot_output_vs_kin(\n",
    "    scaler.inverse_transform(features_test)[:, 0], # mass\n",
    "    yhat_dense,\n",
    "    xlabel='Discrete jet image mass (GeV)',\n",
    "    ylabel='P(signal)',\n",
    ")"
   ]
  },
  {
   "cell_type": "code",
   "execution_count": null,
   "metadata": {},
   "outputs": [],
   "source": [
    "plot_output_vs_kin(\n",
    "    scaler.inverse_transform(features_test)[:, 0], # mass\n",
    "    yhat_baseline,\n",
    "    xlabel='Discrete jet image mass (GeV)',\n",
    "    ylabel='P(signal)',\n",
    ")"
   ]
  },
  {
   "cell_type": "markdown",
   "metadata": {},
   "source": [
    "### Tau_21"
   ]
  },
  {
   "cell_type": "code",
   "execution_count": null,
   "metadata": {},
   "outputs": [],
   "source": [
    "plot_output_vs_kin(\n",
    "    scaler.inverse_transform(features_test)[:, 1], # tau21\n",
    "    yhat_cnn,\n",
    "    xlabel=r'Discrete jet $\\tau_{21}$',\n",
    "    ylabel='P(signal)',\n",
    ")"
   ]
  },
  {
   "cell_type": "code",
   "execution_count": null,
   "metadata": {},
   "outputs": [],
   "source": [
    "plot_output_vs_kin(\n",
    "    scaler.inverse_transform(features_test)[:, 1], # tau21\n",
    "    yhat_lcn,\n",
    "    xlabel=r'Discrete jet $\\tau_{21}$',\n",
    "    ylabel='P(signal)',\n",
    ")"
   ]
  },
  {
   "cell_type": "code",
   "execution_count": null,
   "metadata": {},
   "outputs": [],
   "source": [
    "plot_output_vs_kin(\n",
    "    scaler.inverse_transform(features_test)[:, 1], # tau21\n",
    "    yhat_dense,\n",
    "    xlabel=r'Discrete jet $\\tau_{21}$',\n",
    "    ylabel='P(signal)',\n",
    ")"
   ]
  },
  {
   "cell_type": "code",
   "execution_count": null,
   "metadata": {},
   "outputs": [],
   "source": [
    "plot_output_vs_kin(\n",
    "    scaler.inverse_transform(features_test)[:, 1], # tau21\n",
    "    yhat_baseline,\n",
    "    xlabel=r'Discrete jet $\\tau_{21}$',\n",
    "    ylabel='P(signal)',\n",
    ")"
   ]
  },
  {
   "cell_type": "markdown",
   "metadata": {},
   "source": [
    "### Delta R"
   ]
  },
  {
   "cell_type": "code",
   "execution_count": null,
   "metadata": {},
   "outputs": [],
   "source": [
    "plot_output_vs_kin(\n",
    "    scaler.inverse_transform(features_test)[:, 2], # deltaR\n",
    "    yhat_cnn,\n",
    "    xlabel=r'Discrete jet $\\Delta R$',\n",
    "    ylabel='P(signal)',\n",
    ")"
   ]
  },
  {
   "cell_type": "code",
   "execution_count": null,
   "metadata": {},
   "outputs": [],
   "source": [
    "plot_output_vs_kin(\n",
    "    scaler.inverse_transform(features_test)[:, 2], # deltaR\n",
    "    yhat_lcn,\n",
    "    xlabel=r'Discrete jet $\\Delta R$',\n",
    "    ylabel='P(signal)',\n",
    ")"
   ]
  },
  {
   "cell_type": "code",
   "execution_count": null,
   "metadata": {},
   "outputs": [],
   "source": [
    "plot_output_vs_kin(\n",
    "    scaler.inverse_transform(features_test)[:, 2], # deltaR\n",
    "    yhat_dense,\n",
    "    xlabel=r'Discrete jet $\\Delta R$',\n",
    "    ylabel='P(signal)',\n",
    ")"
   ]
  },
  {
   "cell_type": "code",
   "execution_count": null,
   "metadata": {},
   "outputs": [],
   "source": [
    "plot_output_vs_kin(\n",
    "    scaler.inverse_transform(features_test)[:, 2], # deltaR\n",
    "    yhat_baseline,\n",
    "    xlabel=r'Discrete jet $\\Delta R$',\n",
    "    ylabel='P(signal)',\n",
    ")"
   ]
  },
  {
   "cell_type": "markdown",
   "metadata": {},
   "source": [
    "Sometimes, however, it is not a good idea to have your network learn the mass of a jet and use that to classify jets. In that case, in fact, the network will successfully suppress all jets outside of the signal-like mass window and sculpt the mass of the background to look like a signal peak. \n",
    "\n",
    "What we would like to be able to do, instead, is to have a classifier that is insensitive to mass, and that reduced the background across the entire mass spectrum. \n",
    "\n",
    "For reference, see: C. Shimmin et al., <a href=\"https://arxiv.org/abs/1703.03507\">Decorrelated Jet Substructure Tagging using Adversarial Neural Networks</a>."
   ]
  },
  {
   "cell_type": "markdown",
   "metadata": {},
   "source": [
    "# Training a GAN (<a href=\"https://arxiv.org/pdf/1704.00028.pdf\">WGAN-GP</a>) on jet images"
   ]
  },
  {
   "cell_type": "markdown",
   "metadata": {},
   "source": [
    "WGAN-GP = a type of GAN that minimizes the Wasserstein distance between the target and generated distributions and enforces the Lipschitz contraint by penalizing the norm of the gradient instead of clipping weights."
   ]
  },
  {
   "cell_type": "code",
   "execution_count": null,
   "metadata": {},
   "outputs": [],
   "source": [
    "from keras.layers import Input, Dense, Reshape, Flatten\n",
    "from keras.layers.merge import _Merge\n",
    "from keras.layers.convolutional import Convolution2D, Conv2DTranspose\n",
    "from keras.layers.normalization import BatchNormalization\n",
    "from keras.layers.advanced_activations import LeakyReLU\n",
    "from keras.optimizers import Adam\n",
    "from keras import backend as K"
   ]
  },
  {
   "cell_type": "code",
   "execution_count": null,
   "metadata": {},
   "outputs": [],
   "source": [
    "BATCH_SIZE = 100\n",
    "\n",
    "# The training ratio is the number of discriminator updates per generator\n",
    "# update. The paper uses 5.\n",
    "TRAINING_RATIO = 5\n",
    "GRADIENT_PENALTY_WEIGHT = 10  # As per the paper"
   ]
  },
  {
   "cell_type": "markdown",
   "metadata": {},
   "source": [
    "Define new custom loss functions not included among the standard keras ones:"
   ]
  },
  {
   "cell_type": "code",
   "execution_count": null,
   "metadata": {},
   "outputs": [],
   "source": [
    "def wasserstein_loss(y_true, y_pred):\n",
    "    return K.mean(y_true * y_pred)\n",
    "\n",
    "\n",
    "def gradient_penalty_loss(y_true, y_pred, averaged_samples,\n",
    "                          gradient_penalty_weight):\n",
    "    gradients = K.gradients(K.sum(y_pred), averaged_samples)\n",
    "    gradient_l2_norm = K.sqrt(K.sum(K.square(gradients)))\n",
    "    gradient_penalty = gradient_penalty_weight * K.square(1 - gradient_l2_norm)\n",
    "    return gradient_penalty"
   ]
  },
  {
   "cell_type": "code",
   "execution_count": null,
   "metadata": {},
   "outputs": [],
   "source": [
    "def make_generator():\n",
    "    \"\"\"Creates a generator model that takes a 100-dimensional latent prior and \n",
    "    converts to size 25 x 25 x 1\"\"\"\n",
    "\n",
    "    z = Input(shape=(100, ))\n",
    "    \n",
    "    x = Dense(1024, input_dim=100)(z)\n",
    "    x = LeakyReLU()(x)\n",
    "\n",
    "    x = Dense(128 * 7 * 7)(x)\n",
    "    x = BatchNormalization()(x)\n",
    "    x = LeakyReLU()(x)\n",
    "\n",
    "    x = Reshape((7, 7, 128))(x)\n",
    "\n",
    "    x = Conv2DTranspose(128, (5, 5), strides=2, padding='same')(x)\n",
    "    x = BatchNormalization(axis=-1)(x)\n",
    "    x = LeakyReLU()(x)\n",
    "\n",
    "    x = Convolution2D(64, (5, 5), padding='same')(x)\n",
    "    x = BatchNormalization(axis=-1)(x)\n",
    "    x = LeakyReLU()(x)\n",
    "\n",
    "    x = Conv2DTranspose(64, (5, 5), strides=2, padding='same')(x)\n",
    "    x = BatchNormalization(axis=-1)(x)\n",
    "    x = LeakyReLU()(x)\n",
    "\n",
    "    y = Convolution2D(1, (4, 4), padding='valid', activation='relu')(x)\n",
    "\n",
    "    return Model(z, y)"
   ]
  },
  {
   "cell_type": "code",
   "execution_count": null,
   "metadata": {},
   "outputs": [],
   "source": [
    "def make_discriminator():\n",
    "\n",
    "    x = Input(shape=(25, 25, 1))\n",
    "    \n",
    "    h = Convolution2D(64, (5, 5), padding='same')(x)\n",
    "    h = LeakyReLU()(h)\n",
    "\n",
    "    h = Convolution2D(128, (5, 5), kernel_initializer='he_normal',\n",
    "                      strides=2)(h)\n",
    "    h = LeakyReLU()(h)\n",
    "\n",
    "    h = Convolution2D(256, (5, 5), kernel_initializer='he_normal',\n",
    "                      padding='same', strides=2)(h)\n",
    "    h = LeakyReLU()(h)\n",
    "\n",
    "    h = Flatten()(h)\n",
    "    h = Dense(1024, kernel_initializer='he_normal')(h)\n",
    "    h = LeakyReLU()(h)\n",
    "\n",
    "    y = Dense(1, kernel_initializer='he_normal')(h)\n",
    "\n",
    "    return Model(x, y)"
   ]
  },
  {
   "cell_type": "markdown",
   "metadata": {},
   "source": [
    "Build individual models:"
   ]
  },
  {
   "cell_type": "code",
   "execution_count": null,
   "metadata": {},
   "outputs": [],
   "source": [
    "generator = make_generator()\n",
    "discriminator = make_discriminator()"
   ]
  },
  {
   "cell_type": "markdown",
   "metadata": {},
   "source": [
    "Build connected model with only generator trainable:"
   ]
  },
  {
   "cell_type": "code",
   "execution_count": null,
   "metadata": {},
   "outputs": [],
   "source": [
    "discriminator.trainable = False\n",
    "z = Input(shape=(100, ))\n",
    "generator_model = Model(z, discriminator(generator(z)))\n",
    "# We use the Adam paramaters from Gulrajani et al.\n",
    "generator_model.compile(optimizer=Adam(0.0001, beta_1=0.5, beta_2=0.9),\n",
    "                        loss=wasserstein_loss)"
   ]
  },
  {
   "cell_type": "markdown",
   "metadata": {},
   "source": [
    "Build connected model with only discriminator trainable:"
   ]
  },
  {
   "cell_type": "code",
   "execution_count": null,
   "metadata": {},
   "outputs": [],
   "source": [
    "discriminator.trainable = True\n",
    "generator.trainable = False"
   ]
  },
  {
   "cell_type": "code",
   "execution_count": null,
   "metadata": {},
   "outputs": [],
   "source": [
    "class RandomWeightedAverage(_Merge): # used for gradient norm penalty\n",
    "\n",
    "    def _merge_function(self, inputs):\n",
    "        weights = K.random_uniform((K.shape(inputs[0])[0], 1, 1, 1))\n",
    "        return (weights * inputs[0]) + ((1 - weights) * inputs[1])"
   ]
  },
  {
   "cell_type": "code",
   "execution_count": null,
   "metadata": {},
   "outputs": [],
   "source": [
    "real_samples = Input(shape=(25, 25, 1))\n",
    "z = Input(shape=(100,))\n",
    "fake_samples = generator(z)\n",
    "\n",
    "critic_out_fake = discriminator(fake_samples)\n",
    "critic_out_real = discriminator(real_samples)\n",
    "\n",
    "# generate weighted-averages of real and generated\n",
    "# samples, to use for the gradient norm penalty.\n",
    "averaged_samples = RandomWeightedAverage()([real_samples, fake_samples])\n",
    "\n",
    "# running them thru critic to get the gradient norm for the GP loss.\n",
    "averaged_samples_out = discriminator(averaged_samples)\n",
    "\n",
    "# The gradient penalty loss function requires the input averaged samples\n",
    "def gp_loss(y_true, y_pred):\n",
    "    return gradient_penalty_loss(\n",
    "        y_true, y_pred,\n",
    "        averaged_samples=averaged_samples,\n",
    "        gradient_penalty_weight=GRADIENT_PENALTY_WEIGHT\n",
    "    )\n",
    "\n",
    "discriminator_model = Model(\n",
    "    inputs=[real_samples, z],\n",
    "    outputs=[critic_out_real, critic_out_fake, averaged_samples_out]\n",
    ")\n",
    "\n",
    "# We use the Adam paramaters from Gulrajani et al.\n",
    "discriminator_model.compile(\n",
    "    optimizer=Adam(0.0001, beta_1=0.5, beta_2=0.9),\n",
    "    loss=[wasserstein_loss, wasserstein_loss, gp_loss]\n",
    ")"
   ]
  },
  {
   "cell_type": "code",
   "execution_count": null,
   "metadata": {},
   "outputs": [],
   "source": [
    "# positive_y is the label vector for real samples, with value 1.\n",
    "# negative_y is the label vector for generated samples, with value -1.\n",
    "# dummy_y vector is passed to the gradient_penalty loss function and is\n",
    "# not used.\n",
    "\n",
    "positive_y = np.ones((BATCH_SIZE, 1), dtype=np.float32)\n",
    "negative_y = -positive_y\n",
    "dummy_y = np.zeros((BATCH_SIZE, 1), dtype=np.float32)"
   ]
  },
  {
   "cell_type": "code",
   "execution_count": null,
   "metadata": {},
   "outputs": [],
   "source": [
    "# do a little bit of scaling for stability\n",
    "X_train = np.expand_dims(np.squeeze(images_train[:30000]) / 100, -1)"
   ]
  },
  {
   "cell_type": "code",
   "execution_count": null,
   "metadata": {
    "scrolled": true
   },
   "outputs": [],
   "source": [
    "overall_disc_loss = []\n",
    "\n",
    "for epoch in range(200): # train for 200 iterations\n",
    "\n",
    "    # at each epoch, shuffle the training set to get new samples\n",
    "    np.random.shuffle(X_train)\n",
    "    print(\"Epoch: \", epoch)\n",
    "    print(\"Number of batches: \", int(X_train.shape[0] // BATCH_SIZE))\n",
    "    discriminator_loss = []\n",
    "    generator_loss = []\n",
    "\n",
    "    # we'll need this many samples per critic update\n",
    "    critic_nb_samples = BATCH_SIZE * TRAINING_RATIO\n",
    "\n",
    "    # loop through batches\n",
    "    for i in range(int(X_train.shape[0] // (BATCH_SIZE * TRAINING_RATIO))):\n",
    "        X_critic = X_train[i * critic_nb_samples:(i + 1) * critic_nb_samples]\n",
    "\n",
    "        # critic gets trained 5 times more per iteration than the generator\n",
    "        for j in range(TRAINING_RATIO):\n",
    "            X_minibatch = X_critic[j * BATCH_SIZE:(j + 1) * BATCH_SIZE]\n",
    "\n",
    "            # generate new input noise\n",
    "            noise = np.random.rand(BATCH_SIZE, 100).astype(np.float32)\n",
    "\n",
    "            # train the discriminator (or critic)\n",
    "            disc_loss = discriminator_model.train_on_batch(\n",
    "                [X_minibatch, noise],\n",
    "                [positive_y, negative_y, dummy_y]\n",
    "            )\n",
    "            discriminator_loss.append(disc_loss)\n",
    "    \n",
    "        critic_score = np.array(discriminator_loss)[:, 0]\n",
    "        if i % 10 == 0:\n",
    "            print('critic score =', critic_score.mean())\n",
    "        overall_disc_loss.extend(critic_score.tolist())\n",
    "        # train the generator\n",
    "        gen_loss = generator_model.train_on_batch(\n",
    "            np.random.rand(BATCH_SIZE, 100),\n",
    "            positive_y\n",
    "        )\n",
    "        generator_loss.append(gen_loss)"
   ]
  },
  {
   "cell_type": "code",
   "execution_count": null,
   "metadata": {},
   "outputs": [],
   "source": [
    "# discriminator.save_weights('./models/wgan-discriminator.h5')\n",
    "# generator.save_weights('./models/wgan-generator.h5')"
   ]
  },
  {
   "cell_type": "markdown",
   "metadata": {},
   "source": [
    "Load pre-trained wights:"
   ]
  },
  {
   "cell_type": "code",
   "execution_count": null,
   "metadata": {},
   "outputs": [],
   "source": [
    "discriminator.load_weights('./models/wgan-discriminator.h5')\n",
    "generator.load_weights('./models/wgan-generator.h5')"
   ]
  },
  {
   "cell_type": "markdown",
   "metadata": {},
   "source": [
    "Now that we have a trained GAN, we can see if it actually works and what it produces. We can now get rid of the critic (discriminator) and focus only on the part that we really care about, the generator. Let's execute a forward pass on the generator."
   ]
  },
  {
   "cell_type": "code",
   "execution_count": null,
   "metadata": {},
   "outputs": [],
   "source": [
    "# input noise that will be transformed into jet images\n",
    "noise = np.random.rand(1000, 100).astype(np.float32)"
   ]
  },
  {
   "cell_type": "code",
   "execution_count": null,
   "metadata": {},
   "outputs": [],
   "source": [
    "# produce some jet images from the generator!\n",
    "fake_jets = generator.predict(noise, batch_size=BATCH_SIZE, verbose=True)\n",
    "\n",
    "# rescale energies and remove redundant dimension for grayscale channel\n",
    "fake_jets = np.squeeze(fake_jets * 100)"
   ]
  },
  {
   "cell_type": "markdown",
   "metadata": {},
   "source": [
    "Let's look at some GAN-generated jet images!"
   ]
  },
  {
   "cell_type": "code",
   "execution_count": null,
   "metadata": {},
   "outputs": [],
   "source": [
    "plot_jet_image(fake_jets.mean(0))"
   ]
  },
  {
   "cell_type": "markdown",
   "metadata": {},
   "source": [
    "We can also look at the difference between the average generated image and the average real image to identify parts of the image that are not well-captured by the GAN and might need improvement. Green pixels are more strongly activated, on average, in fake images, while purple pixels are more strongly activated in background images."
   ]
  },
  {
   "cell_type": "code",
   "execution_count": null,
   "metadata": {
    "scrolled": true
   },
   "outputs": [],
   "source": [
    "plot_diff_jet_image(fake_jets.mean(0) - images.mean(0), cmap='PRGn')"
   ]
  },
  {
   "cell_type": "markdown",
   "metadata": {},
   "source": [
    "There are multiple ways of imporving this training, such as conditioning on class or attributes, using minibatch discrimination, enforcing physical constraints, etc."
   ]
  }
 ],
 "metadata": {
  "kernelspec": {
   "display_name": "Python 3",
   "language": "python",
   "name": "python3"
  },
  "language_info": {
   "codemirror_mode": {
    "name": "ipython",
    "version": 3
   },
   "file_extension": ".py",
   "mimetype": "text/x-python",
   "name": "python",
   "nbconvert_exporter": "python",
   "pygments_lexer": "ipython3",
   "version": "3.7.6"
  },
  "latex_envs": {
   "bibliofile": "biblio.bib",
   "cite_by": "apalike",
   "current_citInitial": 1,
   "eqLabelWithNumbers": true,
   "eqNumInitial": 0
  }
 },
 "nbformat": 4,
 "nbformat_minor": 2
}
