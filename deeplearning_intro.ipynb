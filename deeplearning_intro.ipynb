{
 "cells": [
  {
   "cell_type": "markdown",
   "metadata": {
    "collapsed": true
   },
   "source": [
    "<center>\n",
    "<h1>Introduction to Deep Learning with Keras</h1>\n",
    "<h3>Tiago Vale - LIP</h3>\n",
    "<h4>Adapted from a tutorial by Michela Paganini</h4>\n",
    "</center>\n"
   ]
  },
  {
   "cell_type": "markdown",
   "metadata": {},
   "source": [
    "This is the second of two notebooks for this tutorial. If you are unfamiliar with data handling techniques in a Python environment, see the <a href=\"data_handling.ipynb\">previous notebook</a>."
   ]
  },
  {
   "cell_type": "markdown",
   "metadata": {},
   "source": [
    "## What is Keras? Why Using Keras?"
   ]
  },
  {
   "cell_type": "markdown",
   "metadata": {},
   "source": [
    " *  Modular, powerful and intuitive Deep Learning Python library built on \n",
    " \n",
    " <center>\n",
    " <a href='http://deeplearning.net/software/theano/'><img src='./images/theano-logo.png' style=\"height:50px; display:inline;\"></a> and\n",
    " <a href='https://www.tensorflow.org/'><img src='./images/tf-logo.png' style=\"height:60px; display:inline\"></a> and\n",
    " <a href='https://docs.microsoft.com/en-us/cognitive-toolkit/'><img src='https://developer.nvidia.com/sites/default/files/akamai/cuda/images/deeplearning/cntk.png' style=\"height:80px; display:inline\"></a>\n",
    " </center>\n",
    "     * Let you call C++ efficiently while using syntax of higher level programming language\n",
    "     * Offer arbitrary tensor function definition, symbolic graph building, autodifferentiation, optimization, parallelism\n",
    "\n",
    " * Keras doesn’t itself handle any tensor ops; it relies on these tensor manipulation libraries\n",
    " * Connects with both of them via the abstract <a href='http://keras.io/backend/'>Keras backend</a>\n",
    " * Provides you with high level API, simple neural network building blocks\n",
    " * Now integral part of TensorFlow via <a href=\"https://www.tensorflow.org/api_docs/python/tf/keras\">`tf.keras`</a> module\n",
    " * Model and data parallelism across different devices"
   ]
  },
  {
   "cell_type": "markdown",
   "metadata": {},
   "source": [
    "#### Other Properties of Keras \n",
    "> <i>Developed with a focus on enabling fast experimentation. Being able to go from idea to result with the least possible delay is key to doing good research. </i>\n",
    "<div align=\"right\">\n",
    "  https://keras.io\n",
    "</div>\n",
    "\n",
    "*  Minimalist, user-friendly interface\n",
    "*  Extremely well documented, lots of <a href='https://github.com/fchollet/keras/tree/master/examples'>working examples</a>\n",
    "*  Very shallow learning curve $\\rightarrow$ by far one of the best tools for both beginners and experts\n",
    "*  Open-source, developed and maintained by a community of contributors, and publicly hosted on <a href='https://github.com/fchollet/keras'>GitHub</a>\n",
    "*  Extensible: possibility to customize layers\n",
    " \n",
    "From the Keras website: \n",
    "<img src='./images/keras_principles.jpg' style=\"width:800px;\">"
   ]
  },
  {
   "cell_type": "markdown",
   "metadata": {},
   "source": [
    "### Load and Plot Data"
   ]
  },
  {
   "cell_type": "code",
   "execution_count": 1,
   "metadata": {},
   "outputs": [],
   "source": [
    "import numpy as np\n",
    "import matplotlib\n",
    "import matplotlib.pyplot as plt\n",
    "import pandas as pd\n",
    "from sklearn.model_selection import train_test_split\n",
    "%matplotlib inline"
   ]
  },
  {
   "cell_type": "markdown",
   "metadata": {},
   "source": [
    "Let's load the utility functions we defined in the <a href=\"root_numpy_pandas.ipynb\">previous notebook</a>."
   ]
  },
  {
   "cell_type": "code",
   "execution_count": 2,
   "metadata": {},
   "outputs": [],
   "source": [
    "def flatten(column):\n",
    "    '''\n",
    "    Args:\n",
    "    -----\n",
    "        column: a column of a pandas df whose entries are lists (or regular entries -- in which case nothing is done)\n",
    "                e.g.: my_df['some_variable'] \n",
    "\n",
    "    Returns:\n",
    "    --------    \n",
    "        flattened out version of the column. \n",
    "\n",
    "        For example, it will turn:\n",
    "        [1791, 2719, 1891]\n",
    "        [1717, 1, 0, 171, 9181, 537, 12]\n",
    "        [82, 11]\n",
    "        ...\n",
    "        into:\n",
    "        1791, 2719, 1891, 1717, 1, 0, 171, 9181, 537, 12, 82, 11, ...\n",
    "    '''\n",
    "    try:\n",
    "        return np.array([v for e in column for v in e])\n",
    "    except (TypeError, ValueError):\n",
    "        return column"
   ]
  },
  {
   "cell_type": "markdown",
   "metadata": {},
   "source": [
    "Load all data in memory into dataframes."
   ]
  },
  {
   "cell_type": "code",
   "execution_count": 4,
   "metadata": {},
   "outputs": [],
   "source": [
    "import uproot3\n",
    "branches = ['NJet', 'NMuon', 'NElectron', 'NPhoton', 'MET_px', 'MET_py','triggerIsoMu24','EventWeight']\n",
    "#branches = ['N*', 'Muon*','Jet*','El*', 'Photon*', 'MET*','triggerIsoMu24','EventWeight']\n",
    "# MC signal:\n",
    "ttbar = uproot3.open('files/ttbar.root')['events'].pandas.df(branches,flatten=False)\n",
    "# MC backgrounds:\n",
    "dy = uproot3.open('files/dy.root')['events'].pandas.df(branches,flatten=False)\n",
    "wj = uproot3.open('files/wjets.root')['events'].pandas.df(branches,flatten=False)\n",
    "ww = uproot3.open('files/ww.root')['events'].pandas.df(branches,flatten=False)\n",
    "wz = uproot3.open('files/wz.root')['events'].pandas.df(branches,flatten=False)\n",
    "zz = uproot3.open('files/zz.root')['events'].pandas.df(branches,flatten=False)\n",
    "singletop = uproot3.open('files/single_top.root')['events'].pandas.df(branches,flatten=False)\n",
    "qcd = uproot3.open('files/qcd.root')['events'].pandas.df(branches,flatten=False)\n",
    "# data:\n",
    "data = uproot3.open('files/data.root')['events'].pandas.df(branches,flatten=False)"
   ]
  },
  {
   "cell_type": "markdown",
   "metadata": {},
   "source": [
    "All samples except from the $t\\bar{t}$ one are produced using muon trigger. To enforce that on the $t\\bar{t}$ sample as well, we use the branch called `triggerIsoMu24` which contains a boolean to indicate if any event would have passed the specified trigger. "
   ]
  },
  {
   "cell_type": "code",
   "execution_count": 5,
   "metadata": {},
   "outputs": [
    {
     "data": {
      "text/html": [
       "<div>\n",
       "<style scoped>\n",
       "    .dataframe tbody tr th:only-of-type {\n",
       "        vertical-align: middle;\n",
       "    }\n",
       "\n",
       "    .dataframe tbody tr th {\n",
       "        vertical-align: top;\n",
       "    }\n",
       "\n",
       "    .dataframe thead th {\n",
       "        text-align: right;\n",
       "    }\n",
       "</style>\n",
       "<table border=\"1\" class=\"dataframe\">\n",
       "  <thead>\n",
       "    <tr style=\"text-align: right;\">\n",
       "      <th></th>\n",
       "      <th>NJet</th>\n",
       "      <th>NMuon</th>\n",
       "      <th>NElectron</th>\n",
       "      <th>NPhoton</th>\n",
       "      <th>NPrimaryVertices</th>\n",
       "      <th>Muon_Px</th>\n",
       "      <th>Muon_Py</th>\n",
       "      <th>Muon_Pz</th>\n",
       "      <th>Muon_E</th>\n",
       "      <th>Muon_Charge</th>\n",
       "      <th>...</th>\n",
       "      <th>Electron_Iso</th>\n",
       "      <th>Photon_Px</th>\n",
       "      <th>Photon_Py</th>\n",
       "      <th>Photon_Pz</th>\n",
       "      <th>Photon_E</th>\n",
       "      <th>Photon_Iso</th>\n",
       "      <th>MET_px</th>\n",
       "      <th>MET_py</th>\n",
       "      <th>triggerIsoMu24</th>\n",
       "      <th>EventWeight</th>\n",
       "    </tr>\n",
       "    <tr>\n",
       "      <th>entry</th>\n",
       "      <th></th>\n",
       "      <th></th>\n",
       "      <th></th>\n",
       "      <th></th>\n",
       "      <th></th>\n",
       "      <th></th>\n",
       "      <th></th>\n",
       "      <th></th>\n",
       "      <th></th>\n",
       "      <th></th>\n",
       "      <th></th>\n",
       "      <th></th>\n",
       "      <th></th>\n",
       "      <th></th>\n",
       "      <th></th>\n",
       "      <th></th>\n",
       "      <th></th>\n",
       "      <th></th>\n",
       "      <th></th>\n",
       "      <th></th>\n",
       "      <th></th>\n",
       "    </tr>\n",
       "  </thead>\n",
       "  <tbody>\n",
       "    <tr>\n",
       "      <th>0</th>\n",
       "      <td>3</td>\n",
       "      <td>0</td>\n",
       "      <td>0</td>\n",
       "      <td>0</td>\n",
       "      <td>6</td>\n",
       "      <td>[]</td>\n",
       "      <td>[]</td>\n",
       "      <td>[]</td>\n",
       "      <td>[]</td>\n",
       "      <td>[]</td>\n",
       "      <td>...</td>\n",
       "      <td>[]</td>\n",
       "      <td>[]</td>\n",
       "      <td>[]</td>\n",
       "      <td>[]</td>\n",
       "      <td>[]</td>\n",
       "      <td>[]</td>\n",
       "      <td>-30.144699</td>\n",
       "      <td>-47.489616</td>\n",
       "      <td>False</td>\n",
       "      <td>0.286201</td>\n",
       "    </tr>\n",
       "    <tr>\n",
       "      <th>1</th>\n",
       "      <td>6</td>\n",
       "      <td>0</td>\n",
       "      <td>0</td>\n",
       "      <td>0</td>\n",
       "      <td>3</td>\n",
       "      <td>[]</td>\n",
       "      <td>[]</td>\n",
       "      <td>[]</td>\n",
       "      <td>[]</td>\n",
       "      <td>[]</td>\n",
       "      <td>...</td>\n",
       "      <td>[]</td>\n",
       "      <td>[]</td>\n",
       "      <td>[]</td>\n",
       "      <td>[]</td>\n",
       "      <td>[]</td>\n",
       "      <td>[]</td>\n",
       "      <td>-3.057763</td>\n",
       "      <td>17.736443</td>\n",
       "      <td>False</td>\n",
       "      <td>0.270030</td>\n",
       "    </tr>\n",
       "    <tr>\n",
       "      <th>2</th>\n",
       "      <td>4</td>\n",
       "      <td>0</td>\n",
       "      <td>0</td>\n",
       "      <td>0</td>\n",
       "      <td>6</td>\n",
       "      <td>[]</td>\n",
       "      <td>[]</td>\n",
       "      <td>[]</td>\n",
       "      <td>[]</td>\n",
       "      <td>[]</td>\n",
       "      <td>...</td>\n",
       "      <td>[]</td>\n",
       "      <td>[]</td>\n",
       "      <td>[]</td>\n",
       "      <td>[]</td>\n",
       "      <td>[]</td>\n",
       "      <td>[]</td>\n",
       "      <td>-13.461260</td>\n",
       "      <td>5.442262</td>\n",
       "      <td>False</td>\n",
       "      <td>0.293529</td>\n",
       "    </tr>\n",
       "    <tr>\n",
       "      <th>3</th>\n",
       "      <td>2</td>\n",
       "      <td>1</td>\n",
       "      <td>1</td>\n",
       "      <td>1</td>\n",
       "      <td>10</td>\n",
       "      <td>[55.769985]</td>\n",
       "      <td>[12.214735]</td>\n",
       "      <td>[-1.1780784]</td>\n",
       "      <td>[57.104206]</td>\n",
       "      <td>[-1]</td>\n",
       "      <td>...</td>\n",
       "      <td>[3.3165822]</td>\n",
       "      <td>[1.3187407]</td>\n",
       "      <td>[-44.992695]</td>\n",
       "      <td>[-98.81549]</td>\n",
       "      <td>[108.58445]</td>\n",
       "      <td>[6.15593]</td>\n",
       "      <td>-101.564384</td>\n",
       "      <td>60.241261</td>\n",
       "      <td>False</td>\n",
       "      <td>0.192474</td>\n",
       "    </tr>\n",
       "    <tr>\n",
       "      <th>4</th>\n",
       "      <td>3</td>\n",
       "      <td>0</td>\n",
       "      <td>1</td>\n",
       "      <td>0</td>\n",
       "      <td>16</td>\n",
       "      <td>[]</td>\n",
       "      <td>[]</td>\n",
       "      <td>[]</td>\n",
       "      <td>[]</td>\n",
       "      <td>[]</td>\n",
       "      <td>...</td>\n",
       "      <td>[10.423496]</td>\n",
       "      <td>[]</td>\n",
       "      <td>[]</td>\n",
       "      <td>[]</td>\n",
       "      <td>[]</td>\n",
       "      <td>[]</td>\n",
       "      <td>32.182316</td>\n",
       "      <td>-48.410770</td>\n",
       "      <td>False</td>\n",
       "      <td>0.036131</td>\n",
       "    </tr>\n",
       "    <tr>\n",
       "      <th>...</th>\n",
       "      <td>...</td>\n",
       "      <td>...</td>\n",
       "      <td>...</td>\n",
       "      <td>...</td>\n",
       "      <td>...</td>\n",
       "      <td>...</td>\n",
       "      <td>...</td>\n",
       "      <td>...</td>\n",
       "      <td>...</td>\n",
       "      <td>...</td>\n",
       "      <td>...</td>\n",
       "      <td>...</td>\n",
       "      <td>...</td>\n",
       "      <td>...</td>\n",
       "      <td>...</td>\n",
       "      <td>...</td>\n",
       "      <td>...</td>\n",
       "      <td>...</td>\n",
       "      <td>...</td>\n",
       "      <td>...</td>\n",
       "      <td>...</td>\n",
       "    </tr>\n",
       "    <tr>\n",
       "      <th>36936</th>\n",
       "      <td>4</td>\n",
       "      <td>1</td>\n",
       "      <td>0</td>\n",
       "      <td>0</td>\n",
       "      <td>12</td>\n",
       "      <td>[-44.888935]</td>\n",
       "      <td>[42.071377]</td>\n",
       "      <td>[-82.185844]</td>\n",
       "      <td>[102.66227]</td>\n",
       "      <td>[1]</td>\n",
       "      <td>...</td>\n",
       "      <td>[]</td>\n",
       "      <td>[]</td>\n",
       "      <td>[]</td>\n",
       "      <td>[]</td>\n",
       "      <td>[]</td>\n",
       "      <td>[]</td>\n",
       "      <td>-9.230609</td>\n",
       "      <td>-2.131017</td>\n",
       "      <td>True</td>\n",
       "      <td>0.019638</td>\n",
       "    </tr>\n",
       "    <tr>\n",
       "      <th>36937</th>\n",
       "      <td>7</td>\n",
       "      <td>0</td>\n",
       "      <td>0</td>\n",
       "      <td>0</td>\n",
       "      <td>5</td>\n",
       "      <td>[]</td>\n",
       "      <td>[]</td>\n",
       "      <td>[]</td>\n",
       "      <td>[]</td>\n",
       "      <td>[]</td>\n",
       "      <td>...</td>\n",
       "      <td>[]</td>\n",
       "      <td>[]</td>\n",
       "      <td>[]</td>\n",
       "      <td>[]</td>\n",
       "      <td>[]</td>\n",
       "      <td>[]</td>\n",
       "      <td>3.164094</td>\n",
       "      <td>6.432869</td>\n",
       "      <td>False</td>\n",
       "      <td>0.293529</td>\n",
       "    </tr>\n",
       "    <tr>\n",
       "      <th>36938</th>\n",
       "      <td>1</td>\n",
       "      <td>0</td>\n",
       "      <td>2</td>\n",
       "      <td>1</td>\n",
       "      <td>4</td>\n",
       "      <td>[]</td>\n",
       "      <td>[]</td>\n",
       "      <td>[]</td>\n",
       "      <td>[]</td>\n",
       "      <td>[]</td>\n",
       "      <td>...</td>\n",
       "      <td>[1.4795033, 11.971755]</td>\n",
       "      <td>[122.578766]</td>\n",
       "      <td>[-21.208433]</td>\n",
       "      <td>[25.54431]</td>\n",
       "      <td>[126.99552]</td>\n",
       "      <td>[3.7591028]</td>\n",
       "      <td>-73.855873</td>\n",
       "      <td>-4.278521</td>\n",
       "      <td>False</td>\n",
       "      <td>0.271386</td>\n",
       "    </tr>\n",
       "    <tr>\n",
       "      <th>36939</th>\n",
       "      <td>3</td>\n",
       "      <td>0</td>\n",
       "      <td>0</td>\n",
       "      <td>0</td>\n",
       "      <td>11</td>\n",
       "      <td>[]</td>\n",
       "      <td>[]</td>\n",
       "      <td>[]</td>\n",
       "      <td>[]</td>\n",
       "      <td>[]</td>\n",
       "      <td>...</td>\n",
       "      <td>[]</td>\n",
       "      <td>[]</td>\n",
       "      <td>[]</td>\n",
       "      <td>[]</td>\n",
       "      <td>[]</td>\n",
       "      <td>[]</td>\n",
       "      <td>14.255083</td>\n",
       "      <td>50.850010</td>\n",
       "      <td>False</td>\n",
       "      <td>0.224193</td>\n",
       "    </tr>\n",
       "    <tr>\n",
       "      <th>36940</th>\n",
       "      <td>3</td>\n",
       "      <td>0</td>\n",
       "      <td>1</td>\n",
       "      <td>1</td>\n",
       "      <td>8</td>\n",
       "      <td>[]</td>\n",
       "      <td>[]</td>\n",
       "      <td>[]</td>\n",
       "      <td>[]</td>\n",
       "      <td>[]</td>\n",
       "      <td>...</td>\n",
       "      <td>[3.5381253]</td>\n",
       "      <td>[12.243832]</td>\n",
       "      <td>[155.64832]</td>\n",
       "      <td>[-131.7291]</td>\n",
       "      <td>[204.27644]</td>\n",
       "      <td>[3.8334322]</td>\n",
       "      <td>-39.686436</td>\n",
       "      <td>-7.809211</td>\n",
       "      <td>False</td>\n",
       "      <td>0.299037</td>\n",
       "    </tr>\n",
       "  </tbody>\n",
       "</table>\n",
       "<p>36941 rows × 32 columns</p>\n",
       "</div>"
      ],
      "text/plain": [
       "       NJet  NMuon  NElectron  NPhoton  NPrimaryVertices       Muon_Px  \\\n",
       "entry                                                                    \n",
       "0         3      0          0        0                 6            []   \n",
       "1         6      0          0        0                 3            []   \n",
       "2         4      0          0        0                 6            []   \n",
       "3         2      1          1        1                10   [55.769985]   \n",
       "4         3      0          1        0                16            []   \n",
       "...     ...    ...        ...      ...               ...           ...   \n",
       "36936     4      1          0        0                12  [-44.888935]   \n",
       "36937     7      0          0        0                 5            []   \n",
       "36938     1      0          2        1                 4            []   \n",
       "36939     3      0          0        0                11            []   \n",
       "36940     3      0          1        1                 8            []   \n",
       "\n",
       "           Muon_Py       Muon_Pz       Muon_E Muon_Charge  ...  \\\n",
       "entry                                                      ...   \n",
       "0               []            []           []          []  ...   \n",
       "1               []            []           []          []  ...   \n",
       "2               []            []           []          []  ...   \n",
       "3      [12.214735]  [-1.1780784]  [57.104206]        [-1]  ...   \n",
       "4               []            []           []          []  ...   \n",
       "...            ...           ...          ...         ...  ...   \n",
       "36936  [42.071377]  [-82.185844]  [102.66227]         [1]  ...   \n",
       "36937           []            []           []          []  ...   \n",
       "36938           []            []           []          []  ...   \n",
       "36939           []            []           []          []  ...   \n",
       "36940           []            []           []          []  ...   \n",
       "\n",
       "                 Electron_Iso     Photon_Px     Photon_Py    Photon_Pz  \\\n",
       "entry                                                                    \n",
       "0                          []            []            []           []   \n",
       "1                          []            []            []           []   \n",
       "2                          []            []            []           []   \n",
       "3                 [3.3165822]   [1.3187407]  [-44.992695]  [-98.81549]   \n",
       "4                 [10.423496]            []            []           []   \n",
       "...                       ...           ...           ...          ...   \n",
       "36936                      []            []            []           []   \n",
       "36937                      []            []            []           []   \n",
       "36938  [1.4795033, 11.971755]  [122.578766]  [-21.208433]   [25.54431]   \n",
       "36939                      []            []            []           []   \n",
       "36940             [3.5381253]   [12.243832]   [155.64832]  [-131.7291]   \n",
       "\n",
       "          Photon_E   Photon_Iso      MET_px     MET_py triggerIsoMu24  \\\n",
       "entry                                                                   \n",
       "0               []           []  -30.144699 -47.489616          False   \n",
       "1               []           []   -3.057763  17.736443          False   \n",
       "2               []           []  -13.461260   5.442262          False   \n",
       "3      [108.58445]    [6.15593] -101.564384  60.241261          False   \n",
       "4               []           []   32.182316 -48.410770          False   \n",
       "...            ...          ...         ...        ...            ...   \n",
       "36936           []           []   -9.230609  -2.131017           True   \n",
       "36937           []           []    3.164094   6.432869          False   \n",
       "36938  [126.99552]  [3.7591028]  -73.855873  -4.278521          False   \n",
       "36939           []           []   14.255083  50.850010          False   \n",
       "36940  [204.27644]  [3.8334322]  -39.686436  -7.809211          False   \n",
       "\n",
       "      EventWeight  \n",
       "entry              \n",
       "0        0.286201  \n",
       "1        0.270030  \n",
       "2        0.293529  \n",
       "3        0.192474  \n",
       "4        0.036131  \n",
       "...           ...  \n",
       "36936    0.019638  \n",
       "36937    0.293529  \n",
       "36938    0.271386  \n",
       "36939    0.224193  \n",
       "36940    0.299037  \n",
       "\n",
       "[36941 rows x 32 columns]"
      ]
     },
     "execution_count": 5,
     "metadata": {},
     "output_type": "execute_result"
    }
   ],
   "source": [
    "ttbar"
   ]
  },
  {
   "cell_type": "code",
   "execution_count": 6,
   "metadata": {},
   "outputs": [
    {
     "data": {
      "text/plain": [
       "entry\n",
       "0        False\n",
       "1        False\n",
       "2        False\n",
       "3        False\n",
       "4        False\n",
       "         ...  \n",
       "36936     True\n",
       "36937    False\n",
       "36938    False\n",
       "36939    False\n",
       "36940    False\n",
       "Name: triggerIsoMu24, Length: 36941, dtype: bool"
      ]
     },
     "execution_count": 6,
     "metadata": {},
     "output_type": "execute_result"
    }
   ],
   "source": [
    "# -- step by step:\n",
    "ttbar['triggerIsoMu24']"
   ]
  },
  {
   "cell_type": "code",
   "execution_count": 7,
   "metadata": {},
   "outputs": [
    {
     "data": {
      "text/html": [
       "<div>\n",
       "<style scoped>\n",
       "    .dataframe tbody tr th:only-of-type {\n",
       "        vertical-align: middle;\n",
       "    }\n",
       "\n",
       "    .dataframe tbody tr th {\n",
       "        vertical-align: top;\n",
       "    }\n",
       "\n",
       "    .dataframe thead th {\n",
       "        text-align: right;\n",
       "    }\n",
       "</style>\n",
       "<table border=\"1\" class=\"dataframe\">\n",
       "  <thead>\n",
       "    <tr style=\"text-align: right;\">\n",
       "      <th></th>\n",
       "      <th>NJet</th>\n",
       "      <th>NMuon</th>\n",
       "      <th>NElectron</th>\n",
       "      <th>NPhoton</th>\n",
       "      <th>NPrimaryVertices</th>\n",
       "      <th>Muon_Px</th>\n",
       "      <th>Muon_Py</th>\n",
       "      <th>Muon_Pz</th>\n",
       "      <th>Muon_E</th>\n",
       "      <th>Muon_Charge</th>\n",
       "      <th>...</th>\n",
       "      <th>Electron_Iso</th>\n",
       "      <th>Photon_Px</th>\n",
       "      <th>Photon_Py</th>\n",
       "      <th>Photon_Pz</th>\n",
       "      <th>Photon_E</th>\n",
       "      <th>Photon_Iso</th>\n",
       "      <th>MET_px</th>\n",
       "      <th>MET_py</th>\n",
       "      <th>triggerIsoMu24</th>\n",
       "      <th>EventWeight</th>\n",
       "    </tr>\n",
       "    <tr>\n",
       "      <th>entry</th>\n",
       "      <th></th>\n",
       "      <th></th>\n",
       "      <th></th>\n",
       "      <th></th>\n",
       "      <th></th>\n",
       "      <th></th>\n",
       "      <th></th>\n",
       "      <th></th>\n",
       "      <th></th>\n",
       "      <th></th>\n",
       "      <th></th>\n",
       "      <th></th>\n",
       "      <th></th>\n",
       "      <th></th>\n",
       "      <th></th>\n",
       "      <th></th>\n",
       "      <th></th>\n",
       "      <th></th>\n",
       "      <th></th>\n",
       "      <th></th>\n",
       "      <th></th>\n",
       "    </tr>\n",
       "  </thead>\n",
       "  <tbody>\n",
       "    <tr>\n",
       "      <th>7</th>\n",
       "      <td>3</td>\n",
       "      <td>1</td>\n",
       "      <td>0</td>\n",
       "      <td>0</td>\n",
       "      <td>4</td>\n",
       "      <td>[-34.069183]</td>\n",
       "      <td>[5.642947]</td>\n",
       "      <td>[-10.177638]</td>\n",
       "      <td>[36.00205]</td>\n",
       "      <td>[1]</td>\n",
       "      <td>...</td>\n",
       "      <td>[]</td>\n",
       "      <td>[]</td>\n",
       "      <td>[]</td>\n",
       "      <td>[]</td>\n",
       "      <td>[]</td>\n",
       "      <td>[]</td>\n",
       "      <td>20.238705</td>\n",
       "      <td>1.876128</td>\n",
       "      <td>True</td>\n",
       "      <td>0.279545</td>\n",
       "    </tr>\n",
       "    <tr>\n",
       "      <th>16</th>\n",
       "      <td>5</td>\n",
       "      <td>1</td>\n",
       "      <td>0</td>\n",
       "      <td>0</td>\n",
       "      <td>4</td>\n",
       "      <td>[42.39286]</td>\n",
       "      <td>[-35.94372]</td>\n",
       "      <td>[-29.71742]</td>\n",
       "      <td>[63.025723]</td>\n",
       "      <td>[-1]</td>\n",
       "      <td>...</td>\n",
       "      <td>[]</td>\n",
       "      <td>[]</td>\n",
       "      <td>[]</td>\n",
       "      <td>[]</td>\n",
       "      <td>[]</td>\n",
       "      <td>[]</td>\n",
       "      <td>-29.892015</td>\n",
       "      <td>16.498444</td>\n",
       "      <td>True</td>\n",
       "      <td>0.279545</td>\n",
       "    </tr>\n",
       "    <tr>\n",
       "      <th>24</th>\n",
       "      <td>5</td>\n",
       "      <td>1</td>\n",
       "      <td>0</td>\n",
       "      <td>0</td>\n",
       "      <td>8</td>\n",
       "      <td>[26.059546]</td>\n",
       "      <td>[0.1397148]</td>\n",
       "      <td>[-110.57824]</td>\n",
       "      <td>[113.60756]</td>\n",
       "      <td>[-1]</td>\n",
       "      <td>...</td>\n",
       "      <td>[]</td>\n",
       "      <td>[]</td>\n",
       "      <td>[]</td>\n",
       "      <td>[]</td>\n",
       "      <td>[]</td>\n",
       "      <td>[]</td>\n",
       "      <td>-24.056999</td>\n",
       "      <td>-46.160618</td>\n",
       "      <td>True</td>\n",
       "      <td>0.299037</td>\n",
       "    </tr>\n",
       "    <tr>\n",
       "      <th>37</th>\n",
       "      <td>3</td>\n",
       "      <td>1</td>\n",
       "      <td>0</td>\n",
       "      <td>0</td>\n",
       "      <td>1</td>\n",
       "      <td>[-13.849165]</td>\n",
       "      <td>[38.081512]</td>\n",
       "      <td>[22.201681]</td>\n",
       "      <td>[46.20527]</td>\n",
       "      <td>[-1]</td>\n",
       "      <td>...</td>\n",
       "      <td>[]</td>\n",
       "      <td>[]</td>\n",
       "      <td>[]</td>\n",
       "      <td>[]</td>\n",
       "      <td>[]</td>\n",
       "      <td>[]</td>\n",
       "      <td>-30.039965</td>\n",
       "      <td>5.851555</td>\n",
       "      <td>True</td>\n",
       "      <td>0.270251</td>\n",
       "    </tr>\n",
       "    <tr>\n",
       "      <th>40</th>\n",
       "      <td>3</td>\n",
       "      <td>1</td>\n",
       "      <td>0</td>\n",
       "      <td>0</td>\n",
       "      <td>16</td>\n",
       "      <td>[72.602745]</td>\n",
       "      <td>[-9.595969]</td>\n",
       "      <td>[15.928725]</td>\n",
       "      <td>[74.946495]</td>\n",
       "      <td>[-1]</td>\n",
       "      <td>...</td>\n",
       "      <td>[]</td>\n",
       "      <td>[]</td>\n",
       "      <td>[]</td>\n",
       "      <td>[]</td>\n",
       "      <td>[]</td>\n",
       "      <td>[]</td>\n",
       "      <td>4.518302</td>\n",
       "      <td>117.570068</td>\n",
       "      <td>True</td>\n",
       "      <td>0.010469</td>\n",
       "    </tr>\n",
       "    <tr>\n",
       "      <th>...</th>\n",
       "      <td>...</td>\n",
       "      <td>...</td>\n",
       "      <td>...</td>\n",
       "      <td>...</td>\n",
       "      <td>...</td>\n",
       "      <td>...</td>\n",
       "      <td>...</td>\n",
       "      <td>...</td>\n",
       "      <td>...</td>\n",
       "      <td>...</td>\n",
       "      <td>...</td>\n",
       "      <td>...</td>\n",
       "      <td>...</td>\n",
       "      <td>...</td>\n",
       "      <td>...</td>\n",
       "      <td>...</td>\n",
       "      <td>...</td>\n",
       "      <td>...</td>\n",
       "      <td>...</td>\n",
       "      <td>...</td>\n",
       "      <td>...</td>\n",
       "    </tr>\n",
       "    <tr>\n",
       "      <th>36900</th>\n",
       "      <td>4</td>\n",
       "      <td>1</td>\n",
       "      <td>0</td>\n",
       "      <td>0</td>\n",
       "      <td>5</td>\n",
       "      <td>[-31.394428]</td>\n",
       "      <td>[30.677265]</td>\n",
       "      <td>[0.70438313]</td>\n",
       "      <td>[43.900024]</td>\n",
       "      <td>[1]</td>\n",
       "      <td>...</td>\n",
       "      <td>[]</td>\n",
       "      <td>[]</td>\n",
       "      <td>[]</td>\n",
       "      <td>[]</td>\n",
       "      <td>[]</td>\n",
       "      <td>[]</td>\n",
       "      <td>-58.643341</td>\n",
       "      <td>-53.009251</td>\n",
       "      <td>True</td>\n",
       "      <td>0.271386</td>\n",
       "    </tr>\n",
       "    <tr>\n",
       "      <th>36906</th>\n",
       "      <td>3</td>\n",
       "      <td>1</td>\n",
       "      <td>0</td>\n",
       "      <td>0</td>\n",
       "      <td>19</td>\n",
       "      <td>[-78.04966]</td>\n",
       "      <td>[14.893242]</td>\n",
       "      <td>[122.64015]</td>\n",
       "      <td>[146.13068]</td>\n",
       "      <td>[1]</td>\n",
       "      <td>...</td>\n",
       "      <td>[]</td>\n",
       "      <td>[]</td>\n",
       "      <td>[]</td>\n",
       "      <td>[]</td>\n",
       "      <td>[]</td>\n",
       "      <td>[]</td>\n",
       "      <td>64.950539</td>\n",
       "      <td>126.627068</td>\n",
       "      <td>True</td>\n",
       "      <td>0.036131</td>\n",
       "    </tr>\n",
       "    <tr>\n",
       "      <th>36924</th>\n",
       "      <td>1</td>\n",
       "      <td>1</td>\n",
       "      <td>1</td>\n",
       "      <td>0</td>\n",
       "      <td>15</td>\n",
       "      <td>[14.253561]</td>\n",
       "      <td>[-34.5261]</td>\n",
       "      <td>[-85.47239]</td>\n",
       "      <td>[93.27785]</td>\n",
       "      <td>[-1]</td>\n",
       "      <td>...</td>\n",
       "      <td>[3.969215]</td>\n",
       "      <td>[]</td>\n",
       "      <td>[]</td>\n",
       "      <td>[]</td>\n",
       "      <td>[]</td>\n",
       "      <td>[]</td>\n",
       "      <td>-12.299533</td>\n",
       "      <td>5.871008</td>\n",
       "      <td>True</td>\n",
       "      <td>0.105165</td>\n",
       "    </tr>\n",
       "    <tr>\n",
       "      <th>36932</th>\n",
       "      <td>2</td>\n",
       "      <td>1</td>\n",
       "      <td>0</td>\n",
       "      <td>0</td>\n",
       "      <td>5</td>\n",
       "      <td>[-23.16231]</td>\n",
       "      <td>[-215.16891]</td>\n",
       "      <td>[-89.45109]</td>\n",
       "      <td>[234.17017]</td>\n",
       "      <td>[-1]</td>\n",
       "      <td>...</td>\n",
       "      <td>[]</td>\n",
       "      <td>[]</td>\n",
       "      <td>[]</td>\n",
       "      <td>[]</td>\n",
       "      <td>[]</td>\n",
       "      <td>[]</td>\n",
       "      <td>26.939926</td>\n",
       "      <td>29.773983</td>\n",
       "      <td>True</td>\n",
       "      <td>0.293529</td>\n",
       "    </tr>\n",
       "    <tr>\n",
       "      <th>36936</th>\n",
       "      <td>4</td>\n",
       "      <td>1</td>\n",
       "      <td>0</td>\n",
       "      <td>0</td>\n",
       "      <td>12</td>\n",
       "      <td>[-44.888935]</td>\n",
       "      <td>[42.071377]</td>\n",
       "      <td>[-82.185844]</td>\n",
       "      <td>[102.66227]</td>\n",
       "      <td>[1]</td>\n",
       "      <td>...</td>\n",
       "      <td>[]</td>\n",
       "      <td>[]</td>\n",
       "      <td>[]</td>\n",
       "      <td>[]</td>\n",
       "      <td>[]</td>\n",
       "      <td>[]</td>\n",
       "      <td>-9.230609</td>\n",
       "      <td>-2.131017</td>\n",
       "      <td>True</td>\n",
       "      <td>0.019638</td>\n",
       "    </tr>\n",
       "  </tbody>\n",
       "</table>\n",
       "<p>4515 rows × 32 columns</p>\n",
       "</div>"
      ],
      "text/plain": [
       "       NJet  NMuon  NElectron  NPhoton  NPrimaryVertices       Muon_Px  \\\n",
       "entry                                                                    \n",
       "7         3      1          0        0                 4  [-34.069183]   \n",
       "16        5      1          0        0                 4    [42.39286]   \n",
       "24        5      1          0        0                 8   [26.059546]   \n",
       "37        3      1          0        0                 1  [-13.849165]   \n",
       "40        3      1          0        0                16   [72.602745]   \n",
       "...     ...    ...        ...      ...               ...           ...   \n",
       "36900     4      1          0        0                 5  [-31.394428]   \n",
       "36906     3      1          0        0                19   [-78.04966]   \n",
       "36924     1      1          1        0                15   [14.253561]   \n",
       "36932     2      1          0        0                 5   [-23.16231]   \n",
       "36936     4      1          0        0                12  [-44.888935]   \n",
       "\n",
       "            Muon_Py       Muon_Pz       Muon_E Muon_Charge  ... Electron_Iso  \\\n",
       "entry                                                       ...                \n",
       "7        [5.642947]  [-10.177638]   [36.00205]         [1]  ...           []   \n",
       "16      [-35.94372]   [-29.71742]  [63.025723]        [-1]  ...           []   \n",
       "24      [0.1397148]  [-110.57824]  [113.60756]        [-1]  ...           []   \n",
       "37      [38.081512]   [22.201681]   [46.20527]        [-1]  ...           []   \n",
       "40      [-9.595969]   [15.928725]  [74.946495]        [-1]  ...           []   \n",
       "...             ...           ...          ...         ...  ...          ...   \n",
       "36900   [30.677265]  [0.70438313]  [43.900024]         [1]  ...           []   \n",
       "36906   [14.893242]   [122.64015]  [146.13068]         [1]  ...           []   \n",
       "36924    [-34.5261]   [-85.47239]   [93.27785]        [-1]  ...   [3.969215]   \n",
       "36932  [-215.16891]   [-89.45109]  [234.17017]        [-1]  ...           []   \n",
       "36936   [42.071377]  [-82.185844]  [102.66227]         [1]  ...           []   \n",
       "\n",
       "      Photon_Px Photon_Py Photon_Pz Photon_E Photon_Iso     MET_px  \\\n",
       "entry                                                                \n",
       "7            []        []        []       []         []  20.238705   \n",
       "16           []        []        []       []         [] -29.892015   \n",
       "24           []        []        []       []         [] -24.056999   \n",
       "37           []        []        []       []         [] -30.039965   \n",
       "40           []        []        []       []         []   4.518302   \n",
       "...         ...       ...       ...      ...        ...        ...   \n",
       "36900        []        []        []       []         [] -58.643341   \n",
       "36906        []        []        []       []         []  64.950539   \n",
       "36924        []        []        []       []         [] -12.299533   \n",
       "36932        []        []        []       []         []  26.939926   \n",
       "36936        []        []        []       []         []  -9.230609   \n",
       "\n",
       "           MET_py triggerIsoMu24 EventWeight  \n",
       "entry                                         \n",
       "7        1.876128           True    0.279545  \n",
       "16      16.498444           True    0.279545  \n",
       "24     -46.160618           True    0.299037  \n",
       "37       5.851555           True    0.270251  \n",
       "40     117.570068           True    0.010469  \n",
       "...           ...            ...         ...  \n",
       "36900  -53.009251           True    0.271386  \n",
       "36906  126.627068           True    0.036131  \n",
       "36924    5.871008           True    0.105165  \n",
       "36932   29.773983           True    0.293529  \n",
       "36936   -2.131017           True    0.019638  \n",
       "\n",
       "[4515 rows x 32 columns]"
      ]
     },
     "execution_count": 7,
     "metadata": {},
     "output_type": "execute_result"
    }
   ],
   "source": [
    "ttbar[ttbar['triggerIsoMu24']] # slicing doesn't automatically reset the indices"
   ]
  },
  {
   "cell_type": "code",
   "execution_count": 8,
   "metadata": {},
   "outputs": [],
   "source": [
    "ttbar = ttbar[ttbar['triggerIsoMu24']].reset_index(drop=True)"
   ]
  },
  {
   "cell_type": "code",
   "execution_count": 9,
   "metadata": {},
   "outputs": [
    {
     "data": {
      "text/html": [
       "<div>\n",
       "<style scoped>\n",
       "    .dataframe tbody tr th:only-of-type {\n",
       "        vertical-align: middle;\n",
       "    }\n",
       "\n",
       "    .dataframe tbody tr th {\n",
       "        vertical-align: top;\n",
       "    }\n",
       "\n",
       "    .dataframe thead th {\n",
       "        text-align: right;\n",
       "    }\n",
       "</style>\n",
       "<table border=\"1\" class=\"dataframe\">\n",
       "  <thead>\n",
       "    <tr style=\"text-align: right;\">\n",
       "      <th></th>\n",
       "      <th>NJet</th>\n",
       "      <th>NMuon</th>\n",
       "      <th>NElectron</th>\n",
       "      <th>NPhoton</th>\n",
       "      <th>NPrimaryVertices</th>\n",
       "      <th>Muon_Px</th>\n",
       "      <th>Muon_Py</th>\n",
       "      <th>Muon_Pz</th>\n",
       "      <th>Muon_E</th>\n",
       "      <th>Muon_Charge</th>\n",
       "      <th>...</th>\n",
       "      <th>Electron_Iso</th>\n",
       "      <th>Photon_Px</th>\n",
       "      <th>Photon_Py</th>\n",
       "      <th>Photon_Pz</th>\n",
       "      <th>Photon_E</th>\n",
       "      <th>Photon_Iso</th>\n",
       "      <th>MET_px</th>\n",
       "      <th>MET_py</th>\n",
       "      <th>triggerIsoMu24</th>\n",
       "      <th>EventWeight</th>\n",
       "    </tr>\n",
       "  </thead>\n",
       "  <tbody>\n",
       "    <tr>\n",
       "      <th>0</th>\n",
       "      <td>3</td>\n",
       "      <td>1</td>\n",
       "      <td>0</td>\n",
       "      <td>0</td>\n",
       "      <td>4</td>\n",
       "      <td>[-34.069183]</td>\n",
       "      <td>[5.642947]</td>\n",
       "      <td>[-10.177638]</td>\n",
       "      <td>[36.00205]</td>\n",
       "      <td>[1]</td>\n",
       "      <td>...</td>\n",
       "      <td>[]</td>\n",
       "      <td>[]</td>\n",
       "      <td>[]</td>\n",
       "      <td>[]</td>\n",
       "      <td>[]</td>\n",
       "      <td>[]</td>\n",
       "      <td>20.238705</td>\n",
       "      <td>1.876128</td>\n",
       "      <td>True</td>\n",
       "      <td>0.279545</td>\n",
       "    </tr>\n",
       "    <tr>\n",
       "      <th>1</th>\n",
       "      <td>5</td>\n",
       "      <td>1</td>\n",
       "      <td>0</td>\n",
       "      <td>0</td>\n",
       "      <td>4</td>\n",
       "      <td>[42.39286]</td>\n",
       "      <td>[-35.94372]</td>\n",
       "      <td>[-29.71742]</td>\n",
       "      <td>[63.025723]</td>\n",
       "      <td>[-1]</td>\n",
       "      <td>...</td>\n",
       "      <td>[]</td>\n",
       "      <td>[]</td>\n",
       "      <td>[]</td>\n",
       "      <td>[]</td>\n",
       "      <td>[]</td>\n",
       "      <td>[]</td>\n",
       "      <td>-29.892015</td>\n",
       "      <td>16.498444</td>\n",
       "      <td>True</td>\n",
       "      <td>0.279545</td>\n",
       "    </tr>\n",
       "    <tr>\n",
       "      <th>2</th>\n",
       "      <td>5</td>\n",
       "      <td>1</td>\n",
       "      <td>0</td>\n",
       "      <td>0</td>\n",
       "      <td>8</td>\n",
       "      <td>[26.059546]</td>\n",
       "      <td>[0.1397148]</td>\n",
       "      <td>[-110.57824]</td>\n",
       "      <td>[113.60756]</td>\n",
       "      <td>[-1]</td>\n",
       "      <td>...</td>\n",
       "      <td>[]</td>\n",
       "      <td>[]</td>\n",
       "      <td>[]</td>\n",
       "      <td>[]</td>\n",
       "      <td>[]</td>\n",
       "      <td>[]</td>\n",
       "      <td>-24.056999</td>\n",
       "      <td>-46.160618</td>\n",
       "      <td>True</td>\n",
       "      <td>0.299037</td>\n",
       "    </tr>\n",
       "    <tr>\n",
       "      <th>3</th>\n",
       "      <td>3</td>\n",
       "      <td>1</td>\n",
       "      <td>0</td>\n",
       "      <td>0</td>\n",
       "      <td>1</td>\n",
       "      <td>[-13.849165]</td>\n",
       "      <td>[38.081512]</td>\n",
       "      <td>[22.201681]</td>\n",
       "      <td>[46.20527]</td>\n",
       "      <td>[-1]</td>\n",
       "      <td>...</td>\n",
       "      <td>[]</td>\n",
       "      <td>[]</td>\n",
       "      <td>[]</td>\n",
       "      <td>[]</td>\n",
       "      <td>[]</td>\n",
       "      <td>[]</td>\n",
       "      <td>-30.039965</td>\n",
       "      <td>5.851555</td>\n",
       "      <td>True</td>\n",
       "      <td>0.270251</td>\n",
       "    </tr>\n",
       "    <tr>\n",
       "      <th>4</th>\n",
       "      <td>3</td>\n",
       "      <td>1</td>\n",
       "      <td>0</td>\n",
       "      <td>0</td>\n",
       "      <td>16</td>\n",
       "      <td>[72.602745]</td>\n",
       "      <td>[-9.595969]</td>\n",
       "      <td>[15.928725]</td>\n",
       "      <td>[74.946495]</td>\n",
       "      <td>[-1]</td>\n",
       "      <td>...</td>\n",
       "      <td>[]</td>\n",
       "      <td>[]</td>\n",
       "      <td>[]</td>\n",
       "      <td>[]</td>\n",
       "      <td>[]</td>\n",
       "      <td>[]</td>\n",
       "      <td>4.518302</td>\n",
       "      <td>117.570068</td>\n",
       "      <td>True</td>\n",
       "      <td>0.010469</td>\n",
       "    </tr>\n",
       "  </tbody>\n",
       "</table>\n",
       "<p>5 rows × 32 columns</p>\n",
       "</div>"
      ],
      "text/plain": [
       "   NJet  NMuon  NElectron  NPhoton  NPrimaryVertices       Muon_Px  \\\n",
       "0     3      1          0        0                 4  [-34.069183]   \n",
       "1     5      1          0        0                 4    [42.39286]   \n",
       "2     5      1          0        0                 8   [26.059546]   \n",
       "3     3      1          0        0                 1  [-13.849165]   \n",
       "4     3      1          0        0                16   [72.602745]   \n",
       "\n",
       "       Muon_Py       Muon_Pz       Muon_E Muon_Charge  ... Electron_Iso  \\\n",
       "0   [5.642947]  [-10.177638]   [36.00205]         [1]  ...           []   \n",
       "1  [-35.94372]   [-29.71742]  [63.025723]        [-1]  ...           []   \n",
       "2  [0.1397148]  [-110.57824]  [113.60756]        [-1]  ...           []   \n",
       "3  [38.081512]   [22.201681]   [46.20527]        [-1]  ...           []   \n",
       "4  [-9.595969]   [15.928725]  [74.946495]        [-1]  ...           []   \n",
       "\n",
       "  Photon_Px Photon_Py Photon_Pz Photon_E Photon_Iso     MET_px      MET_py  \\\n",
       "0        []        []        []       []         []  20.238705    1.876128   \n",
       "1        []        []        []       []         [] -29.892015   16.498444   \n",
       "2        []        []        []       []         [] -24.056999  -46.160618   \n",
       "3        []        []        []       []         [] -30.039965    5.851555   \n",
       "4        []        []        []       []         []   4.518302  117.570068   \n",
       "\n",
       "  triggerIsoMu24 EventWeight  \n",
       "0           True    0.279545  \n",
       "1           True    0.279545  \n",
       "2           True    0.299037  \n",
       "3           True    0.270251  \n",
       "4           True    0.010469  \n",
       "\n",
       "[5 rows x 32 columns]"
      ]
     },
     "execution_count": 9,
     "metadata": {},
     "output_type": "execute_result"
    }
   ],
   "source": [
    "ttbar.head()"
   ]
  },
  {
   "cell_type": "markdown",
   "metadata": {},
   "source": [
    "Let's say we want to start by training a simple model that only relies on event-level variables. The ones available in these samples are:"
   ]
  },
  {
   "cell_type": "code",
   "execution_count": 10,
   "metadata": {},
   "outputs": [],
   "source": [
    "# names of event-level branches\n",
    "npart = ['NJet', 'NMuon', 'NElectron', 'NPhoton', 'MET_px', 'MET_py']"
   ]
  },
  {
   "cell_type": "markdown",
   "metadata": {},
   "source": [
    "If you are a physicist, the first thing you might want to do is to plot them. We do so very easily using <a href=\"https://matplotlib.org/\">`matplotlib`</a>:"
   ]
  },
  {
   "cell_type": "code",
   "execution_count": 11,
   "metadata": {
    "scrolled": false
   },
   "outputs": [
    {
     "data": {
      "image/png": "[encoded data removed]",
      "text/plain": [
       "<Figure size 800x800 with 1 Axes>"
      ]
     },
     "metadata": {
      "needs_background": "light"
     },
     "output_type": "display_data"
    },
    {
     "data": {
      "image/png": "[encoded data removed]",
      "text/plain": [
       "<Figure size 800x800 with 1 Axes>"
      ]
     },
     "metadata": {
      "needs_background": "light"
     },
     "output_type": "display_data"
    },
    {
     "data": {
      "image/png": "[encoded data removed]",
      "text/plain": [
       "<Figure size 800x800 with 1 Axes>"
      ]
     },
     "metadata": {
      "needs_background": "light"
     },
     "output_type": "display_data"
    },
    {
     "data": {
      "image/png": "[encoded data removed]",
      "text/plain": [
       "<Figure size 800x800 with 1 Axes>"
      ]
     },
     "metadata": {
      "needs_background": "light"
     },
     "output_type": "display_data"
    },
    {
     "data": {
      "image/png": "[encoded data removed]",
      "text/plain": [
       "<Figure size 800x800 with 1 Axes>"
      ]
     },
     "metadata": {
      "needs_background": "light"
     },
     "output_type": "display_data"
    },
    {
     "data": {
      "image/png": "[encoded data removed]",
      "text/plain": [
       "<Figure size 800x800 with 1 Axes>"
      ]
     },
     "metadata": {
      "needs_background": "light"
     },
     "output_type": "display_data"
    }
   ],
   "source": [
    "for key in npart: # loop through the event-level branches and plot them on separate histograms\n",
    "    \n",
    "    # -- set font and canvas size (optional)\n",
    "    matplotlib.rcParams.update({'font.size': 16})\n",
    "    fig = plt.figure(figsize=(8,8), dpi=100)\n",
    "    \n",
    "    # -- declare common binning strategy (otherwise every histogram will have its own binning)\n",
    "    bins = np.linspace(min(ttbar[key]), max(ttbar[key]) + 1, 30)\n",
    "    \n",
    "    # plot!\n",
    "    _ = plt.hist(ttbar[key], histtype='step', bins=bins, weights=ttbar['EventWeight'], label=r'$t\\overline{t}$', linewidth=2)\n",
    "    _ = plt.hist(dy[key], histtype='step', bins=bins, weights=dy['EventWeight'], label='Drell Yan')\n",
    "    _ = plt.hist(wj[key], histtype='step', bins=bins, weights=wj['EventWeight'], label=r'$W$ + jets')\n",
    "    _ = plt.hist(ww[key], histtype='step', bins=bins, weights=ww['EventWeight'], label=r'$WW$')\n",
    "    _ = plt.hist(wz[key], histtype='step', bins=bins, weights=wz['EventWeight'], label=r'$WZ$')\n",
    "    _ = plt.hist(zz[key], histtype='step', bins=bins, weights=zz['EventWeight'], label=r'$ZZ$')\n",
    "    _ = plt.hist(singletop[key], histtype='step', bins=bins, weights=singletop['EventWeight'], label=r'single $t$')\n",
    "    _ = plt.hist(qcd[key], histtype='step', bins=bins, weights=qcd['EventWeight'], label='QCD', color='salmon')\n",
    "    \n",
    "    plt.xlabel(key)\n",
    "    plt.yscale('log')\n",
    "    plt.legend(loc='best')\n",
    "    plt.show()"
   ]
  },
  {
   "cell_type": "markdown",
   "metadata": {},
   "source": [
    "Stack all the backgrounds (shown only for one branch here):"
   ]
  },
  {
   "cell_type": "code",
   "execution_count": 12,
   "metadata": {},
   "outputs": [],
   "source": [
    "import matplotlib.cm as cm\n",
    "colors = cm.cool(np.linspace(0, 1, 7))"
   ]
  },
  {
   "cell_type": "code",
   "execution_count": 13,
   "metadata": {},
   "outputs": [
    {
     "data": {
      "text/plain": [
       "<matplotlib.legend.Legend at 0x7f7faf470670>"
      ]
     },
     "execution_count": 13,
     "metadata": {},
     "output_type": "execute_result"
    },
    {
     "data": {
      "image/png": "[encoded data removed]",
      "text/plain": [
       "<Figure size 504x504 with 1 Axes>"
      ]
     },
     "metadata": {
      "needs_background": "light"
     },
     "output_type": "display_data"
    }
   ],
   "source": [
    "plt.figure(figsize=(7,7))\n",
    "bins = np.linspace(0, 10, 11)\n",
    "_ = plt.hist([\n",
    "                dy['NJet'], wj['NJet'], ww['NJet'], wz['NJet'], zz['NJet'], singletop['NJet'], qcd['NJet']\n",
    "             ],\n",
    "             histtype='stepfilled',\n",
    "             bins=bins,\n",
    "             weights=[\n",
    "                 dy['EventWeight'], wj['EventWeight'], ww['EventWeight'], wz['EventWeight'], zz['EventWeight'], singletop['EventWeight'], qcd['EventWeight']\n",
    "             ],\n",
    "             label=[ r'Drell Yan', r'$W$ + jets', r'$WW$', r'$WZ$', r'$ZZ$', r'single $t$', 'QCD'\n",
    "             ],\n",
    "             stacked=True,\n",
    "             color=colors)\n",
    "\n",
    "plt.hist(ttbar['NJet'],\n",
    "         histtype='step', bins=bins, weights=ttbar['EventWeight'], label=r'$t\\overline{t}$',\n",
    "         linewidth=2, color='black', linestyle='dashed')\n",
    "\n",
    "plt.yscale('log')\n",
    "plt.xlabel('Number of Jets')\n",
    "plt.legend()"
   ]
  },
  {
   "cell_type": "markdown",
   "metadata": {},
   "source": [
    "Plot 2D histogram of $t\\bar{t}$ MET_px and MET_py:"
   ]
  },
  {
   "cell_type": "code",
   "execution_count": 14,
   "metadata": {},
   "outputs": [
    {
     "data": {
      "image/png": "[encoded data removed]",
      "text/plain": [
       "<Figure size 360x360 with 2 Axes>"
      ]
     },
     "metadata": {
      "needs_background": "light"
     },
     "output_type": "display_data"
    }
   ],
   "source": [
    "from matplotlib.colors import LogNorm\n",
    "\n",
    "plt.figure(figsize=(5,5)) # square canvas\n",
    "_ = plt.hist2d(ttbar['MET_px'], ttbar['MET_py'], bins=40, cmap='binary', norm=LogNorm())\n",
    "\n",
    "# add decorations\n",
    "plt.xlabel(r'MET$_{p_x}$') # LaTeX!\n",
    "plt.ylabel(r'MET$_{p_y}$', fontsize=20)\n",
    "_ = plt.colorbar()"
   ]
  },
  {
   "cell_type": "markdown",
   "metadata": {},
   "source": [
    "## Turn Data into ML-Compatible Inputs"
   ]
  },
  {
   "cell_type": "markdown",
   "metadata": {},
   "source": [
    "#### What are ML-Compatible Inputs?"
   ]
  },
  {
   "cell_type": "markdown",
   "metadata": {},
   "source": [
    "In the simplest scenarios of tabular data, Keras, just like scikit-learn, takes as inputs the following objects:\n",
    " *  <h3>$X$</h3>\n",
    " an `ndarray` of dimensions `[nb_examples, nb_features]` containing the distributions to be used as inputs to the model. Each row is an object to classify, each column corresponds to a specific variable.\n",
    " *  <h3>$y$</h3>\n",
    " an `array` of dimensions `[nb_examples]` containing the truth labels indicating the class each object belongs to (for classification), or the continuous target values (for regression).\n",
    " *  <h3>$w$</h3> \n",
    " (optional) an `array` of dimensions `[nb_examples]` containing the weights to be assigned to each example\n",
    " \n",
    "The indices of these objects must map to the same examples. In general, you will want to shuffle and split them into a training and test set."
   ]
  },
  {
   "cell_type": "markdown",
   "metadata": {},
   "source": [
    "#### Forward Pass"
   ]
  },
  {
   "cell_type": "markdown",
   "metadata": {},
   "source": [
    "<img src=\"./images/forward_pass.jpg\">"
   ]
  },
  {
   "cell_type": "markdown",
   "metadata": {},
   "source": [
    "If we want to stack multiple dataframes into a single one, we can \"concatenate\" them. To simplify our classification problem, in this tutorial I will only focus on a three-class classification task, in which we aim to separate $t\\bar{t}$ events from two of the main background sources: Drell Yan and W+jets events."
   ]
  },
  {
   "cell_type": "code",
   "execution_count": 15,
   "metadata": {},
   "outputs": [],
   "source": [
    "del ww, wz, zz, singletop, qcd, data"
   ]
  },
  {
   "cell_type": "code",
   "execution_count": 16,
   "metadata": {},
   "outputs": [],
   "source": [
    "# -- this will only contain TTbar, Drell Yan and W+jets events (all branches)\n",
    "df_full = pd.concat((ttbar, dy, wj), ignore_index=True)  "
   ]
  },
  {
   "cell_type": "markdown",
   "metadata": {},
   "source": [
    "However, we decided we were only going to train on **event-level variables**, so this is would be a more useful `df`:"
   ]
  },
  {
   "cell_type": "code",
   "execution_count": 17,
   "metadata": {
    "scrolled": true
   },
   "outputs": [
    {
     "data": {
      "text/html": [
       "<div>\n",
       "<style scoped>\n",
       "    .dataframe tbody tr th:only-of-type {\n",
       "        vertical-align: middle;\n",
       "    }\n",
       "\n",
       "    .dataframe tbody tr th {\n",
       "        vertical-align: top;\n",
       "    }\n",
       "\n",
       "    .dataframe thead th {\n",
       "        text-align: right;\n",
       "    }\n",
       "</style>\n",
       "<table border=\"1\" class=\"dataframe\">\n",
       "  <thead>\n",
       "    <tr style=\"text-align: right;\">\n",
       "      <th></th>\n",
       "      <th>NJet</th>\n",
       "      <th>NMuon</th>\n",
       "      <th>NElectron</th>\n",
       "      <th>NPhoton</th>\n",
       "      <th>MET_px</th>\n",
       "      <th>MET_py</th>\n",
       "    </tr>\n",
       "  </thead>\n",
       "  <tbody>\n",
       "    <tr>\n",
       "      <th>0</th>\n",
       "      <td>3</td>\n",
       "      <td>1</td>\n",
       "      <td>0</td>\n",
       "      <td>0</td>\n",
       "      <td>20.238705</td>\n",
       "      <td>1.876128</td>\n",
       "    </tr>\n",
       "    <tr>\n",
       "      <th>1</th>\n",
       "      <td>5</td>\n",
       "      <td>1</td>\n",
       "      <td>0</td>\n",
       "      <td>0</td>\n",
       "      <td>-29.892015</td>\n",
       "      <td>16.498444</td>\n",
       "    </tr>\n",
       "    <tr>\n",
       "      <th>2</th>\n",
       "      <td>5</td>\n",
       "      <td>1</td>\n",
       "      <td>0</td>\n",
       "      <td>0</td>\n",
       "      <td>-24.056999</td>\n",
       "      <td>-46.160618</td>\n",
       "    </tr>\n",
       "    <tr>\n",
       "      <th>3</th>\n",
       "      <td>3</td>\n",
       "      <td>1</td>\n",
       "      <td>0</td>\n",
       "      <td>0</td>\n",
       "      <td>-30.039965</td>\n",
       "      <td>5.851555</td>\n",
       "    </tr>\n",
       "    <tr>\n",
       "      <th>4</th>\n",
       "      <td>3</td>\n",
       "      <td>1</td>\n",
       "      <td>0</td>\n",
       "      <td>0</td>\n",
       "      <td>4.518302</td>\n",
       "      <td>117.570068</td>\n",
       "    </tr>\n",
       "  </tbody>\n",
       "</table>\n",
       "</div>"
      ],
      "text/plain": [
       "   NJet  NMuon  NElectron  NPhoton     MET_px      MET_py\n",
       "0     3      1          0        0  20.238705    1.876128\n",
       "1     5      1          0        0 -29.892015   16.498444\n",
       "2     5      1          0        0 -24.056999  -46.160618\n",
       "3     3      1          0        0 -30.039965    5.851555\n",
       "4     3      1          0        0   4.518302  117.570068"
      ]
     },
     "execution_count": 17,
     "metadata": {},
     "output_type": "execute_result"
    }
   ],
   "source": [
    "# recall: npart was the list of branch names corresponding to event-level variables\n",
    "df =  pd.concat((ttbar[npart], dy[npart], wj[npart]), ignore_index=True)\n",
    "df.head()"
   ]
  },
  {
   "cell_type": "markdown",
   "metadata": {},
   "source": [
    "Now, turn your new `df` the desired ndarray $X$ that can be directly used for ML applications using this handy `pandas` function:"
   ]
  },
  {
   "cell_type": "code",
   "execution_count": 18,
   "metadata": {},
   "outputs": [],
   "source": [
    "X = df.values"
   ]
  },
  {
   "cell_type": "code",
   "execution_count": 19,
   "metadata": {},
   "outputs": [
    {
     "data": {
      "text/plain": [
       "numpy.ndarray"
      ]
     },
     "execution_count": 19,
     "metadata": {},
     "output_type": "execute_result"
    }
   ],
   "source": [
    "type(X)"
   ]
  },
  {
   "cell_type": "code",
   "execution_count": 20,
   "metadata": {},
   "outputs": [
    {
     "data": {
      "text/plain": [
       "(191981, 6)"
      ]
     },
     "execution_count": 20,
     "metadata": {},
     "output_type": "execute_result"
    }
   ],
   "source": [
    "X.shape"
   ]
  },
  {
   "cell_type": "markdown",
   "metadata": {},
   "source": [
    "The weight array $w$ can also easily be extracted using a similar procedure:"
   ]
  },
  {
   "cell_type": "code",
   "execution_count": 21,
   "metadata": {},
   "outputs": [],
   "source": [
    "w =  pd.concat((ttbar['EventWeight'], dy['EventWeight'], wj['EventWeight']), ignore_index=True).values"
   ]
  },
  {
   "cell_type": "code",
   "execution_count": 22,
   "metadata": {},
   "outputs": [
    {
     "data": {
      "text/plain": [
       "numpy.ndarray"
      ]
     },
     "execution_count": 22,
     "metadata": {},
     "output_type": "execute_result"
    }
   ],
   "source": [
    "type(w)"
   ]
  },
  {
   "cell_type": "markdown",
   "metadata": {},
   "source": [
    "Finally, generate an array of truth labels $y$ to distinguish among the different classes in the problem:"
   ]
  },
  {
   "cell_type": "code",
   "execution_count": 23,
   "metadata": {},
   "outputs": [],
   "source": [
    "y = []\n",
    "for _df, ID in [(ttbar, 0), (dy, 1), (wj, 2)]:\n",
    "    y.extend([ID] * _df.shape[0])\n",
    "y = np.array(y)"
   ]
  },
  {
   "cell_type": "code",
   "execution_count": 24,
   "metadata": {},
   "outputs": [
    {
     "data": {
      "text/plain": [
       "array([0, 0, 0, ..., 2, 2, 2])"
      ]
     },
     "execution_count": 24,
     "metadata": {},
     "output_type": "execute_result"
    }
   ],
   "source": [
    "# -- check what we created\n",
    "y"
   ]
  },
  {
   "cell_type": "markdown",
   "metadata": {},
   "source": [
    "#### Extra Pre-Processing Steps: Shuffling, Splitting into Train-Test, Scaling Inputs"
   ]
  },
  {
   "cell_type": "markdown",
   "metadata": {},
   "source": [
    "The `sklearn` function <a href='http://scikit-learn.org/stable/modules/generated/sklearn.model_selection.train_test_split.html#sklearn.model_selection.train_test_split'>`train_test_split`</a> will randomly shuffle and automatically split all your objects into train and test subsets."
   ]
  },
  {
   "cell_type": "code",
   "execution_count": 25,
   "metadata": {},
   "outputs": [],
   "source": [
    "ix = range(X.shape[0]) # array of indices, just to keep track of them for safety reasons and future checks\n",
    "X_train, X_test, y_train, y_test, w_train, w_test, ix_train, ix_test = train_test_split(X, y, w, ix, train_size=0.6)"
   ]
  },
  {
   "cell_type": "markdown",
   "metadata": {},
   "source": [
    "It is common practice to scale the inputs to Neural Nets such that they have approximately similar ranges. Without this step, you might end up with variables whose values span very different orders of magnitude. This will create problems in the NN convergence due to very wild fluctuations in the magnitude of the internal weights. To take care of the scaling, we use the `sklearn` `StandardScaler`:\n",
    "<a href='http://scikit-learn.org/stable/modules/generated/sklearn.preprocessing.StandardScaler.html'><img src='./images/standardscaler.jpg' style=\"width:800px\"></a>"
   ]
  },
  {
   "cell_type": "code",
   "execution_count": 26,
   "metadata": {},
   "outputs": [],
   "source": [
    "from sklearn.preprocessing import StandardScaler"
   ]
  },
  {
   "cell_type": "code",
   "execution_count": 27,
   "metadata": {},
   "outputs": [],
   "source": [
    "scaler = StandardScaler()\n",
    "X_train = scaler.fit_transform(X_train)\n",
    "X_test = scaler.transform(X_test)"
   ]
  },
  {
   "cell_type": "markdown",
   "metadata": {},
   "source": [
    "# Training a NN using Keras"
   ]
  },
  {
   "cell_type": "markdown",
   "metadata": {},
   "source": [
    "### Neural Netwroks"
   ]
  },
  {
   "cell_type": "markdown",
   "metadata": {},
   "source": [
    " *  Stack of tensor operators\n",
    " *  Series of linear and non-linear transformations with the goal of finding optimal parameters to transform inputs and approximate targets\n",
    " *  Deep nets > shallow nets"
   ]
  },
  {
   "cell_type": "markdown",
   "metadata": {},
   "source": [
    "## 1. Multilayer Perceptron (MLP)"
   ]
  },
  {
   "cell_type": "markdown",
   "metadata": {},
   "source": [
    "<h3>Dense</h3>\n",
    " * Densely connected layer, where all inputs are connected to all outputs\n",
    " *  Core layer of an MLP\n",
    " *  Linear transformation of the input vector $x \\in \\mathbb{R}^n$, which can be expressed using the $n \\times m$ matrix $W \\in \\mathbb{R}^{n \\times m}$ as:\n",
    "<center> $u = Wx + b$ </center>\n",
    "where $b \\in \\mathbb{R}^m$ is the bias unit\n",
    "\n",
    " *  All entries in both $W$ and $b$ are trainable\n",
    " *  In Keras:\n",
    " ```\n",
    "keras.layers.Dense(\n",
    "                    units,\n",
    "                    activation=None,\n",
    "                    use_bias=True,\n",
    "                    kernel_initializer='glorot_uniform',\n",
    "                    bias_initializer='zeros', kernel_regularizer=None,\n",
    "                    bias_regularizer=None,\n",
    "                    activity_regularizer=None,\n",
    "                    kernel_constraint=None,\n",
    "                    bias_constraint=None\n",
    ")\n",
    "```\n",
    "\n",
    " *  `input_dim` (or `input_shape`) are necessary arguments for the 1st layer of the net:\n",
    "\n",
    "```python\n",
    "# as first layer in a sequential model:\n",
    "model = Sequential()\n",
    "model.add(Dense(32, input_shape=(16,)))\n",
    "# now the model will take as input arrays of shape (*, 16)\n",
    "# and output arrays of shape (*, 32)\n",
    "\n",
    "# after the first layer, you don't need to specify\n",
    "# the size of the input anymore:\n",
    "model.add(Dense(32))\n",
    " ```\n",
    "\n"
   ]
  },
  {
   "cell_type": "markdown",
   "metadata": {},
   "source": [
    "<h3>Activation Functions</h3>\n",
    " *  Mathematical way of quantifying the activation state of a node $\\rightarrow$ whether it's firing or not\n",
    " *  Non-linear activation functions are the key to Deep Learning\n",
    " *  Allow NNs to learn complex, non-linear transformations of the inputs\n",
    " *  Some popular choices:\n",
    " <img src='./images/activations_table.jpg' style='width:700px'>\n",
    " <img src='./images/activation.jpg' style='width:800px'>\n",
    " Available activations: **softmax**, **elu**, **selu**, **softplus**, **softsign**, **relu**, **tanh**, **sigmoid**, **hard_sigmoid**, **linear**.\n",
    " Activations that are more complex than a simple TensorFlow/Theano/CNTK function (eg. learnable activations, which maintain a state) are available as *Advanced Activation* layers, and can be found in the module  `keras.layers.advanced_activations`. These include `PReLU` and `LeakyReLU`."
   ]
  },
  {
   "cell_type": "markdown",
   "metadata": {},
   "source": [
    "<h3>Regularization</h3>\n",
    " *  Series of methods to avoid overfitting\n",
    " *  Mathematical encouragement towards simpler models\n",
    " *  Explicitly penalize weights that get too large\n",
    " *  Two main categories: \n",
    " <img src='./images/regtypes.jpg' style='width:700px'>\n",
    " *  In Keras, Dropout is added in as a layer. It masks the outputs of the previous layer such that some of them will randomly become inactive and will not contribute to information propagation:\n",
    "```python\n",
    "keras.layers.Dropout(rate, noise_shape=None, seed=None)\n",
    "```\n"
   ]
  },
  {
   "cell_type": "markdown",
   "metadata": {},
   "source": [
    "## Build a simple Keras classifier"
   ]
  },
  {
   "cell_type": "code",
   "execution_count": 39,
   "metadata": {},
   "outputs": [],
   "source": [
    "from keras.models import Model\n",
    "from keras.layers import Dense, Dropout, Input"
   ]
  },
  {
   "cell_type": "code",
   "execution_count": 40,
   "metadata": {},
   "outputs": [],
   "source": [
    "inputs = Input(shape=(X_train.shape[1], )) # placeholder\n",
    "\n",
    "hidden = Dense(10, activation='relu')(inputs)\n",
    "hidden = Dropout(0.2)(hidden)\n",
    "hidden = Dense(20, activation='relu')(hidden)\n",
    "hidden = Dropout(0.2)(hidden)\n",
    "hidden = Dense(30, activation='relu')(hidden)\n",
    "hidden = Dropout(0.2)(hidden)\n",
    "outputs = Dense(3, activation='softmax')(hidden)\n",
    "# last layer has to have the same dimensionality as the number of classes we want to predict, here 3\n",
    "\n",
    "model = Model(inputs, outputs)"
   ]
  },
  {
   "cell_type": "code",
   "execution_count": 41,
   "metadata": {},
   "outputs": [
    {
     "name": "stdout",
     "output_type": "stream",
     "text": [
      "Model: \"model\"\n",
      "_________________________________________________________________\n",
      "Layer (type)                 Output Shape              Param #   \n",
      "=================================================================\n",
      "input_1 (InputLayer)         [(None, 6)]               0         \n",
      "_________________________________________________________________\n",
      "dense (Dense)                (None, 10)                70        \n",
      "_________________________________________________________________\n",
      "dropout (Dropout)            (None, 10)                0         \n",
      "_________________________________________________________________\n",
      "dense_1 (Dense)              (None, 20)                220       \n",
      "_________________________________________________________________\n",
      "dropout_1 (Dropout)          (None, 20)                0         \n",
      "_________________________________________________________________\n",
      "dense_2 (Dense)              (None, 30)                630       \n",
      "_________________________________________________________________\n",
      "dropout_2 (Dropout)          (None, 30)                0         \n",
      "_________________________________________________________________\n",
      "dense_3 (Dense)              (None, 3)                 93        \n",
      "=================================================================\n",
      "Total params: 1,013\n",
      "Trainable params: 1,013\n",
      "Non-trainable params: 0\n",
      "_________________________________________________________________\n"
     ]
    }
   ],
   "source": [
    "model.summary()"
   ]
  },
  {
   "cell_type": "markdown",
   "metadata": {},
   "source": [
    "### Objective / Loss / Cost\n",
    "* Mathematical way of quantifying how much ŷ deviates from y\n",
    "* Dictates how strongly we penalize certain types of mistakes\n",
    "* Cost of inaccurately classifying an event (“cost function”)"
   ]
  },
  {
   "cell_type": "markdown",
   "metadata": {},
   "source": [
    "<img src=\"./images/loss.jpg\">"
   ]
  },
  {
   "cell_type": "markdown",
   "metadata": {},
   "source": [
    "<img src=\"./images/training.jpg\">"
   ]
  },
  {
   "cell_type": "markdown",
   "metadata": {},
   "source": [
    "#### Optimizers\n",
    "<img src=\"./images/optimizers.jpg\">"
   ]
  },
  {
   "cell_type": "markdown",
   "metadata": {},
   "source": [
    "(animations from A. Radford)"
   ]
  },
  {
   "cell_type": "markdown",
   "metadata": {},
   "source": [
    "<img src=\"http://2.bp.blogspot.com/-q6l20Vs4P_w/VPmIC7sEhnI/AAAAAAAACC4/g3UOUX2r_yA/s1600/s25RsOr%2B-%2BImgur.gif\">\n",
    "<img src=\"http://2.bp.blogspot.com/-L98w-SBmF58/VPmICIjKEKI/AAAAAAAACCs/rrFz3VetYmM/s1600/Beale%26amp%3B%23039%3Bs%2Bfunction%2B-%2BImgur.gif\">\n",
    "<img src=\"http://3.bp.blogspot.com/-nrtJPrdBWuE/VPmIB46F2aI/AAAAAAAACCw/vaE_B0SVy5k/s1600/Long%2BValley%2B-%2BImgur.gif\">\n",
    "<img src=\"http://1.bp.blogspot.com/-K_X-yud8nj8/VPmIBxwGlsI/AAAAAAAACC0/JS-h1fa09EQ/s1600/Saddle%2BPoint%2B-%2BImgur.gif\">"
   ]
  },
  {
   "cell_type": "markdown",
   "metadata": {},
   "source": [
    "Now you need to declare what loss function and optimizer to use. We pass these as arguments to `compile`:"
   ]
  },
  {
   "cell_type": "code",
   "execution_count": 42,
   "metadata": {},
   "outputs": [],
   "source": [
    "model.compile('adam', 'sparse_categorical_crossentropy') "
   ]
  },
  {
   "cell_type": "markdown",
   "metadata": {},
   "source": [
    "---"
   ]
  },
  {
   "cell_type": "markdown",
   "metadata": {},
   "source": [
    "### Training"
   ]
  },
  {
   "cell_type": "code",
   "execution_count": 43,
   "metadata": {},
   "outputs": [],
   "source": [
    "from keras.callbacks import EarlyStopping, ModelCheckpoint"
   ]
  },
  {
   "cell_type": "code",
   "execution_count": 44,
   "metadata": {},
   "outputs": [
    {
     "data": {
      "text/plain": [
       "Counter({2: 43747, 0: 1831, 1: 31215})"
      ]
     },
     "execution_count": 44,
     "metadata": {},
     "output_type": "execute_result"
    }
   ],
   "source": [
    "from collections import Counter\n",
    "Counter(y_test)\n",
    "# uneven classes"
   ]
  },
  {
   "cell_type": "code",
   "execution_count": 45,
   "metadata": {},
   "outputs": [
    {
     "name": "stdout",
     "output_type": "stream",
     "text": [
      "Epoch 1/20\n",
      "2880/2880 [==============================] - 4s 1ms/step - loss: 0.6538 - val_loss: 0.4618\n",
      "\n",
      "Epoch 00001: val_loss improved from inf to 0.46176, saving model to ./models/tutorial-progress.h5\n",
      "Epoch 2/20\n",
      "2880/2880 [==============================] - 3s 1ms/step - loss: 0.4745 - val_loss: 0.4395\n",
      "\n",
      "Epoch 00002: val_loss improved from 0.46176 to 0.43945, saving model to ./models/tutorial-progress.h5\n",
      "Epoch 3/20\n",
      "2880/2880 [==============================] - 3s 1ms/step - loss: 0.4733 - val_loss: 0.4460\n",
      "\n",
      "Epoch 00003: val_loss did not improve from 0.43945\n",
      "Epoch 4/20\n",
      "2880/2880 [==============================] - 3s 914us/step - loss: 0.4573 - val_loss: 0.4284\n",
      "\n",
      "Epoch 00004: val_loss improved from 0.43945 to 0.42843, saving model to ./models/tutorial-progress.h5\n",
      "Epoch 5/20\n",
      "2880/2880 [==============================] - 3s 888us/step - loss: 0.4548 - val_loss: 0.4371\n",
      "\n",
      "Epoch 00005: val_loss did not improve from 0.42843\n",
      "Epoch 6/20\n",
      "2880/2880 [==============================] - 3s 889us/step - loss: 0.4493 - val_loss: 0.4318\n",
      "\n",
      "Epoch 00006: val_loss did not improve from 0.42843\n",
      "Epoch 7/20\n",
      "2880/2880 [==============================] - 3s 940us/step - loss: 0.4464 - val_loss: 0.4281\n",
      "\n",
      "Epoch 00007: val_loss improved from 0.42843 to 0.42812, saving model to ./models/tutorial-progress.h5\n",
      "Epoch 8/20\n",
      "2880/2880 [==============================] - 3s 1ms/step - loss: 0.4402 - val_loss: 0.4291\n",
      "\n",
      "Epoch 00008: val_loss did not improve from 0.42812\n",
      "Epoch 9/20\n",
      "2880/2880 [==============================] - 3s 1ms/step - loss: 0.4376 - val_loss: 0.4303\n",
      "\n",
      "Epoch 00009: val_loss did not improve from 0.42812\n",
      "Epoch 10/20\n",
      "2880/2880 [==============================] - 6s 2ms/step - loss: 0.4368 - val_loss: 0.4326\n",
      "\n",
      "Epoch 00010: val_loss did not improve from 0.42812\n",
      "Epoch 11/20\n",
      "2880/2880 [==============================] - 4s 1ms/step - loss: 0.4396 - val_loss: 0.4328\n",
      "\n",
      "Epoch 00011: val_loss did not improve from 0.42812\n",
      "Epoch 12/20\n",
      "2880/2880 [==============================] - 4s 1ms/step - loss: 0.4371 - val_loss: 0.4304\n",
      "\n",
      "Epoch 00012: val_loss did not improve from 0.42812\n",
      "Epoch 13/20\n",
      "2880/2880 [==============================] - 3s 999us/step - loss: 0.4396 - val_loss: 0.4237\n",
      "\n",
      "Epoch 00013: val_loss improved from 0.42812 to 0.42366, saving model to ./models/tutorial-progress.h5\n",
      "Epoch 14/20\n",
      "2880/2880 [==============================] - 3s 1ms/step - loss: 0.4348 - val_loss: 0.4238\n",
      "\n",
      "Epoch 00014: val_loss did not improve from 0.42366\n",
      "Epoch 15/20\n",
      "2880/2880 [==============================] - 3s 1ms/step - loss: 0.4407 - val_loss: 0.4290\n",
      "\n",
      "Epoch 00015: val_loss did not improve from 0.42366\n",
      "Epoch 16/20\n",
      "2880/2880 [==============================] - 3s 984us/step - loss: 0.4390 - val_loss: 0.4211\n",
      "\n",
      "Epoch 00016: val_loss improved from 0.42366 to 0.42107, saving model to ./models/tutorial-progress.h5\n",
      "Epoch 17/20\n",
      "2880/2880 [==============================] - 3s 1ms/step - loss: 0.4370 - val_loss: 0.4229\n",
      "\n",
      "Epoch 00017: val_loss did not improve from 0.42107\n",
      "Epoch 18/20\n",
      "2880/2880 [==============================] - 3s 996us/step - loss: 0.4289 - val_loss: 0.4283\n",
      "\n",
      "Epoch 00018: val_loss did not improve from 0.42107\n",
      "Epoch 19/20\n",
      "2880/2880 [==============================] - 4s 1ms/step - loss: 0.4423 - val_loss: 0.4370\n",
      "\n",
      "Epoch 00019: val_loss did not improve from 0.42107\n",
      "Epoch 20/20\n",
      "2880/2880 [==============================] - 3s 947us/step - loss: 0.4322 - val_loss: 0.4331\n",
      "\n",
      "Epoch 00020: val_loss did not improve from 0.42107\n"
     ]
    }
   ],
   "source": [
    "try:\n",
    "    model.fit(\n",
    "        X_train, y_train, class_weight={ # rebalance class representation\n",
    "            0 : 0.20 * (float(len(y)) / (y == 0).sum()),\n",
    "            1 : 0.40 * (float(len(y)) / (y == 1).sum()),\n",
    "            2 : 0.40 * (float(len(y)) / (y == 2).sum())\n",
    "        },\n",
    "        callbacks = [\n",
    "            EarlyStopping(verbose=True, patience=10, monitor='val_loss'),\n",
    "            ModelCheckpoint('./models/tutorial-progress.h5', monitor='val_loss', verbose=True, save_best_only=True)\n",
    "        ],\n",
    "        epochs=20, \n",
    "        validation_split = 0.2,\n",
    "        verbose=True\n",
    ") \n",
    "except KeyboardInterrupt:\n",
    "    print('Training ended early.')"
   ]
  },
  {
   "cell_type": "code",
   "execution_count": 46,
   "metadata": {},
   "outputs": [
    {
     "data": {
      "text/plain": [
       "2962"
      ]
     },
     "execution_count": 46,
     "metadata": {},
     "output_type": "execute_result"
    }
   ],
   "source": [
    "# -- load in best network\n",
    "model.load_weights('./models/tutorial-progress.h5')\n",
    "\n",
    "# -- Save network weights and structure\n",
    "model.save_weights('./models/tutorial.h5', overwrite=True)\n",
    "json_string = model.to_json()\n",
    "open('./models/tutorial.json', 'w').write(json_string)\n"
   ]
  },
  {
   "cell_type": "markdown",
   "metadata": {},
   "source": [
    "---"
   ]
  },
  {
   "cell_type": "markdown",
   "metadata": {},
   "source": [
    "### Testing"
   ]
  },
  {
   "cell_type": "code",
   "execution_count": 47,
   "metadata": {},
   "outputs": [
    {
     "name": "stdout",
     "output_type": "stream",
     "text": [
      "150/150 [==============================] - 0s 629us/step\n"
     ]
    }
   ],
   "source": [
    "yhat = model.predict(X_test, verbose = True, batch_size = 512) "
   ]
  },
  {
   "cell_type": "code",
   "execution_count": 48,
   "metadata": {},
   "outputs": [
    {
     "data": {
      "text/plain": [
       "array([[8.0028211e-04, 1.8565610e-01, 8.1354362e-01],\n",
       "       [4.4714106e-04, 2.0473741e-01, 7.9481548e-01],\n",
       "       [5.0084468e-02, 2.9049212e-01, 6.5942341e-01],\n",
       "       ...,\n",
       "       [3.5783995e-02, 6.8558097e-01, 2.7863503e-01],\n",
       "       [4.0995755e-04, 2.0518103e-01, 7.9440904e-01],\n",
       "       [6.3831510e-05, 9.9993622e-01, 3.2686901e-13]], dtype=float32)"
      ]
     },
     "execution_count": 48,
     "metadata": {},
     "output_type": "execute_result"
    }
   ],
   "source": [
    "# predictions\n",
    "yhat"
   ]
  },
  {
   "cell_type": "code",
   "execution_count": 49,
   "metadata": {},
   "outputs": [],
   "source": [
    "# -- turn them into classes\n",
    "yhat_cls = np.argmax(yhat, axis=1)"
   ]
  },
  {
   "cell_type": "markdown",
   "metadata": {},
   "source": [
    "Visualize performance with confusion matrix:"
   ]
  },
  {
   "cell_type": "code",
   "execution_count": 50,
   "metadata": {},
   "outputs": [],
   "source": [
    "import itertools\n",
    "from sklearn.metrics import confusion_matrix\n",
    "\n",
    "def plot_confusion_matrix(cm, classes,\n",
    "                          normalize=False,\n",
    "                          title='Confusion matrix',\n",
    "                          cmap=plt.cm.Blues):\n",
    "    \"\"\"\n",
    "    This function prints and plots the confusion matrix.\n",
    "    Normalization can be applied by setting `normalize=True`.\n",
    "    \"\"\"\n",
    "    if normalize:\n",
    "        cm = cm.astype('float') / cm.sum(axis=1)[:, np.newaxis]\n",
    "        print(\"Normalized confusion matrix\")\n",
    "    else:\n",
    "        print('Confusion matrix, without normalization')\n",
    "\n",
    "    print(cm)\n",
    "\n",
    "    plt.imshow(cm, interpolation='nearest', cmap=cmap)\n",
    "    plt.title(title)\n",
    "    plt.colorbar()\n",
    "    tick_marks = np.arange(len(classes))\n",
    "    plt.xticks(tick_marks, classes, rotation=45)\n",
    "    plt.yticks(tick_marks, classes)\n",
    "\n",
    "    fmt = '.2f' if normalize else 'd'\n",
    "    thresh = cm.max() / 2.\n",
    "    for i, j in itertools.product(range(cm.shape[0]), range(cm.shape[1])):\n",
    "        plt.text(j, i, format(cm[i, j], fmt),\n",
    "                 horizontalalignment=\"center\",\n",
    "                 color=\"white\" if cm[i, j] > thresh else \"black\")\n",
    "\n",
    "    plt.tight_layout()\n",
    "    plt.ylabel('True label')\n",
    "    plt.xlabel('Predicted label')"
   ]
  },
  {
   "cell_type": "code",
   "execution_count": 51,
   "metadata": {},
   "outputs": [],
   "source": [
    "# Compute confusion matrix\n",
    "cnf_matrix = confusion_matrix(y_test, yhat_cls, sample_weight=w_test)\n",
    "np.set_printoptions(precision=2)"
   ]
  },
  {
   "cell_type": "code",
   "execution_count": 52,
   "metadata": {},
   "outputs": [
    {
     "name": "stdout",
     "output_type": "stream",
     "text": [
      "Normalized confusion matrix\n",
      "[[0.92 0.05 0.03]\n",
      " [0.03 0.68 0.3 ]\n",
      " [0.03 0.05 0.92]]\n"
     ]
    },
    {
     "data": {
      "image/png": "[encoded data removed]",
      "text/plain": [
       "<Figure size 432x288 with 2 Axes>"
      ]
     },
     "metadata": {
      "needs_background": "light"
     },
     "output_type": "display_data"
    }
   ],
   "source": [
    "plot_confusion_matrix(cnf_matrix, classes=[r'$t\\overline{t}$', 'Drell Yan', r'$W$ + jets'],\n",
    "                      normalize=True,\n",
    "                      title='Normalized confusion matrix')"
   ]
  },
  {
   "cell_type": "code",
   "execution_count": 53,
   "metadata": {},
   "outputs": [
    {
     "name": "stdout",
     "output_type": "stream",
     "text": [
      "Signal efficiency: 0.91704345\n",
      "Background efficiency: 0.02692793\n",
      "Background rej: 37.13616395083235\n"
     ]
    }
   ],
   "source": [
    "# signal eff = weighted tpr --> out of all signal events, what % for we classify as signal?\n",
    "print('Signal efficiency:', w_test[(y_test == 0) & (yhat_cls == 0)].sum() / w_test[y_test == 0].sum())\n",
    "\n",
    "# bkg eff = weighted fpr --> out of all bkg events, what % do we classify as signal?\n",
    "b_eff = w_test[(y_test != 0) & (yhat_cls == 0)].sum() / w_test[y_test != 0].sum()\n",
    "print('Background efficiency:', b_eff)\n",
    "print('Background rej:', 1 / b_eff)"
   ]
  },
  {
   "cell_type": "markdown",
   "metadata": {},
   "source": [
    "If you want to, you could further analyze the results by, for example, looking at all events that were assigned to class 0 ($t\\bar{t}$) and learn more about their physical characteristics. This could provide insight into what the network is focusing in its decision-making process."
   ]
  },
  {
   "cell_type": "code",
   "execution_count": 54,
   "metadata": {},
   "outputs": [],
   "source": [
    "# -- events that got assigned to class 0\n",
    "predicted_ttbar = df_full.iloc[np.array(ix_test)[yhat_cls == 0]]"
   ]
  },
  {
   "cell_type": "code",
   "execution_count": 55,
   "metadata": {},
   "outputs": [
    {
     "name": "stderr",
     "output_type": "stream",
     "text": [
      "/usr/local/lib/python3.7/site-packages/ipykernel_launcher.py:1: SettingWithCopyWarning: \n",
      "A value is trying to be set on a copy of a slice from a DataFrame.\n",
      "Try using .loc[row_indexer,col_indexer] = value instead\n",
      "\n",
      "See the caveats in the documentation: https://pandas.pydata.org/pandas-docs/stable/user_guide/indexing.html#returning-a-view-versus-a-copy\n",
      "  \"\"\"Entry point for launching an IPython kernel.\n"
     ]
    }
   ],
   "source": [
    "predicted_ttbar['true flavor'] = y_test[yhat_cls == 0]"
   ]
  },
  {
   "cell_type": "code",
   "execution_count": 56,
   "metadata": {},
   "outputs": [
    {
     "data": {
      "text/html": [
       "<div>\n",
       "<style scoped>\n",
       "    .dataframe tbody tr th:only-of-type {\n",
       "        vertical-align: middle;\n",
       "    }\n",
       "\n",
       "    .dataframe tbody tr th {\n",
       "        vertical-align: top;\n",
       "    }\n",
       "\n",
       "    .dataframe thead th {\n",
       "        text-align: right;\n",
       "    }\n",
       "</style>\n",
       "<table border=\"1\" class=\"dataframe\">\n",
       "  <thead>\n",
       "    <tr style=\"text-align: right;\">\n",
       "      <th></th>\n",
       "      <th>NJet</th>\n",
       "      <th>NMuon</th>\n",
       "      <th>NElectron</th>\n",
       "      <th>NPhoton</th>\n",
       "      <th>NPrimaryVertices</th>\n",
       "      <th>Muon_Px</th>\n",
       "      <th>Muon_Py</th>\n",
       "      <th>Muon_Pz</th>\n",
       "      <th>Muon_E</th>\n",
       "      <th>Muon_Charge</th>\n",
       "      <th>...</th>\n",
       "      <th>Photon_Px</th>\n",
       "      <th>Photon_Py</th>\n",
       "      <th>Photon_Pz</th>\n",
       "      <th>Photon_E</th>\n",
       "      <th>Photon_Iso</th>\n",
       "      <th>MET_px</th>\n",
       "      <th>MET_py</th>\n",
       "      <th>triggerIsoMu24</th>\n",
       "      <th>EventWeight</th>\n",
       "      <th>true flavor</th>\n",
       "    </tr>\n",
       "  </thead>\n",
       "  <tbody>\n",
       "    <tr>\n",
       "      <th>2458</th>\n",
       "      <td>3</td>\n",
       "      <td>1</td>\n",
       "      <td>0</td>\n",
       "      <td>0</td>\n",
       "      <td>7</td>\n",
       "      <td>[2.9467454]</td>\n",
       "      <td>[26.532997]</td>\n",
       "      <td>[-22.71411]</td>\n",
       "      <td>[35.05175]</td>\n",
       "      <td>[1]</td>\n",
       "      <td>...</td>\n",
       "      <td>[]</td>\n",
       "      <td>[]</td>\n",
       "      <td>[]</td>\n",
       "      <td>[]</td>\n",
       "      <td>[]</td>\n",
       "      <td>53.580860</td>\n",
       "      <td>-24.749781</td>\n",
       "      <td>True</td>\n",
       "      <td>0.293529</td>\n",
       "      <td>0</td>\n",
       "    </tr>\n",
       "    <tr>\n",
       "      <th>51353</th>\n",
       "      <td>2</td>\n",
       "      <td>1</td>\n",
       "      <td>0</td>\n",
       "      <td>1</td>\n",
       "      <td>7</td>\n",
       "      <td>[49.05926]</td>\n",
       "      <td>[-8.522658]</td>\n",
       "      <td>[-85.196144]</td>\n",
       "      <td>[98.6805]</td>\n",
       "      <td>[-1]</td>\n",
       "      <td>...</td>\n",
       "      <td>[-27.35253]</td>\n",
       "      <td>[30.100786]</td>\n",
       "      <td>[-26.555328]</td>\n",
       "      <td>[48.573692]</td>\n",
       "      <td>[4.188563]</td>\n",
       "      <td>-6.298021</td>\n",
       "      <td>-10.225423</td>\n",
       "      <td>True</td>\n",
       "      <td>0.527945</td>\n",
       "      <td>1</td>\n",
       "    </tr>\n",
       "    <tr>\n",
       "      <th>187763</th>\n",
       "      <td>2</td>\n",
       "      <td>1</td>\n",
       "      <td>0</td>\n",
       "      <td>0</td>\n",
       "      <td>5</td>\n",
       "      <td>[31.270836]</td>\n",
       "      <td>[-6.1191587]</td>\n",
       "      <td>[-94.78073]</td>\n",
       "      <td>[99.99354]</td>\n",
       "      <td>[1]</td>\n",
       "      <td>...</td>\n",
       "      <td>[]</td>\n",
       "      <td>[]</td>\n",
       "      <td>[]</td>\n",
       "      <td>[]</td>\n",
       "      <td>[]</td>\n",
       "      <td>-16.576612</td>\n",
       "      <td>-51.806412</td>\n",
       "      <td>True</td>\n",
       "      <td>2.369150</td>\n",
       "      <td>2</td>\n",
       "    </tr>\n",
       "    <tr>\n",
       "      <th>101239</th>\n",
       "      <td>3</td>\n",
       "      <td>1</td>\n",
       "      <td>0</td>\n",
       "      <td>0</td>\n",
       "      <td>6</td>\n",
       "      <td>[-16.854658]</td>\n",
       "      <td>[24.721292]</td>\n",
       "      <td>[-31.203857]</td>\n",
       "      <td>[43.230934]</td>\n",
       "      <td>[-1]</td>\n",
       "      <td>...</td>\n",
       "      <td>[]</td>\n",
       "      <td>[]</td>\n",
       "      <td>[]</td>\n",
       "      <td>[]</td>\n",
       "      <td>[]</td>\n",
       "      <td>26.942225</td>\n",
       "      <td>-28.360643</td>\n",
       "      <td>True</td>\n",
       "      <td>2.470747</td>\n",
       "      <td>2</td>\n",
       "    </tr>\n",
       "    <tr>\n",
       "      <th>15258</th>\n",
       "      <td>4</td>\n",
       "      <td>0</td>\n",
       "      <td>0</td>\n",
       "      <td>0</td>\n",
       "      <td>4</td>\n",
       "      <td>[]</td>\n",
       "      <td>[]</td>\n",
       "      <td>[]</td>\n",
       "      <td>[]</td>\n",
       "      <td>[]</td>\n",
       "      <td>...</td>\n",
       "      <td>[]</td>\n",
       "      <td>[]</td>\n",
       "      <td>[]</td>\n",
       "      <td>[]</td>\n",
       "      <td>[]</td>\n",
       "      <td>-0.185967</td>\n",
       "      <td>-5.013264</td>\n",
       "      <td>True</td>\n",
       "      <td>0.512537</td>\n",
       "      <td>1</td>\n",
       "    </tr>\n",
       "  </tbody>\n",
       "</table>\n",
       "<p>5 rows × 33 columns</p>\n",
       "</div>"
      ],
      "text/plain": [
       "        NJet  NMuon  NElectron  NPhoton  NPrimaryVertices       Muon_Px  \\\n",
       "2458       3      1          0        0                 7   [2.9467454]   \n",
       "51353      2      1          0        1                 7    [49.05926]   \n",
       "187763     2      1          0        0                 5   [31.270836]   \n",
       "101239     3      1          0        0                 6  [-16.854658]   \n",
       "15258      4      0          0        0                 4            []   \n",
       "\n",
       "             Muon_Py       Muon_Pz       Muon_E Muon_Charge  ...    Photon_Px  \\\n",
       "2458     [26.532997]   [-22.71411]   [35.05175]         [1]  ...           []   \n",
       "51353    [-8.522658]  [-85.196144]    [98.6805]        [-1]  ...  [-27.35253]   \n",
       "187763  [-6.1191587]   [-94.78073]   [99.99354]         [1]  ...           []   \n",
       "101239   [24.721292]  [-31.203857]  [43.230934]        [-1]  ...           []   \n",
       "15258             []            []           []          []  ...           []   \n",
       "\n",
       "          Photon_Py     Photon_Pz     Photon_E  Photon_Iso     MET_px  \\\n",
       "2458             []            []           []          []  53.580860   \n",
       "51353   [30.100786]  [-26.555328]  [48.573692]  [4.188563]  -6.298021   \n",
       "187763           []            []           []          [] -16.576612   \n",
       "101239           []            []           []          []  26.942225   \n",
       "15258            []            []           []          []  -0.185967   \n",
       "\n",
       "           MET_py triggerIsoMu24 EventWeight true flavor  \n",
       "2458   -24.749781           True    0.293529           0  \n",
       "51353  -10.225423           True    0.527945           1  \n",
       "187763 -51.806412           True    2.369150           2  \n",
       "101239 -28.360643           True    2.470747           2  \n",
       "15258   -5.013264           True    0.512537           1  \n",
       "\n",
       "[5 rows x 33 columns]"
      ]
     },
     "execution_count": 56,
     "metadata": {},
     "output_type": "execute_result"
    }
   ],
   "source": [
    "predicted_ttbar.head()"
   ]
  },
  {
   "cell_type": "markdown",
   "metadata": {},
   "source": [
    "In a 3-class classifier, the outputs lie on a 2D triangle with vertices at (1,0,0), (0,1,0), (0,0,1)."
   ]
  },
  {
   "cell_type": "code",
   "execution_count": 57,
   "metadata": {},
   "outputs": [
    {
     "data": {
      "image/png": "[encoded data removed]",
      "text/plain": [
       "<Figure size 504x504 with 1 Axes>"
      ]
     },
     "metadata": {
      "needs_background": "light"
     },
     "output_type": "display_data"
    }
   ],
   "source": [
    "from mpl_toolkits.mplot3d import Axes3D\n",
    "\n",
    "fig = plt.figure(figsize=(7,7))\n",
    "ax = fig.add_subplot(111, projection='3d')\n",
    "for label, color, marker in [(0, 'r', '^'), (1, 'b', 'o'), (2, 'yellow', 'x')]:\n",
    "    ax.scatter(yhat[y_test == label, 0], yhat[y_test == label, 1], yhat[y_test == label, 2], c=color, marker=marker, alpha=0.01)\n",
    "\n",
    "ax.set_xlabel(r'$P(t\\bar{t})$')\n",
    "ax.set_ylabel('P(Drell Yan)')\n",
    "ax.set_zlabel('P(W + jets)')\n",
    "ax.view_init(30, 30)\n",
    "plt.show()"
   ]
  },
  {
   "cell_type": "markdown",
   "metadata": {},
   "source": [
    "To do some model introspection, add intermediate hidden layers to the outputs: "
   ]
  },
  {
   "cell_type": "code",
   "execution_count": 58,
   "metadata": {},
   "outputs": [],
   "source": [
    "# model = Model(inputs, [outputs, hidden])\n",
    "# model.compile('adam', 'sparse_categorical_crossentropy') \n",
    "# model.load_weights('./models/tutorial-progress.h5')\n",
    "# _, last_layer = model.predict(X_test, verbose = True, batch_size = 512)"
   ]
  },
  {
   "cell_type": "markdown",
   "metadata": {
    "collapsed": true
   },
   "source": [
    "## 2. Recurrent Neural Networks"
   ]
  },
  {
   "cell_type": "markdown",
   "metadata": {},
   "source": [
    "Let's look at a fancier way of solving the same classification problem. In this case we will use Recurrent Neural Netwroks. These allow you to process variable length sequences of data. For example, we can use them to describe an event in terms of the properties of its jets, whose number varies event by event. We could also describe the same event using the properties of its muons, or any other particle that appears in it. Because the number of particles of each type changes in each event, we need the flexibility of RNNs to process this type of data.\n",
    "<img src='./images/RNNdetail.png'>"
   ]
  },
  {
   "cell_type": "markdown",
   "metadata": {},
   "source": [
    "We will build an event-level classifier with 4 recurrent branches for the 4 different types of particles in the event."
   ]
  },
  {
   "cell_type": "code",
   "execution_count": 59,
   "metadata": {},
   "outputs": [
    {
     "name": "stdout",
     "output_type": "stream",
     "text": [
      "['Jet_Px', 'Jet_Py', 'Jet_Pz', 'Jet_E', 'Jet_btag', 'Jet_ID']\n",
      "['Muon_Px', 'Muon_Py', 'Muon_Pz', 'Muon_E', 'Muon_Charge', 'Muon_Iso']\n",
      "['Photon_Px', 'Photon_Py', 'Photon_Pz', 'Photon_E', 'Photon_Iso']\n",
      "['Electron_Px', 'Electron_Py', 'Electron_Pz', 'Electron_E', 'Electron_Charge', 'Electron_Iso']\n"
     ]
    }
   ],
   "source": [
    "jetvars = [key for key in df_full.keys() if key.startswith('Jet')]\n",
    "print(jetvars)\n",
    "\n",
    "muonvars = [key for key in df_full.keys() if key.startswith('Muon')]\n",
    "print(muonvars)\n",
    "\n",
    "photonvars = [key for key in df_full.keys() if key.startswith('Photon')]\n",
    "print(photonvars)\n",
    "\n",
    "electronvars = [key for key in df_full.keys() if key.startswith('Electron')]\n",
    "print(electronvars)"
   ]
  },
  {
   "cell_type": "code",
   "execution_count": 60,
   "metadata": {},
   "outputs": [],
   "source": [
    "df_jets = df_full[jetvars].copy()\n",
    "df_electrons = df_full[electronvars].copy()\n",
    "df_muons = df_full[muonvars].copy()\n",
    "df_photons = df_full[photonvars].copy()"
   ]
  },
  {
   "cell_type": "code",
   "execution_count": 61,
   "metadata": {},
   "outputs": [
    {
     "data": {
      "text/plain": [
       "2"
      ]
     },
     "execution_count": 61,
     "metadata": {},
     "output_type": "execute_result"
    }
   ],
   "source": [
    "num_electrons = max([len(e) for e in df_electrons.Electron_E])\n",
    "num_electrons"
   ]
  },
  {
   "cell_type": "code",
   "execution_count": 62,
   "metadata": {},
   "outputs": [
    {
     "data": {
      "text/plain": [
       "3"
      ]
     },
     "execution_count": 62,
     "metadata": {},
     "output_type": "execute_result"
    }
   ],
   "source": [
    "num_muons = max([len(m) for m in df_muons.Muon_E])\n",
    "num_muons"
   ]
  },
  {
   "cell_type": "code",
   "execution_count": 63,
   "metadata": {},
   "outputs": [
    {
     "data": {
      "text/plain": [
       "2"
      ]
     },
     "execution_count": 63,
     "metadata": {},
     "output_type": "execute_result"
    }
   ],
   "source": [
    "num_photons = max([len(gam) for gam in df_photons.Photon_E])\n",
    "num_photons"
   ]
  },
  {
   "cell_type": "code",
   "execution_count": 64,
   "metadata": {},
   "outputs": [
    {
     "data": {
      "text/plain": [
       "9"
      ]
     },
     "execution_count": 64,
     "metadata": {},
     "output_type": "execute_result"
    }
   ],
   "source": [
    "num_jets = max([len(j) for j in df_jets.Jet_E])\n",
    "num_jets"
   ]
  },
  {
   "cell_type": "markdown",
   "metadata": {},
   "source": [
    "Just for the sake of variety, you can either have class labels like (0, 1, 2, 3, ...) and train using `spare_categorical_crossentropy` as you loss function -- like we did before -- or, equivalently, you can have class labels like ([1, 0, 0, 0, ...], [0, 1, 0, 0, ...], ...) and train using `categorical_crossentropy`."
   ]
  },
  {
   "cell_type": "code",
   "execution_count": 65,
   "metadata": {},
   "outputs": [
    {
     "data": {
      "text/plain": [
       "array([[0., 0., 1.],\n",
       "       [0., 1., 0.],\n",
       "       [0., 0., 1.],\n",
       "       ...,\n",
       "       [0., 1., 0.],\n",
       "       [0., 0., 1.],\n",
       "       [0., 0., 1.]], dtype=float32)"
      ]
     },
     "execution_count": 65,
     "metadata": {},
     "output_type": "execute_result"
    }
   ],
   "source": [
    "from keras.utils.np_utils import to_categorical\n",
    "y_train = to_categorical(y_train)\n",
    "y_test = to_categorical(y_test)\n",
    "y_train"
   ]
  },
  {
   "cell_type": "code",
   "execution_count": 66,
   "metadata": {},
   "outputs": [],
   "source": [
    "def create_stream(df, num_obj, sort_col):\n",
    "   \n",
    "    n_variables = df.shape[1]\n",
    "    var_names = df.keys()\n",
    "\n",
    "    data = np.zeros((df.shape[0], num_obj, n_variables), dtype='float32')\n",
    "\n",
    "    # -- call functions to build X (a.k.a. data)                                                                                                                                                                      \n",
    "    sort_objects(df, data, sort_col, num_obj)\n",
    "    \n",
    "    # -- ix_{train, test} from above or from previously stored ordering\n",
    "    Xobj_train = data[ix_train]\n",
    "    Xobj_test = data[ix_test]\n",
    "    \n",
    "    #print 'Scaling features ...'\n",
    "    scale(Xobj_train, var_names, savevars=True) # scale training sample and save scaling\n",
    "    scale(Xobj_test, var_names, savevars=False) # apply scaling to test set\n",
    "    return Xobj_train, Xobj_test"
   ]
  },
  {
   "cell_type": "code",
   "execution_count": 70,
   "metadata": {},
   "outputs": [],
   "source": [
    "def sort_objects(df, data, SORT_COL, max_nobj):\n",
    "    ''' \n",
    "    sort objects using your preferred variable\n",
    "    \n",
    "    Args:\n",
    "    -----\n",
    "        df: a dataframe with event-level structure where each event is described by a sequence of jets, muons, etc.\n",
    "        data: an array of shape (nb_events, nb_particles, nb_features)\n",
    "        SORT_COL: a string representing the column to sort the objects by\n",
    "        max_nobj: number of particles to cut off at. if >, truncate, else, -999 pad\n",
    "    \n",
    "    Returns:\n",
    "    --------\n",
    "        modifies @a data in place. Pads with -999\n",
    "    \n",
    "    '''\n",
    "    import tqdm\n",
    "    # i = event number, event = all the variables for that event \n",
    "    for i, event in tqdm.tqdm(df.iterrows(), total=df.shape[0]): \n",
    "\n",
    "        # objs = [[pt's], [eta's], ...] of particles for each event \n",
    "        objs = np.array(\n",
    "                [v.tolist() for v in event.to_numpy()], \n",
    "                dtype='float32'\n",
    "            )[:, (np.argsort(event[SORT_COL]))[::-1]]\n",
    "\n",
    "        # total number of tracks per jet      \n",
    "        nobjs = objs.shape[1] \n",
    "\n",
    "        # take all tracks unless there are more than n_tracks \n",
    "        data[i, :(min(nobjs, max_nobj)), :] = objs.T[:(min(nobjs, max_nobj)), :] \n",
    "\n",
    "        # default value for missing tracks \n",
    "        data[i, (min(nobjs, max_nobj)):, :  ] = -999 "
   ]
  },
  {
   "cell_type": "code",
   "execution_count": 71,
   "metadata": {},
   "outputs": [],
   "source": [
    "def scale(data, var_names, savevars, VAR_FILE_NAME='scaling.json'):\n",
    "    ''' \n",
    "    Args:\n",
    "    -----\n",
    "        data: a numpy array of shape (nb_events, nb_particles, n_variables)\n",
    "        var_names: list of keys to be used for the model\n",
    "        savevars: bool -- True for training, False for testing\n",
    "                  it decides whether we want to fit on data to find mean and std \n",
    "                  or if we want to use those stored in the json file \n",
    "    \n",
    "    Returns:\n",
    "    --------\n",
    "        modifies data in place, writes out scaling dictionary\n",
    "    '''\n",
    "    import json\n",
    "    \n",
    "    scale = {}\n",
    "    if savevars: \n",
    "        for v, name in enumerate(var_names):\n",
    "            #print 'Scaling feature %s of %s (%s).' % (v + 1, len(var_names), name)\n",
    "            f = data[:, :, v]\n",
    "            slc = f[f != -999]\n",
    "            m, s = slc.mean(), slc.std()\n",
    "            slc -= m\n",
    "            slc /= s\n",
    "            data[:, :, v][f != -999] = slc.astype('float32')\n",
    "            scale[name] = {'mean' : float(m), 'sd' : float(s)}\n",
    "            \n",
    "        with open(VAR_FILE_NAME, 'w') as varfile:\n",
    "            json.dump(scale, varfile)\n",
    "\n",
    "    else:\n",
    "        with open(VAR_FILE_NAME, 'r') as varfile:\n",
    "            varinfo = json.load(varfile)\n",
    "\n",
    "        for v, name in enumerate(var_names):\n",
    "            #print 'Scaling feature %s of %s (%s).' % (v + 1, len(var_names), name)\n",
    "            f = data[:, :, v]\n",
    "            slc = f[f != -999]\n",
    "            m = varinfo[name]['mean']\n",
    "            s = varinfo[name]['sd']\n",
    "            slc -= m\n",
    "            slc /= s\n",
    "            data[:, :, v][f != -999] = slc.astype('float32')"
   ]
  },
  {
   "cell_type": "code",
   "execution_count": 72,
   "metadata": {},
   "outputs": [
    {
     "name": "stderr",
     "output_type": "stream",
     "text": [
      "100%|██████████| 191981/191981 [00:24<00:00, 7941.72it/s]\n"
     ]
    }
   ],
   "source": [
    "Xjet_train, Xjet_test = create_stream(df_jets, num_jets, sort_col='Jet_btag')"
   ]
  },
  {
   "cell_type": "code",
   "execution_count": 73,
   "metadata": {
    "scrolled": true
   },
   "outputs": [
    {
     "name": "stderr",
     "output_type": "stream",
     "text": [
      "100%|██████████| 191981/191981 [00:25<00:00, 7511.48it/s]\n"
     ]
    }
   ],
   "source": [
    "Xphoton_train, Xphoton_test = create_stream(df_photons, num_photons, sort_col='Photon_E')"
   ]
  },
  {
   "cell_type": "code",
   "execution_count": 74,
   "metadata": {
    "scrolled": true
   },
   "outputs": [
    {
     "name": "stderr",
     "output_type": "stream",
     "text": [
      "100%|██████████| 191981/191981 [00:25<00:00, 7584.67it/s]\n"
     ]
    }
   ],
   "source": [
    "Xmuon_train, Xmuon_test = create_stream(df_muons, num_muons, sort_col='Muon_E')"
   ]
  },
  {
   "cell_type": "code",
   "execution_count": 75,
   "metadata": {},
   "outputs": [
    {
     "name": "stderr",
     "output_type": "stream",
     "text": [
      "100%|██████████| 191981/191981 [00:23<00:00, 8010.36it/s]\n"
     ]
    }
   ],
   "source": [
    "Xelectron_train, Xelectron_test = create_stream(df_electrons, num_electrons, sort_col='Electron_E')"
   ]
  },
  {
   "cell_type": "code",
   "execution_count": 76,
   "metadata": {},
   "outputs": [],
   "source": [
    "from keras.layers import Masking, GRU, concatenate"
   ]
  },
  {
   "cell_type": "code",
   "execution_count": 77,
   "metadata": {},
   "outputs": [],
   "source": [
    "JET_SHAPE = Xjet_train.shape[1:]\n",
    "MUON_SHAPE = Xmuon_train.shape[1:]\n",
    "ELECTRON_SHAPE = Xelectron_train.shape[1:]\n",
    "PHOTON_SHAPE = Xphoton_train.shape[1:]"
   ]
  },
  {
   "cell_type": "code",
   "execution_count": 78,
   "metadata": {},
   "outputs": [],
   "source": [
    "jet_input = Input(JET_SHAPE)\n",
    "jet_channel = Masking(mask_value=-999, name='jet_masking')(jet_input)\n",
    "jet_channel = GRU(25, name='jet_gru')(jet_channel)\n",
    "jet_channel = Dropout(0.3, name='jet_dropout')(jet_channel)\n",
    "\n",
    "muon_input = Input(MUON_SHAPE)\n",
    "muon_channel = Masking(mask_value=-999, name='muon_masking')(muon_input)\n",
    "muon_channel = GRU(10, name='muon_gru')(muon_channel)\n",
    "muon_channel = Dropout(0.3, name='muon_dropout')(muon_channel)\n",
    "\n",
    "electron_input = Input(ELECTRON_SHAPE)\n",
    "electron_channel = Masking(mask_value=-999, name='electron_masking')(electron_input)\n",
    "electron_channel = GRU(10, name='electron_gru')(electron_channel)\n",
    "electron_channel = Dropout(0.3, name='electron_dropout')(electron_channel)\n",
    "\n",
    "photon_input = Input(PHOTON_SHAPE)\n",
    "photon_channel = Masking(mask_value=-999, name='photon_masking')(photon_input)\n",
    "photon_channel = GRU(10, name='photon_gru')(photon_channel)\n",
    "photon_channel = Dropout(0.3, name='photon_dropout')(photon_channel)"
   ]
  },
  {
   "cell_type": "code",
   "execution_count": 79,
   "metadata": {},
   "outputs": [],
   "source": [
    "combined = concatenate([jet_channel, muon_channel, electron_channel, photon_channel])\n",
    "combined = Dense(64, activation = 'relu')(combined)\n",
    "combined = Dropout(0.3)(combined)\n",
    "combined = Dense(64, activation = 'relu')(combined)\n",
    "combined = Dropout(0.3)(combined)\n",
    "combined = Dense(64, activation = 'relu')(combined)\n",
    "combined = Dropout(0.3)(combined)\n",
    "combined_outputs = Dense(3, activation='softmax')(combined)"
   ]
  },
  {
   "cell_type": "code",
   "execution_count": 80,
   "metadata": {},
   "outputs": [
    {
     "name": "stdout",
     "output_type": "stream",
     "text": [
      "Model: \"model_1\"\n",
      "__________________________________________________________________________________________________\n",
      "Layer (type)                    Output Shape         Param #     Connected to                     \n",
      "==================================================================================================\n",
      "input_2 (InputLayer)            [(None, 9, 6)]       0                                            \n",
      "__________________________________________________________________________________________________\n",
      "input_3 (InputLayer)            [(None, 3, 6)]       0                                            \n",
      "__________________________________________________________________________________________________\n",
      "input_4 (InputLayer)            [(None, 2, 6)]       0                                            \n",
      "__________________________________________________________________________________________________\n",
      "input_5 (InputLayer)            [(None, 2, 5)]       0                                            \n",
      "__________________________________________________________________________________________________\n",
      "jet_masking (Masking)           (None, 9, 6)         0           input_2[0][0]                    \n",
      "__________________________________________________________________________________________________\n",
      "muon_masking (Masking)          (None, 3, 6)         0           input_3[0][0]                    \n",
      "__________________________________________________________________________________________________\n",
      "electron_masking (Masking)      (None, 2, 6)         0           input_4[0][0]                    \n",
      "__________________________________________________________________________________________________\n",
      "photon_masking (Masking)        (None, 2, 5)         0           input_5[0][0]                    \n",
      "__________________________________________________________________________________________________\n",
      "jet_gru (GRU)                   (None, 25)           2475        jet_masking[0][0]                \n",
      "__________________________________________________________________________________________________\n",
      "muon_gru (GRU)                  (None, 10)           540         muon_masking[0][0]               \n",
      "__________________________________________________________________________________________________\n",
      "electron_gru (GRU)              (None, 10)           540         electron_masking[0][0]           \n",
      "__________________________________________________________________________________________________\n",
      "photon_gru (GRU)                (None, 10)           510         photon_masking[0][0]             \n",
      "__________________________________________________________________________________________________\n",
      "jet_dropout (Dropout)           (None, 25)           0           jet_gru[0][0]                    \n",
      "__________________________________________________________________________________________________\n",
      "muon_dropout (Dropout)          (None, 10)           0           muon_gru[0][0]                   \n",
      "__________________________________________________________________________________________________\n",
      "electron_dropout (Dropout)      (None, 10)           0           electron_gru[0][0]               \n",
      "__________________________________________________________________________________________________\n",
      "photon_dropout (Dropout)        (None, 10)           0           photon_gru[0][0]                 \n",
      "__________________________________________________________________________________________________\n",
      "concatenate (Concatenate)       (None, 55)           0           jet_dropout[0][0]                \n",
      "                                                                 muon_dropout[0][0]               \n",
      "                                                                 electron_dropout[0][0]           \n",
      "                                                                 photon_dropout[0][0]             \n",
      "__________________________________________________________________________________________________\n",
      "dense_4 (Dense)                 (None, 64)           3584        concatenate[0][0]                \n",
      "__________________________________________________________________________________________________\n",
      "dropout_3 (Dropout)             (None, 64)           0           dense_4[0][0]                    \n",
      "__________________________________________________________________________________________________\n",
      "dense_5 (Dense)                 (None, 64)           4160        dropout_3[0][0]                  \n",
      "__________________________________________________________________________________________________\n",
      "dropout_4 (Dropout)             (None, 64)           0           dense_5[0][0]                    \n",
      "__________________________________________________________________________________________________\n",
      "dense_6 (Dense)                 (None, 64)           4160        dropout_4[0][0]                  \n",
      "__________________________________________________________________________________________________\n",
      "dropout_5 (Dropout)             (None, 64)           0           dense_6[0][0]                    \n",
      "__________________________________________________________________________________________________\n",
      "dense_7 (Dense)                 (None, 3)            195         dropout_5[0][0]                  \n",
      "==================================================================================================\n",
      "Total params: 16,164\n",
      "Trainable params: 16,164\n",
      "Non-trainable params: 0\n",
      "__________________________________________________________________________________________________\n"
     ]
    }
   ],
   "source": [
    "combined_rnn = Model(inputs=[jet_input, muon_input, electron_input, photon_input], outputs=combined_outputs)\n",
    "combined_rnn.summary()"
   ]
  },
  {
   "cell_type": "code",
   "execution_count": 81,
   "metadata": {},
   "outputs": [],
   "source": [
    "combined_rnn.compile('adam', 'categorical_crossentropy')"
   ]
  },
  {
   "cell_type": "code",
   "execution_count": 84,
   "metadata": {},
   "outputs": [
    {
     "name": "stdout",
     "output_type": "stream",
     "text": [
      "Epoch 1/30\n",
      "5760/5760 [==============================] - 34s 6ms/step - loss: 0.4318 - val_loss: 0.4351\n",
      "\n",
      "Epoch 00001: val_loss improved from inf to 0.43514, saving model to ./models/combinedrnn_tutorial-progress.h5\n",
      "Epoch 2/30\n",
      "5760/5760 [==============================] - 34s 6ms/step - loss: 0.4301 - val_loss: 0.4269\n",
      "\n",
      "Epoch 00002: val_loss improved from 0.43514 to 0.42689, saving model to ./models/combinedrnn_tutorial-progress.h5\n",
      "Epoch 3/30\n",
      "5760/5760 [==============================] - 35s 6ms/step - loss: 0.4280 - val_loss: 0.4529\n",
      "\n",
      "Epoch 00003: val_loss did not improve from 0.42689\n",
      "Epoch 4/30\n",
      "5760/5760 [==============================] - 36s 6ms/step - loss: 0.4295 - val_loss: 0.4243\n",
      "\n",
      "Epoch 00004: val_loss improved from 0.42689 to 0.42427, saving model to ./models/combinedrnn_tutorial-progress.h5\n",
      "Epoch 5/30\n",
      "5760/5760 [==============================] - 33s 6ms/step - loss: 0.4241 - val_loss: 0.4326\n",
      "\n",
      "Epoch 00005: val_loss did not improve from 0.42427\n",
      "Epoch 6/30\n",
      "5760/5760 [==============================] - 33s 6ms/step - loss: 0.4265 - val_loss: 0.4510\n",
      "\n",
      "Epoch 00006: val_loss did not improve from 0.42427\n",
      "Epoch 7/30\n",
      "5760/5760 [==============================] - 37s 6ms/step - loss: 0.4239 - val_loss: 0.4401\n",
      "\n",
      "Epoch 00007: val_loss did not improve from 0.42427\n",
      "Epoch 8/30\n",
      "5760/5760 [==============================] - 34s 6ms/step - loss: 0.4232 - val_loss: 0.4264\n",
      "\n",
      "Epoch 00008: val_loss did not improve from 0.42427\n",
      "Epoch 9/30\n",
      "5760/5760 [==============================] - 35s 6ms/step - loss: 0.4289 - val_loss: 0.4418\n",
      "\n",
      "Epoch 00009: val_loss did not improve from 0.42427\n",
      "Epoch 10/30\n",
      "5760/5760 [==============================] - 34s 6ms/step - loss: 0.4257 - val_loss: 0.4315\n",
      "\n",
      "Epoch 00010: val_loss did not improve from 0.42427\n",
      "Epoch 11/30\n",
      "5760/5760 [==============================] - 34s 6ms/step - loss: 0.4226 - val_loss: 0.4263\n",
      "\n",
      "Epoch 00011: val_loss did not improve from 0.42427\n",
      "Epoch 12/30\n",
      "5760/5760 [==============================] - 32s 6ms/step - loss: 0.4270 - val_loss: 0.4315\n",
      "\n",
      "Epoch 00012: val_loss did not improve from 0.42427\n",
      "Epoch 13/30\n",
      "5760/5760 [==============================] - 32s 5ms/step - loss: 0.4221 - val_loss: 0.4331\n",
      "\n",
      "Epoch 00013: val_loss did not improve from 0.42427\n",
      "Epoch 14/30\n",
      "5760/5760 [==============================] - 33s 6ms/step - loss: 0.4289 - val_loss: 0.4341\n",
      "\n",
      "Epoch 00014: val_loss did not improve from 0.42427\n",
      "Epoch 00014: early stopping\n"
     ]
    }
   ],
   "source": [
    "try:\n",
    "    combined_rnn.fit([Xjet_train, Xmuon_train, Xelectron_train, Xphoton_train], y_train, batch_size=16,\n",
    "            class_weight={\n",
    "                0 : 0.20 * (float(len(y)) / (y == 0).sum()),\n",
    "                1 : 0.40 * (float(len(y)) / (y == 1).sum()),\n",
    "                2 : 0.40 * (float(len(y)) / (y == 2).sum())\n",
    "        },\n",
    "        callbacks = [\n",
    "            EarlyStopping(verbose=True, patience=10, monitor='val_loss'),\n",
    "            ModelCheckpoint('./models/combinedrnn_tutorial-progress.h5', monitor='val_loss', verbose=True, save_best_only=True)\n",
    "        ],\n",
    "    epochs=30, \n",
    "    validation_split = 0.2) \n",
    "\n",
    "except KeyboardInterrupt:\n",
    "    print('Training ended early.')"
   ]
  },
  {
   "cell_type": "code",
   "execution_count": 85,
   "metadata": {},
   "outputs": [
    {
     "data": {
      "text/plain": [
       "9148"
      ]
     },
     "execution_count": 85,
     "metadata": {},
     "output_type": "execute_result"
    }
   ],
   "source": [
    "# -- load in best network\n",
    "combined_rnn.load_weights('./models/combinedrnn_tutorial-progress.h5')\n",
    "combined_rnn.save_weights('./models/combinedrnn_tutorial.h5', overwrite=True)\n",
    "\n",
    "json_string = combined_rnn.to_json()\n",
    "open('./models/combinedrnn_tutorial.json', 'w').write(json_string)"
   ]
  },
  {
   "cell_type": "code",
   "execution_count": 86,
   "metadata": {},
   "outputs": [
    {
     "name": "stdout",
     "output_type": "stream",
     "text": [
      "150/150 [==============================] - 6s 5ms/step\n"
     ]
    }
   ],
   "source": [
    "yhat_rnn = combined_rnn.predict([Xjet_test, Xmuon_test, Xelectron_test, Xphoton_test], verbose = True, batch_size = 512) "
   ]
  },
  {
   "cell_type": "code",
   "execution_count": 87,
   "metadata": {},
   "outputs": [
    {
     "name": "stdout",
     "output_type": "stream",
     "text": [
      "Normalized confusion matrix\n",
      "[[0.93 0.02 0.05]\n",
      " [0.02 0.57 0.4 ]\n",
      " [0.01 0.   0.98]]\n"
     ]
    },
    {
     "data": {
      "image/png": "[encoded data removed]",
      "text/plain": [
       "<Figure size 432x288 with 2 Axes>"
      ]
     },
     "metadata": {
      "needs_background": "light"
     },
     "output_type": "display_data"
    }
   ],
   "source": [
    "# Compute confusion matrix\n",
    "cnf_matrix_rnn = confusion_matrix(np.argmax(y_test, axis=1), np.argmax(yhat_rnn, axis=1), sample_weight=w_test)\n",
    "np.set_printoptions(precision=2)\n",
    "plot_confusion_matrix(cnf_matrix_rnn, classes=[r'$t\\overline{t}$', 'Drell Yan', r'$W$ + jets'],\n",
    "                      normalize=True,\n",
    "                      title='Normalized confusion matrix')"
   ]
  },
  {
   "cell_type": "code",
   "execution_count": 88,
   "metadata": {},
   "outputs": [],
   "source": [
    "# -- turn the predictions back into class labels\n",
    "yhat_rnn_cls = np.argmax(yhat_rnn, axis=1)"
   ]
  },
  {
   "cell_type": "code",
   "execution_count": 89,
   "metadata": {},
   "outputs": [],
   "source": [
    "# -- do the same for the truth labels\n",
    "y_test_cls = np.argmax(y_test, axis=1)"
   ]
  },
  {
   "cell_type": "code",
   "execution_count": 90,
   "metadata": {},
   "outputs": [
    {
     "name": "stdout",
     "output_type": "stream",
     "text": [
      "Signal efficiency: 0.9313264\n"
     ]
    }
   ],
   "source": [
    "print('Signal efficiency:', w_test[(y_test_cls == 0) & (yhat_rnn_cls == 0)].sum() / w_test[y_test_cls == 0].sum())"
   ]
  },
  {
   "cell_type": "code",
   "execution_count": 91,
   "metadata": {},
   "outputs": [
    {
     "name": "stdout",
     "output_type": "stream",
     "text": [
      "Background efficiency: 0.01571911\n",
      "Background rej: 63.61683267700604\n"
     ]
    }
   ],
   "source": [
    "b_eff = w_test[(y_test_cls != 0) & (yhat_rnn_cls == 0)].sum() / w_test[y_test_cls != 0].sum()\n",
    "print('Background efficiency:', b_eff)\n",
    "print('Background rej:', 1 / b_eff)"
   ]
  },
  {
   "cell_type": "markdown",
   "metadata": {},
   "source": [
    "# Further Readings"
   ]
  },
  {
   "cell_type": "markdown",
   "metadata": {},
   "source": [
    "1. <a href=\"https://iml.web.cern.ch/meetings\">List</a> of all IML meetings\n",
    "1. CERN Academic Training lecture series on Machine Learning (<a href=\"https://indico.cern.ch/event/619370/\">slides and videos</a>)\n",
    "1. \"Machine Learning Algorithms for b-Jet Tagging at the ATLAS Experiment\" (<a href=\"https://cds.cern.ch/record/2289214?ln=en\">ATL-PHYS-PROC-2017-211</a>)\n",
    "1. \"Deep Learning in Flavour Tagging at the ATLAS Experiment (<a href=\"https://cds.cern.ch/record/2287551?ln=en\">ATL-PHYS-PROC-2017-191</a>)\n",
    "1. \"Machine and Deep Learning Techniques in Heavy-Ion Collisions with ALICE\" ([arXiv](https://arxiv.org/pdf/1709.08497.pdf))\n",
    "1. \"Deep learning approach to the Higgs boson CP measurement in H → τ τ decay and associated systematics\" ([arXiv](https://arxiv.org/pdf/1706.07983.pdf))\n",
    "1. Luke de Oliveira's DataScience@LHC 2015 talk on \"A ground-up construction of deep learning\" ([video](https://cds.cern.ch/record/2093518?ln=en))\n",
    "1. Peter Sadowski's DataScience@LHC 2015 deep learning tutorial ([video](https://cds.cern.ch/record/2093535?ln=en))\n",
    "1. Pierre Baldi's DataScience@LHC 2015 talk on \"Deep learning and its apllications to the natural sciences\" ([video](https://cds.cern.ch/record/2093593?ln=en))\n",
    "1. Yann LeCun's CERN colloquium ([video](https://cds.cern.ch/record/2142287?ln=en))\n",
    "1. Fernanda Psihas's 2017 IML Workshop talk on \"Deep convolutional networks for event reconstruction and particle tagging on NOvA and DUNE\" ([video](https://cds.cern.ch/record/2256882?ln=en))"
   ]
  }
 ],
 "metadata": {
  "kernelspec": {
   "display_name": "Python 3",
   "language": "python",
   "name": "python3"
  },
  "language_info": {
   "codemirror_mode": {
    "name": "ipython",
    "version": 3
   },
   "file_extension": ".py",
   "mimetype": "text/x-python",
   "name": "python",
   "nbconvert_exporter": "python",
   "pygments_lexer": "ipython3",
   "version": "3.8.0"
  },
  "latex_envs": {
   "bibliofile": "biblio.bib",
   "cite_by": "apalike",
   "current_citInitial": 1,
   "eqLabelWithNumbers": true,
   "eqNumInitial": 0
  }
 },
 "nbformat": 4,
 "nbformat_minor": 1
}
